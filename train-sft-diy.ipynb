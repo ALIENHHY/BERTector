{
 "cells": [
  {
   "cell_type": "code",
   "execution_count": 1,
   "metadata": {},
   "outputs": [],
   "source": [
    "import pandas as pd\n",
    "from sklearn.model_selection import train_test_split\n",
    "from datasets import Dataset, DatasetDict\n",
    "data = pd.read_csv(\"./data/sft/NSL-KDD-100000-sft.csv\")\n",
    "# 划分训练集和验证集\n",
    "train_texts, eval_texts, train_labels, eval_labels = train_test_split(\n",
    "    data[\"flow\"].tolist(), data[\"class\"].tolist(), test_size=0.2, random_state=42\n",
    ")\n",
    "# 转换为 Hugging Face Dataset 格式\n",
    "dataset = DatasetDict({\n",
    "    \"train\": Dataset.from_dict({\"text\": train_texts, \"label\": train_labels}),\n",
    "    \"eval\": Dataset.from_dict({\"text\": eval_texts, \"label\": eval_labels})\n",
    "})"
   ]
  },
  {
   "cell_type": "code",
   "execution_count": 2,
   "metadata": {},
   "outputs": [
    {
     "name": "stdout",
     "output_type": "stream",
     "text": [
      "实际设定的 max_length: 41\n"
     ]
    }
   ],
   "source": [
    "# 遍历数据，找到最长文本的长度（基于逗号分词）\n",
    "text_lengths = [len(text.split(\",\")) for text in data[\"flow\"].tolist()]\n",
    "max_length = max(text_lengths)\n",
    "print(f\"实际设定的 max_length: {max_length}\")"
   ]
  },
  {
   "cell_type": "code",
   "execution_count": 3,
   "metadata": {},
   "outputs": [],
   "source": [
    "from transformers import BertTokenizer\n",
    "# 加载 BERT 分词器\n",
    "tokenizer = BertTokenizer.from_pretrained(\"bert-base-uncased\")\n",
    "# 逗号分词 + 重新转换为 BERT 需要的 `input_ids`\n",
    "def custom_tokenize_function(examples):\n",
    "    # 逗号分词\n",
    "    tokenized_texts = [text.split(\",\") for text in examples[\"text\"]]\n",
    "    # 将每个短语转换为 BERT input_ids\n",
    "    encodings = tokenizer(\n",
    "        tokenized_texts,  # 逗号分词后的文本\n",
    "        padding=\"max_length\",\n",
    "        max_length=max_length,\n",
    "        truncation=True,\n",
    "        is_split_into_words=True  # 关键参数：告诉 tokenizer 文本已经被手动分词\n",
    "    )\n",
    "    return encodings"
   ]
  },
  {
   "cell_type": "code",
   "execution_count": 4,
   "metadata": {},
   "outputs": [
    {
     "data": {
      "application/vnd.jupyter.widget-view+json": {
       "model_id": "f979cd9130594a288e42e10ca07aff26",
       "version_major": 2,
       "version_minor": 0
      },
      "text/plain": [
       "Map:   0%|          | 0/80000 [00:00<?, ? examples/s]"
      ]
     },
     "metadata": {},
     "output_type": "display_data"
    },
    {
     "data": {
      "application/vnd.jupyter.widget-view+json": {
       "model_id": "c768bef8563541229e132c7c818bd6ea",
       "version_major": 2,
       "version_minor": 0
      },
      "text/plain": [
       "Map:   0%|          | 0/20000 [00:00<?, ? examples/s]"
      ]
     },
     "metadata": {},
     "output_type": "display_data"
    }
   ],
   "source": [
    "tokenized_datasets = dataset.map(custom_tokenize_function, batched=True)\n",
    "train_dataset = tokenized_datasets[\"train\"].shuffle(seed=42)\n",
    "eval_dataset = tokenized_datasets[\"eval\"].shuffle(seed=42)"
   ]
  },
  {
   "cell_type": "code",
   "execution_count": 5,
   "metadata": {},
   "outputs": [
    {
     "name": "stderr",
     "output_type": "stream",
     "text": [
      "Some weights of BertForSequenceClassification were not initialized from the model checkpoint at bert-base-uncased and are newly initialized: ['classifier.bias', 'classifier.weight']\n",
      "You should probably TRAIN this model on a down-stream task to be able to use it for predictions and inference.\n"
     ]
    }
   ],
   "source": [
    "from transformers import AutoModelForSequenceClassification\n",
    "model = AutoModelForSequenceClassification.from_pretrained(\"bert-base-uncased\", num_labels=2, hidden_dropout_prob=0.2)"
   ]
  },
  {
   "cell_type": "code",
   "execution_count": 6,
   "metadata": {},
   "outputs": [],
   "source": [
    "from sklearn.metrics import accuracy_score, precision_recall_fscore_support\n",
    "import numpy as np\n",
    "def compute_metrics(eval_pred):\n",
    "    logits, labels = eval_pred\n",
    "    predictions = np.argmax(logits, axis=-1)\n",
    "    acc = accuracy_score(labels, predictions)\n",
    "    precision, recall, f1, _ = precision_recall_fscore_support(labels, predictions, average=\"binary\")\n",
    "    return {\n",
    "        \"eval_loss\": float(np.mean(logits)),  # 确保 `eval_loss` 存在\n",
    "        \"accuracy\": acc,\n",
    "        \"precision\": precision,\n",
    "        \"recall\": recall,\n",
    "        \"f1\": f1,\n",
    "    }"
   ]
  },
  {
   "cell_type": "code",
   "execution_count": null,
   "metadata": {},
   "outputs": [],
   "source": [
    "from transformers import TrainingArguments, Trainer, EarlyStoppingCallback\n",
    "training_args = TrainingArguments(\n",
    "    output_dir=\"./trainer/test_trainer-sft-diy\",\n",
    "    eval_strategy=\"epoch\",\n",
    "    save_strategy=\"epoch\",  # 每个 epoch 保存一次模型\n",
    "    save_steps=None,  # 取消按steps保存\n",
    "    learning_rate=2e-5,  # 学习率  2e-5\n",
    "    per_device_train_batch_size=64,  # 适当增加 batch_size，默认 8\n",
    "    per_device_eval_batch_size=64,\n",
    "    num_train_epochs=5,  # 降低训练轮数，避免过拟合\n",
    "    weight_decay=0.02,  # 加入 L2 正则化\n",
    "    load_best_model_at_end=True,  # 训练结束后加载最佳模型\n",
    "    logging_strategy=\"epoch\",  # 确保每个 epoch 打印 loss\n",
    "    # logging_steps=500,  # 或者按步数打印\n",
    ")\n",
    "\n",
    "trainer = Trainer(\n",
    "    model=model,\n",
    "    args=training_args,\n",
    "    train_dataset=train_dataset,\n",
    "    eval_dataset=eval_dataset,\n",
    "    compute_metrics=compute_metrics,\n",
    "    callbacks=[EarlyStoppingCallback(early_stopping_patience=3)]  # 设置早停机制\n",
    ")"
   ]
  },
  {
   "cell_type": "code",
   "execution_count": 9,
   "metadata": {},
   "outputs": [
    {
     "data": {
      "text/html": [
       "\n",
       "    <div>\n",
       "      \n",
       "      <progress value='6250' max='6250' style='width:300px; height:20px; vertical-align: middle;'></progress>\n",
       "      [6250/6250 19:59, Epoch 5/5]\n",
       "    </div>\n",
       "    <table border=\"1\" class=\"dataframe\">\n",
       "  <thead>\n",
       " <tr style=\"text-align: left;\">\n",
       "      <th>Epoch</th>\n",
       "      <th>Training Loss</th>\n",
       "      <th>Validation Loss</th>\n",
       "      <th>Accuracy</th>\n",
       "      <th>Precision</th>\n",
       "      <th>Recall</th>\n",
       "      <th>F1</th>\n",
       "    </tr>\n",
       "  </thead>\n",
       "  <tbody>\n",
       "    <tr>\n",
       "      <td>1</td>\n",
       "      <td>0.044600</td>\n",
       "      <td>0.012943</td>\n",
       "      <td>0.996800</td>\n",
       "      <td>0.995583</td>\n",
       "      <td>0.998398</td>\n",
       "      <td>0.996989</td>\n",
       "    </tr>\n",
       "    <tr>\n",
       "      <td>2</td>\n",
       "      <td>0.012400</td>\n",
       "      <td>0.012730</td>\n",
       "      <td>0.997200</td>\n",
       "      <td>0.995586</td>\n",
       "      <td>0.999152</td>\n",
       "      <td>0.997366</td>\n",
       "    </tr>\n",
       "    <tr>\n",
       "      <td>3</td>\n",
       "      <td>0.008700</td>\n",
       "      <td>0.004771</td>\n",
       "      <td>0.998650</td>\n",
       "      <td>0.998775</td>\n",
       "      <td>0.998681</td>\n",
       "      <td>0.998728</td>\n",
       "    </tr>\n",
       "    <tr>\n",
       "      <td>4</td>\n",
       "      <td>0.005800</td>\n",
       "      <td>0.006150</td>\n",
       "      <td>0.998250</td>\n",
       "      <td>0.997647</td>\n",
       "      <td>0.999058</td>\n",
       "      <td>0.998352</td>\n",
       "    </tr>\n",
       "    <tr>\n",
       "      <td>5</td>\n",
       "      <td>0.004100</td>\n",
       "      <td>0.003904</td>\n",
       "      <td>0.998900</td>\n",
       "      <td>0.998775</td>\n",
       "      <td>0.999152</td>\n",
       "      <td>0.998964</td>\n",
       "    </tr>\n",
       "  </tbody>\n",
       "</table><p>"
      ],
      "text/plain": [
       "<IPython.core.display.HTML object>"
      ]
     },
     "metadata": {},
     "output_type": "display_data"
    },
    {
     "data": {
      "text/plain": [
       "TrainOutput(global_step=6250, training_loss=0.015123786392211914, metrics={'train_runtime': 1200.3454, 'train_samples_per_second': 333.237, 'train_steps_per_second': 5.207, 'total_flos': 8427775992000000.0, 'train_loss': 0.015123786392211914, 'epoch': 5.0})"
      ]
     },
     "execution_count": 9,
     "metadata": {},
     "output_type": "execute_result"
    }
   ],
   "source": [
    "trainer.train()"
   ]
  }
 ],
 "metadata": {
  "kernelspec": {
   "display_name": "Python 3",
   "language": "python",
   "name": "python3"
  },
  "language_info": {
   "codemirror_mode": {
    "name": "ipython",
    "version": 3
   },
   "file_extension": ".py",
   "mimetype": "text/x-python",
   "name": "python",
   "nbconvert_exporter": "python",
   "pygments_lexer": "ipython3",
   "version": "3.13.2"
  }
 },
 "nbformat": 4,
 "nbformat_minor": 2
}
