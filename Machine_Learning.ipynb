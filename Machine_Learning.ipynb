{
 "cells": [
  {
   "cell_type": "code",
   "execution_count": 783,
   "metadata": {},
   "outputs": [],
   "source": [
    "import pandas as pd\n",
    "import numpy as np\n",
    "from sklearn.preprocessing import LabelEncoder\n",
    "from sklearn.metrics import accuracy_score, precision_score, recall_score, f1_score, confusion_matrix\n",
    "from sklearn.tree import DecisionTreeClassifier\n",
    "from sklearn.ensemble import RandomForestClassifier, GradientBoostingClassifier\n",
    "from sklearn.svm import SVC\n",
    "from sklearn.neighbors import KNeighborsClassifier\n",
    "from sklearn.linear_model import LogisticRegression\n",
    "from xgboost import XGBClassifier\n",
    "from sklearn.ensemble import RandomForestClassifier\n",
    "from sklearn.feature_selection import SelectFromModel\n",
    "from sklearn.model_selection import train_test_split\n",
    "import matplotlib.pyplot as plt\n",
    "import seaborn as sns  # 如果想要更方便地可视化混淆矩阵，可以使用 seaborn\n",
    "from tqdm import tqdm   # 用于进度条\n",
    "from sklearn.preprocessing import StandardScaler, MinMaxScaler, RobustScaler, LabelEncoder, OneHotEncoder"
   ]
  },
  {
   "cell_type": "markdown",
   "metadata": {},
   "source": [
    "| 方法 | 适用场景 | 优点 | 缺点 |\n",
    "|------|----------|------|------|\n",
    "| **方差过滤** | 特征数据较多，但部分特征几乎无变化 | 简单高效 | 可能误删重要特征 |\n",
    "| **相关性分析** | 需要快速找出与目标变量相关的特征 | 可解释性强 | 仅适用于线性关系 |\n",
    "| **递归特征消除 (RFE)** | 需要选择固定数量的重要特征 | 适用于各种模型 | 计算量较大 |\n",
    "| **Lasso (L1 正则化)** | 数据含有冗余特征 | 可自动筛选特征 | 只适用于线性模型 |\n",
    "| **随机森林特征选择** | 适用于分类问题 | 适用于高维数据 | 计算量大 |\n",
    "| **LightGBM 重要性** | 数据量大、特征多 | 高效、适用于大规模数据 | 需要调整超参数 |\n"
   ]
  },
  {
   "cell_type": "code",
   "execution_count": 784,
   "metadata": {},
   "outputs": [],
   "source": [
    "from sklearn.feature_selection import RFE\n",
    "from sklearn.ensemble import RandomForestClassifier\n",
    "\n",
    "def rfe_selection(df, target_column, n_features_to_select=5):\n",
    "    \"\"\"\n",
    "    使用RFE（递归特征消除）选择特征\n",
    "    \n",
    "    参数:\n",
    "    df: DataFrame - 输入数据集\n",
    "    target_column: str - 目标变量列名\n",
    "    n_features_to_select: int - 选择的特征数量（默认5）\n",
    "    \n",
    "    返回:\n",
    "    selected_features: list - 选出的特征名列表\n",
    "    \"\"\"\n",
    "    X = df.drop([target_column], axis=1)\n",
    "    y = df[target_column]\n",
    "\n",
    "    model = RandomForestClassifier(n_estimators=100, random_state=42)\n",
    "    selector = RFE(model, n_features_to_select=n_features_to_select)\n",
    "    selector.fit(X, y)\n",
    "    \n",
    "    selected_features = X.columns[selector.support_].tolist()\n",
    "    return selected_features\n"
   ]
  },
  {
   "cell_type": "code",
   "execution_count": 785,
   "metadata": {},
   "outputs": [],
   "source": [
    "from sklearn.linear_model import Lasso\n",
    "from sklearn.preprocessing import StandardScaler\n",
    "\n",
    "def lasso_selection(df, target_column, alpha=0.01):\n",
    "    \"\"\"\n",
    "    使用 Lasso 回归进行特征选择\n",
    "    \n",
    "    参数:\n",
    "    df: DataFrame - 输入数据集\n",
    "    target_column: str - 目标变量列名\n",
    "    alpha: float - Lasso 回归的正则化参数（默认0.01）\n",
    "    \n",
    "    返回:\n",
    "    selected_features: list - 选出的特征名列表\n",
    "    \"\"\"\n",
    "    X = df.drop([target_column], axis=1)\n",
    "    y = df[target_column]\n",
    "\n",
    "    scaler = StandardScaler()\n",
    "    X_scaled = scaler.fit_transform(X)\n",
    "\n",
    "    lasso = Lasso(alpha=alpha)\n",
    "    lasso.fit(X_scaled, y)\n",
    "\n",
    "    selected_features = X.columns[lasso.coef_ != 0].tolist()\n",
    "    return selected_features\n"
   ]
  },
  {
   "cell_type": "code",
   "execution_count": 786,
   "metadata": {},
   "outputs": [],
   "source": [
    "import lightgbm as lgb\n",
    "\n",
    "def lgbm_feature_selection(df, target_column, num_features=10):\n",
    "    \"\"\"\n",
    "    使用 LightGBM 选择特征\n",
    "    \n",
    "    参数:\n",
    "    df: DataFrame - 输入数据集\n",
    "    target_column: str - 目标变量列名\n",
    "    num_features: int - 选择的特征数量（默认10）\n",
    "    \n",
    "    返回:\n",
    "    selected_features: list - 选出的特征名列表\n",
    "    \"\"\"\n",
    "    X = df.drop([target_column], axis=1)\n",
    "    y = df[target_column]\n",
    "\n",
    "    model = lgb.LGBMClassifier(n_estimators=100, random_state=42)\n",
    "    model.fit(X, y)\n",
    "\n",
    "    feature_importances = pd.Series(model.feature_importances_, index=X.columns)\n",
    "    selected_features = feature_importances.nlargest(num_features).index.tolist()\n",
    "    return selected_features\n"
   ]
  },
  {
   "cell_type": "code",
   "execution_count": 787,
   "metadata": {},
   "outputs": [],
   "source": [
    "\n",
    "from sklearn.ensemble import RandomForestClassifier\n",
    "from sklearn.feature_selection import SelectFromModel\n",
    "from sklearn.model_selection import train_test_split\n",
    "\n",
    "def select_features_with_rf(df, target_column, test_size=0.3, n_estimators=100, random_state=42):\n",
    "    \"\"\"\n",
    "    使用随机森林进行特征选择\n",
    "    \n",
    "    参数:\n",
    "    df: DataFrame - 输入数据集\n",
    "    target_column: str - 目标变量列名\n",
    "    test_size: float - 测试集比例 (默认 0.3)\n",
    "    n_estimators: int - 随机森林树的数量 (默认 100)\n",
    "    random_state: int - 随机种子，确保结果可复现 (默认 42)\n",
    "    \n",
    "    返回:\n",
    "    selected_features: list - 选出的特征名列表\n",
    "    X_train_selected: DataFrame - 训练集筛选后的特征\n",
    "    X_test_selected: DataFrame - 测试集筛选后的特征\n",
    "    y_train: Series - 训练集目标变量\n",
    "    y_test: Series - 测试集目标变量\n",
    "    \"\"\"\n",
    "    \n",
    "    # 1. 分离特征和目标变量\n",
    "    #df = pd.read_csv(train_path)\n",
    "    #X, y = preprocess_data(df)\n",
    "\n",
    "    X = df.drop([target_column], axis=1)\n",
    "    y = df[target_column]\n",
    "\n",
    "    # 2. 划分训练集和测试集\n",
    "    X_train, X_test, y_train, y_test = train_test_split(X, y, test_size=test_size, random_state=random_state)\n",
    "    #print(f\"训练集: {X_train.shape}, 测试集: {X_test.shape}\")\n",
    "\n",
    "    # 3. 训练随机森林模型\n",
    "    rf = RandomForestClassifier(n_estimators=n_estimators, random_state=random_state)\n",
    "    rf.fit(X_train, y_train)\n",
    "\n",
    "    # 4. 使用 SelectFromModel 进行特征选择\n",
    "    sel = SelectFromModel(rf)\n",
    "    sel.fit(X_train, y_train)\n",
    "\n",
    "    # 5. 获取被选中的特征\n",
    "    selected_features = X_train.columns[sel.get_support()].tolist()\n",
    "\n",
    "\n",
    "    return selected_features"
   ]
  },
  {
   "cell_type": "code",
   "execution_count": 788,
   "metadata": {},
   "outputs": [],
   "source": [
    "# -----------------------------------------------------------------------------\n",
    "# 1. 数据预处理函数\n",
    "# -----------------------------------------------------------------------------\n",
    "def preprocess_data(df):\n",
    "    \"\"\"\n",
    "    对数据进行预处理：\n",
    "    1. 将object类型或可能是字符串类型的特征进行编码（标签编码）\n",
    "    2. 提取特征X和标签y\n",
    "    \"\"\"\n",
    "    # 假设最后一列class为标签\n",
    "    # 如果列名为 'class'，则：\n",
    "    if 'class' not in df.columns:\n",
    "        raise ValueError(\"DataFrame 中未找到 'class' 列，请检查数据。\")\n",
    "    \n",
    "    #df = df.drop(columns=['id', 'attack_cat'])  # 删除无用列\n",
    "\n",
    "    # 版本 1: Label Encoding (适合决策树、随机森林、XGBoost)\n",
    "    categorical_columns = ['protocol_type', 'service', 'flag']\n",
    "    df_label = df.copy()\n",
    "    label_encoders = {}\n",
    "    for col in categorical_columns:\n",
    "        le = LabelEncoder()\n",
    "        df_label[col] = le.fit_transform(df[col])\n",
    "        label_encoders[col] = le  # 存储编码器，便于逆向转换\n",
    "    \n",
    "    print(\"Label Encoding 完成...\")\n",
    "\n",
    "    # 标准化数值特征（不包括 label）\n",
    "    numerical_columns = df.select_dtypes(include=['int64', 'float64']).columns.tolist()\n",
    "    numerical_columns.remove('class')  # 不对标签列进行标准化\n",
    "    \n",
    "    # 标准化方法\n",
    "    scaler_standard = StandardScaler()\n",
    "    scaler_minmax = MinMaxScaler()\n",
    "    scaler_robust = RobustScaler()\n",
    "\n",
    "    df_standard = df_label.copy()\n",
    "    #df_minmax = df_label.copy()\n",
    "    #df_robust = df_label.copy()\n",
    "\n",
    "    df_standard[numerical_columns] = scaler_standard.fit_transform(df_standard[numerical_columns])\n",
    "    \n",
    "    print(\"标准化数值特征完成...\")\n",
    "    #df_minmax[numerical_columns] = scaler_minmax.fit_transform(df_minmax[numerical_columns])\n",
    "    #df_robust[numerical_columns] = scaler_robust.fit_transform(df_robust[numerical_columns])\n",
    "\n",
    "    #select_features=select_features_with_rf(df_standard, 'label')\n",
    "    #df_standard=df_standard[select_features+['label']]\n",
    "\n",
    "    # 分离特征和标签\n",
    "    #X = df_standard.drop('label', axis=1)\n",
    "    #y = df_standard['label']\n",
    "\n",
    "    return df_standard"
   ]
  },
  {
   "cell_type": "code",
   "execution_count": 789,
   "metadata": {},
   "outputs": [],
   "source": [
    "def preprocess_data_select(df_standard): \n",
    "    \n",
    "    select_features=select_features_with_rf(df_standard, 'class')\n",
    "    df_standard=df_standard[select_features+['class']]\n",
    "    \n",
    "    return df_standard, select_features"
   ]
  },
  {
   "cell_type": "code",
   "execution_count": 790,
   "metadata": {},
   "outputs": [],
   "source": [
    "# -----------------------------------------------------------------------------\n",
    "# 2. 模型选择函数\n",
    "# -----------------------------------------------------------------------------\n",
    "def choose_model(model_name='RF'):\n",
    "    \"\"\"\n",
    "    根据输入的模型名称，返回对应的机器学习模型实例。\n",
    "    可根据需求在此扩展更多模型。\n",
    "    \"\"\"\n",
    "    model_name = model_name.lower()\n",
    "    if model_name == 'dt':\n",
    "        # 决策树\n",
    "        return DecisionTreeClassifier(random_state=42)\n",
    "    elif model_name == 'rf':\n",
    "        # 随机森林\n",
    "        return RandomForestClassifier(n_estimators=100, random_state=42)\n",
    "    elif model_name == 'svm':\n",
    "        # 支持向量机\n",
    "        return SVC(kernel='rbf', probability=True, random_state=42)\n",
    "    elif model_name == 'knn':\n",
    "        # K近邻\n",
    "        return KNeighborsClassifier(n_neighbors=5)\n",
    "    elif model_name == 'gbm':\n",
    "        # 梯度提升\n",
    "        return GradientBoostingClassifier(n_estimators=100, learning_rate=0.1, random_state=42)\n",
    "    elif model_name == 'lr':\n",
    "        # 逻辑回归\n",
    "        return LogisticRegression(max_iter=1000, random_state=42)\n",
    "    elif model_name == 'xgboost':\n",
    "        # XGBoost\n",
    "        return XGBClassifier(use_label_encoder=False, eval_metric='logloss', random_state=42)\n",
    "    else:\n",
    "        print(f\"未匹配到指定模型 {model_name}，默认使用随机森林 (RF)。\")\n",
    "        return RandomForestClassifier(n_estimators=100, random_state=42)"
   ]
  },
  {
   "cell_type": "code",
   "execution_count": 791,
   "metadata": {},
   "outputs": [],
   "source": [
    "# -----------------------------------------------------------------------------\n",
    "# 3. 训练函数\n",
    "# -----------------------------------------------------------------------------\n",
    "def train_model(model, train_path):\n",
    "    \"\"\"\n",
    "    使用给定的模型和训练集路径对模型进行训练。\n",
    "    返回训练好的模型，以及预处理后的训练特征和标签。\n",
    "    \"\"\"\n",
    "    print(f\"开始加载训练数据：{train_path}\")\n",
    "    df_train = pd.read_csv(train_path)\n",
    "    print(\"开始对训练数据进行预处理...\")\n",
    "    \n",
    "    df_train = preprocess_data(df_train)\n",
    "    df_train,select_features= preprocess_data_select(df_train)\n",
    "    \n",
    "    # 分离特征和标签\n",
    "    X_train = df_train.drop('class', axis=1)\n",
    "    y_train = df_train['class']\n",
    "\n",
    "    #print(X_train)\n",
    "\n",
    "    print(\"开始训练模型...\")\n",
    "    # 这里加一个进度条来模拟训练过程；一般情况下，训练过程本身不一定能直接在tqdm中显示（要看模型是否支持迭代输出）\n",
    "    for _ in tqdm(range(1), desc=\"Training\"):\n",
    "        model.fit(X_train, y_train)\n",
    "    print(\"训练完成！\")\n",
    "    return model, X_train, y_train ,select_features"
   ]
  },
  {
   "cell_type": "code",
   "execution_count": null,
   "metadata": {},
   "outputs": [],
   "source": [
    "# -----------------------------------------------------------------------------\n",
    "# 4. 测试函数\n",
    "# -----------------------------------------------------------------------------\n",
    "def test_model(model, test_path, select_features, batch_size=1000):\n",
    "    \"\"\"\n",
    "    使用给定的模型和测试集路径对模型进行测试。\n",
    "    返回评估指标分数，并可视化混淆矩阵。\n",
    "    使用批量预测来提升速度，同时保留进度条。\n",
    "    \n",
    "    参数:\n",
    "    - model: 训练好的模型\n",
    "    - test_path: 测试集CSV文件路径\n",
    "    - batch_size: 每批预测的数据量大小\n",
    "    \"\"\"\n",
    "\n",
    "    print(f\"开始加载测试数据：{test_path}\")\n",
    "    df_test = pd.read_csv(test_path)\n",
    "\n",
    "    print(\"开始对测试数据进行预处理...\")\n",
    "\n",
    "    df_test = preprocess_data(df_test)\n",
    "    #print(df_test.columns)\n",
    "    #df_test, select_features_test= preprocess_data_select(df_test)\n",
    "    #print(select_features)\n",
    "\n",
    "    # 分离特征和标签\n",
    "    X_test = df_test.drop('class', axis=1)\n",
    "    y_test = df_test['class']\n",
    "    X_test = X_test[select_features]\n",
    "\n",
    "    #print(X_test)\n",
    "\n",
    "    print(\"开始预测...\")\n",
    "    # 如果不需要进度条，或对小数据集，直接使用 model.predict(X_test) 即可:\n",
    "    # y_pred = model.predict(X_test)\n",
    "    #\n",
    "    # 下面使用批量预测方式 + tqdm 进度条的写法：\n",
    "    predictions = []\n",
    "    # range(0, len(X_test), batch_size) 可以把测试集分成若干批次\n",
    "    for start_idx in tqdm(range(0, len(X_test), batch_size), desc=\"Predicting\"):\n",
    "        end_idx = min(start_idx + batch_size, len(X_test))\n",
    "        # 按批次取出数据\n",
    "        X_batch = X_test.iloc[start_idx:end_idx]\n",
    "        # 一次预测该批次所有样本\n",
    "        batch_preds = model.predict(X_batch)\n",
    "        # 收集到predictions中\n",
    "        predictions.extend(batch_preds)\n",
    "    # 转为数组\n",
    "    y_pred = np.array(predictions)\n",
    "    # 计算指标\n",
    "    acc = accuracy_score(y_test, y_pred)\n",
    "    precision = precision_score(y_test, y_pred, average='binary', zero_division=0)\n",
    "    recall = recall_score(y_test, y_pred, average='binary', zero_division=0)\n",
    "    f1 = f1_score(y_test, y_pred, average='binary', zero_division=0)\n",
    "    print(f\"\\n测试结果：\\nAccuracy = {acc:.20f}\\nPrecision = {precision:.20f}\\nRecall = {recall:.20f}\\nF1-Score = {f1:.20f}\")\n",
    "    \n",
    "    '''\n",
    "    # 可视化混淆矩阵\n",
    "    cm = confusion_matrix(y_test, y_pred)\n",
    "    plt.figure()\n",
    "    sns.heatmap(cm, annot=True, fmt='d', cmap='Blues')\n",
    "    plt.title('Confusion Matrix')\n",
    "    plt.xlabel('Predicted')\n",
    "    plt.ylabel('True')\n",
    "    plt.show()\n",
    "    '''\n",
    "\n",
    "    return acc, precision, recall, f1"
   ]
  },
  {
   "cell_type": "code",
   "execution_count": 796,
   "metadata": {},
   "outputs": [
    {
     "name": "stdout",
     "output_type": "stream",
     "text": [
      "开始加载训练数据：NSL_KDD_train_split.csv\n",
      "开始对训练数据进行预处理...\n",
      "Label Encoding 完成...\n",
      "标准化数值特征完成...\n",
      "开始训练模型...\n"
     ]
    },
    {
     "name": "stderr",
     "output_type": "stream",
     "text": [
      "Training: 100%|██████████| 1/1 [00:03<00:00,  3.42s/it]"
     ]
    },
    {
     "name": "stdout",
     "output_type": "stream",
     "text": [
      "训练完成！\n"
     ]
    },
    {
     "name": "stderr",
     "output_type": "stream",
     "text": [
      "\n"
     ]
    }
   ],
   "source": [
    "# -----------------------------------------------------------------------------\n",
    "# 主流程示例\n",
    "# -----------------------------------------------------------------------------\n",
    "selected_model_name = 'RF'  # 'RF', 'SVM', 'KNN', 'GBM', 'DT', 'LR', 'xgboost' 等\n",
    "model = choose_model(selected_model_name)\n",
    "# 设置训练集和测试集路径\n",
    "train_csv_path = 'NSL_KDD_train_split.csv'\n",
    "# 训练模型\n",
    "model, X_train, y_train ,select_features = train_model(model, train_csv_path)\n",
    "#print(select_features)"
   ]
  },
  {
   "cell_type": "code",
   "execution_count": null,
   "metadata": {},
   "outputs": [
    {
     "name": "stdout",
     "output_type": "stream",
     "text": [
      "开始加载测试数据：NSL-KDD-Gamma.csv\n",
      "开始对测试数据进行预处理...\n",
      "Label Encoding 完成...\n",
      "标准化数值特征完成...\n",
      "开始预测...\n"
     ]
    },
    {
     "name": "stderr",
     "output_type": "stream",
     "text": [
      "Predicting: 100%|██████████| 10/10 [00:00<00:00, 196.06it/s]"
     ]
    },
    {
     "name": "stdout",
     "output_type": "stream",
     "text": [
      "\n",
      "测试结果：\n",
      "Accuracy = 0.80568056805680565713\n",
      "Precision = 0.92296476306196839623\n",
      "Recall = 0.70022123893805310324\n",
      "F1-Score = 0.79630988573225702787\n"
     ]
    },
    {
     "name": "stderr",
     "output_type": "stream",
     "text": [
      "\n"
     ]
    },
    {
     "data": {
      "image/png": "[encoded data removed]",
      "text/plain": [
       "<Figure size 640x480 with 2 Axes>"
      ]
     },
     "metadata": {},
     "output_type": "display_data"
    }
   ],
   "source": [
    "# 测试模型\n",
    "# 你可以调整batch_size，如1000、5000、甚至一次性预测\n",
    "#test_csv_path = 'NSL_KDD_test_split.csv'\n",
    "#test_csv_path = 'NSL-KDD-Gaussian.csv'\n",
    "#test_csv_path = 'NSL-KDD-Uniform.csv'\n",
    "#test_csv_path = 'NSL-KDD-Laplace.csv'\n",
    "test_csv_path = 'NSL-KDD-Gamma.csv'\n",
    "#test_csv_path = 'NSL-KDD-Poisson.csv'\n",
    "#test_csv_path = 'NSL-KDD-Binomial.csv'\n",
    "#test_csv_path = 'NSL-KDD-Beta.csv'\n",
    "#test_csv_path = 'NSL-KDD-Cauchy.csv'\n",
    "acc, precision, recall, f1 = test_model(model, test_csv_path, select_features, batch_size=1000)"
   ]
  },
  {
   "cell_type": "code",
   "execution_count": null,
   "metadata": {},
   "outputs": [
    {
     "name": "stdout",
     "output_type": "stream",
     "text": [
      "Training and testing model: RF\n",
      "开始加载训练数据：NSL_KDD_train_split.csv\n",
      "开始对训练数据进行预处理...\n",
      "Label Encoding 完成...\n",
      "标准化数值特征完成...\n",
      "开始训练模型...\n"
     ]
    },
    {
     "name": "stderr",
     "output_type": "stream",
     "text": [
      "Training: 100%|██████████| 1/1 [00:03<00:00,  3.35s/it]\n"
     ]
    },
    {
     "name": "stdout",
     "output_type": "stream",
     "text": [
      "训练完成！\n",
      "开始加载测试数据：NSL-KDD-Laplace.csv\n",
      "开始对测试数据进行预处理...\n",
      "Label Encoding 完成...\n",
      "标准化数值特征完成...\n",
      "开始预测...\n"
     ]
    },
    {
     "name": "stderr",
     "output_type": "stream",
     "text": [
      "Predicting: 100%|██████████| 10/10 [00:00<00:00, 111.33it/s]\n"
     ]
    },
    {
     "name": "stdout",
     "output_type": "stream",
     "text": [
      "\n",
      "测试结果：\n",
      "Accuracy = 0.65336533653365336249\n",
      "Precision = 0.74860335195530725017\n",
      "Recall = 0.54351032448377578632\n",
      "F1-Score = 0.62977996154667803541\n"
     ]
    },
    {
     "data": {
      "image/png": "[encoded data removed]",
      "text/plain": [
       "<Figure size 640x480 with 2 Axes>"
      ]
     },
     "metadata": {},
     "output_type": "display_data"
    },
    {
     "name": "stdout",
     "output_type": "stream",
     "text": [
      "Training and testing model: KNN\n",
      "开始加载训练数据：NSL_KDD_train_split.csv\n",
      "开始对训练数据进行预处理...\n",
      "Label Encoding 完成...\n",
      "标准化数值特征完成...\n",
      "开始训练模型...\n"
     ]
    },
    {
     "name": "stderr",
     "output_type": "stream",
     "text": [
      "Training: 100%|██████████| 1/1 [00:00<00:00,  4.76it/s]\n"
     ]
    },
    {
     "name": "stdout",
     "output_type": "stream",
     "text": [
      "训练完成！\n",
      "开始加载测试数据：NSL-KDD-Laplace.csv\n",
      "开始对测试数据进行预处理...\n",
      "Label Encoding 完成...\n",
      "标准化数值特征完成...\n",
      "开始预测...\n"
     ]
    },
    {
     "name": "stderr",
     "output_type": "stream",
     "text": [
      "Predicting: 100%|██████████| 10/10 [00:02<00:00,  4.37it/s]"
     ]
    },
    {
     "name": "stdout",
     "output_type": "stream",
     "text": [
      "\n",
      "测试结果：\n",
      "Accuracy = 0.81648164816481649808\n",
      "Precision = 0.78836573999678616342\n",
      "Recall = 0.90449852507374628452\n",
      "F1-Score = 0.84244869923585474769\n"
     ]
    },
    {
     "name": "stderr",
     "output_type": "stream",
     "text": [
      "\n"
     ]
    },
    {
     "data": {
      "image/png": "[encoded data removed]",
      "text/plain": [
       "<Figure size 640x480 with 2 Axes>"
      ]
     },
     "metadata": {},
     "output_type": "display_data"
    },
    {
     "name": "stdout",
     "output_type": "stream",
     "text": [
      "Training and testing model: GBM\n",
      "开始加载训练数据：NSL_KDD_train_split.csv\n",
      "开始对训练数据进行预处理...\n",
      "Label Encoding 完成...\n",
      "标准化数值特征完成...\n",
      "开始训练模型...\n"
     ]
    },
    {
     "name": "stderr",
     "output_type": "stream",
     "text": [
      "Training: 100%|██████████| 1/1 [00:07<00:00,  7.85s/it]\n"
     ]
    },
    {
     "name": "stdout",
     "output_type": "stream",
     "text": [
      "训练完成！\n",
      "开始加载测试数据：NSL-KDD-Laplace.csv\n",
      "开始对测试数据进行预处理...\n",
      "Label Encoding 完成...\n",
      "标准化数值特征完成...\n",
      "开始预测...\n"
     ]
    },
    {
     "name": "stderr",
     "output_type": "stream",
     "text": [
      "Predicting: 100%|██████████| 10/10 [00:00<00:00, 465.05it/s]"
     ]
    },
    {
     "name": "stdout",
     "output_type": "stream",
     "text": [
      "\n",
      "测试结果：\n",
      "Accuracy = 0.65166516651665162829\n",
      "Precision = 0.83407917383820995294\n",
      "Recall = 0.44671828908554572779\n",
      "F1-Score = 0.58182254772481689642\n"
     ]
    },
    {
     "name": "stderr",
     "output_type": "stream",
     "text": [
      "\n"
     ]
    },
    {
     "data": {
      "image/png": "[encoded data removed]",
      "text/plain": [
       "<Figure size 640x480 with 2 Axes>"
      ]
     },
     "metadata": {},
     "output_type": "display_data"
    },
    {
     "name": "stdout",
     "output_type": "stream",
     "text": [
      "Training and testing model: DT\n",
      "开始加载训练数据：NSL_KDD_train_split.csv\n",
      "开始对训练数据进行预处理...\n",
      "Label Encoding 完成...\n",
      "标准化数值特征完成...\n",
      "开始训练模型...\n"
     ]
    },
    {
     "name": "stderr",
     "output_type": "stream",
     "text": [
      "Training: 100%|██████████| 1/1 [00:00<00:00,  4.52it/s]\n"
     ]
    },
    {
     "name": "stdout",
     "output_type": "stream",
     "text": [
      "训练完成！\n",
      "开始加载测试数据：NSL-KDD-Laplace.csv\n",
      "开始对测试数据进行预处理...\n",
      "Label Encoding 完成...\n",
      "标准化数值特征完成...\n",
      "开始预测...\n"
     ]
    },
    {
     "name": "stderr",
     "output_type": "stream",
     "text": [
      "Predicting: 100%|██████████| 10/10 [00:00<00:00, 1450.66it/s]"
     ]
    },
    {
     "name": "stdout",
     "output_type": "stream",
     "text": [
      "\n",
      "测试结果：\n",
      "Accuracy = 0.59355935593559361330\n",
      "Precision = 0.63854930725346370490\n",
      "Recall = 0.57780235988200590036\n",
      "F1-Score = 0.60665892373209451272\n"
     ]
    },
    {
     "name": "stderr",
     "output_type": "stream",
     "text": [
      "\n"
     ]
    },
    {
     "data": {
      "image/png": "[encoded data removed]",
      "text/plain": [
       "<Figure size 640x480 with 2 Axes>"
      ]
     },
     "metadata": {},
     "output_type": "display_data"
    },
    {
     "name": "stdout",
     "output_type": "stream",
     "text": [
      "Training and testing model: LR\n",
      "开始加载训练数据：NSL_KDD_train_split.csv\n",
      "开始对训练数据进行预处理...\n",
      "Label Encoding 完成...\n",
      "标准化数值特征完成...\n",
      "开始训练模型...\n"
     ]
    },
    {
     "name": "stderr",
     "output_type": "stream",
     "text": [
      "Training: 100%|██████████| 1/1 [00:00<00:00,  1.64it/s]\n"
     ]
    },
    {
     "name": "stdout",
     "output_type": "stream",
     "text": [
      "训练完成！\n",
      "开始加载测试数据：NSL-KDD-Laplace.csv\n",
      "开始对测试数据进行预处理...\n",
      "Label Encoding 完成...\n",
      "标准化数值特征完成...\n",
      "开始预测...\n"
     ]
    },
    {
     "name": "stderr",
     "output_type": "stream",
     "text": [
      "Predicting: 100%|██████████| 10/10 [00:00<00:00, 1866.79it/s]"
     ]
    },
    {
     "name": "stdout",
     "output_type": "stream",
     "text": [
      "\n",
      "测试结果：\n",
      "Accuracy = 0.66846684668466849200\n",
      "Precision = 0.71982489055659781840\n",
      "Recall = 0.63661504424778758704\n",
      "F1-Score = 0.67566774288230113665\n"
     ]
    },
    {
     "name": "stderr",
     "output_type": "stream",
     "text": [
      "\n"
     ]
    },
    {
     "data": {
      "image/png": "[encoded data removed]",
      "text/plain": [
       "<Figure size 640x480 with 2 Axes>"
      ]
     },
     "metadata": {},
     "output_type": "display_data"
    },
    {
     "name": "stdout",
     "output_type": "stream",
     "text": [
      "Training and testing model: xgboost\n",
      "开始加载训练数据：NSL_KDD_train_split.csv\n",
      "开始对训练数据进行预处理...\n",
      "Label Encoding 完成...\n",
      "标准化数值特征完成...\n",
      "开始训练模型...\n"
     ]
    },
    {
     "name": "stderr",
     "output_type": "stream",
     "text": [
      "Training:   0%|          | 0/1 [00:00<?, ?it/s]d:\\Anaconda3\\envs\\bert_env\\lib\\site-packages\\xgboost\\core.py:158: UserWarning: [23:40:08] WARNING: C:\\b\\abs_90_bwj_86a\\croot\\xgboost-split_1724073762025\\work\\src\\learner.cc:740: \n",
      "Parameters: { \"use_label_encoder\" } are not used.\n",
      "\n",
      "  warnings.warn(smsg, UserWarning)\n",
      "Training: 100%|██████████| 1/1 [00:00<00:00,  4.42it/s]\n"
     ]
    },
    {
     "name": "stdout",
     "output_type": "stream",
     "text": [
      "训练完成！\n",
      "开始加载测试数据：NSL-KDD-Laplace.csv\n",
      "开始对测试数据进行预处理...\n",
      "Label Encoding 完成...\n",
      "标准化数值特征完成...\n",
      "开始预测...\n"
     ]
    },
    {
     "name": "stderr",
     "output_type": "stream",
     "text": [
      "Predicting: 100%|██████████| 10/10 [00:00<00:00, 200.43it/s]\n"
     ]
    },
    {
     "name": "stdout",
     "output_type": "stream",
     "text": [
      "\n",
      "测试结果：\n",
      "Accuracy = 0.62966296629662965589\n",
      "Precision = 0.76583256101328389676\n",
      "Recall = 0.45704277286135691627\n",
      "F1-Score = 0.57245121810414500985\n"
     ]
    },
    {
     "data": {
      "image/png": "[encoded data removed]",
      "text/plain": [
       "<Figure size 640x480 with 2 Axes>"
      ]
     },
     "metadata": {},
     "output_type": "display_data"
    },
    {
     "name": "stdout",
     "output_type": "stream",
     "text": [
      "\n",
      "Test Results:\n",
      "RF: Accuracy=0.6534, Precision=0.7486, Recall=0.5435, F1-score=0.6298\n",
      "KNN: Accuracy=0.8165, Precision=0.7884, Recall=0.9045, F1-score=0.8424\n",
      "GBM: Accuracy=0.6517, Precision=0.8341, Recall=0.4467, F1-score=0.5818\n",
      "DT: Accuracy=0.5936, Precision=0.6385, Recall=0.5778, F1-score=0.6067\n",
      "LR: Accuracy=0.6685, Precision=0.7198, Recall=0.6366, F1-score=0.6757\n",
      "xgboost: Accuracy=0.6297, Precision=0.7658, Recall=0.4570, F1-score=0.5725\n"
     ]
    }
   ],
   "source": [
    "model_names = ['RF', 'KNN', 'GBM', 'DT', 'LR', 'xgboost']  # 可更改或扩展模型列表\n",
    "    \n",
    "# 训练数据集路径\n",
    "#test_csv_path = \"NSL_KDD_test_split.csv\"\n",
    "#test_csv_path = 'NSL-KDD-Gaussian.csv'\n",
    "#test_csv_path = 'NSL-KDD-Uniform.csv'\n",
    "test_csv_path = 'NSL-KDD-Laplace.csv'\n",
    "#test_csv_path = 'NSL-KDD-Gamma.csv'\n",
    "#test_csv_path = 'NSL-KDD-Poisson.csv'\n",
    "#test_csv_path = 'NSL-KDD-Binomial.csv'\n",
    "#test_csv_path = 'NSL-KDD-Beta.csv'\n",
    "#test_csv_path = 'NSL-KDD-Cauchy.csv'\n",
    "\n",
    "    \n",
    "results = []\n",
    "    \n",
    "for model_name in model_names:\n",
    "        print(f\"Training and testing model: {model_name}\")\n",
    "        \n",
    "        # 选择模型\n",
    "        model = choose_model(model_name)\n",
    "        \n",
    "        # 训练模型\n",
    "        model, X_train, y_train, select_features = train_model(model, train_csv_path)\n",
    "        \n",
    "        # 进行测试\n",
    "        acc, precision, recall, f1 = test_model(model, test_csv_path, select_features, batch_size=1000)\n",
    "        results.append((model_name, acc, precision, recall, f1))\n",
    "    \n",
    "    # 打印测试结果\n",
    "print(\"\\nTest Results:\")\n",
    "for model_name, acc, precision, recall, f1 in results:\n",
    "    print(f\"{model_name}: Accuracy={acc:.4f}, Precision={precision:.4f}, Recall={recall:.4f}, F1-score={f1:.4f}\") \n"
   ]
  },
  {
   "cell_type": "code",
   "execution_count": 797,
   "metadata": {},
   "outputs": [
    {
     "name": "stdout",
     "output_type": "stream",
     "text": [
      "Training model: RF\n",
      "开始加载训练数据：NSL_KDD_train_split.csv\n",
      "开始对训练数据进行预处理...\n",
      "Label Encoding 完成...\n",
      "标准化数值特征完成...\n",
      "开始训练模型...\n"
     ]
    },
    {
     "name": "stderr",
     "output_type": "stream",
     "text": [
      "Training: 100%|██████████| 1/1 [00:03<00:00,  3.39s/it]\n"
     ]
    },
    {
     "name": "stdout",
     "output_type": "stream",
     "text": [
      "训练完成！\n",
      "Testing model RF on NSL_KDD_test_split.csv\n",
      "开始加载测试数据：NSL_KDD_test_split.csv\n",
      "开始对测试数据进行预处理...\n",
      "Label Encoding 完成...\n",
      "标准化数值特征完成...\n",
      "开始预测...\n"
     ]
    },
    {
     "name": "stderr",
     "output_type": "stream",
     "text": [
      "Predicting: 100%|██████████| 10/10 [00:00<00:00, 154.84it/s]\n"
     ]
    },
    {
     "name": "stdout",
     "output_type": "stream",
     "text": [
      "\n",
      "测试结果：\n",
      "Accuracy = 0.94979497949794977618\n",
      "Precision = 0.98848749503771338176\n",
      "Recall = 0.91814159292035402160\n",
      "F1-Score = 0.95201682278722998820\n",
      "Testing model RF on NSL-KDD-Gaussian.csv\n",
      "开始加载测试数据：NSL-KDD-Gaussian.csv\n",
      "开始对测试数据进行预处理...\n",
      "Label Encoding 完成...\n",
      "标准化数值特征完成...\n",
      "开始预测...\n"
     ]
    },
    {
     "name": "stderr",
     "output_type": "stream",
     "text": [
      "Predicting: 100%|██████████| 10/10 [00:00<00:00, 103.74it/s]"
     ]
    },
    {
     "name": "stdout",
     "output_type": "stream",
     "text": [
      "\n",
      "测试结果：\n",
      "Accuracy = 0.65486548654865484043\n",
      "Precision = 0.73293978748524202249\n",
      "Recall = 0.57227138643067843038\n",
      "F1-Score = 0.64271663733305728350\n",
      "Testing model RF on NSL-KDD-Uniform.csv\n",
      "开始加载测试数据：NSL-KDD-Uniform.csv\n"
     ]
    },
    {
     "name": "stderr",
     "output_type": "stream",
     "text": [
      "\n"
     ]
    },
    {
     "name": "stdout",
     "output_type": "stream",
     "text": [
      "开始对测试数据进行预处理...\n",
      "Label Encoding 完成...\n",
      "标准化数值特征完成...\n",
      "开始预测...\n"
     ]
    },
    {
     "name": "stderr",
     "output_type": "stream",
     "text": [
      "Predicting: 100%|██████████| 10/10 [00:00<00:00, 107.49it/s]\n"
     ]
    },
    {
     "name": "stdout",
     "output_type": "stream",
     "text": [
      "\n",
      "测试结果：\n",
      "Accuracy = 0.63266326632663261176\n",
      "Precision = 0.70140326662065788366\n",
      "Recall = 0.56213126843657812426\n",
      "F1-Score = 0.62409169992835944463\n",
      "Testing model RF on NSL-KDD-Laplace.csv\n",
      "开始加载测试数据：NSL-KDD-Laplace.csv\n",
      "开始对测试数据进行预处理...\n",
      "Label Encoding 完成...\n",
      "标准化数值特征完成...\n",
      "开始预测...\n"
     ]
    },
    {
     "name": "stderr",
     "output_type": "stream",
     "text": [
      "Predicting: 100%|██████████| 10/10 [00:00<00:00, 101.08it/s]\n"
     ]
    },
    {
     "name": "stdout",
     "output_type": "stream",
     "text": [
      "\n",
      "测试结果：\n",
      "Accuracy = 0.65336533653365336249\n",
      "Precision = 0.74860335195530725017\n",
      "Recall = 0.54351032448377578632\n",
      "F1-Score = 0.62977996154667803541\n",
      "Testing model RF on NSL-KDD-Gamma.csv\n",
      "开始加载测试数据：NSL-KDD-Gamma.csv\n",
      "开始对测试数据进行预处理...\n",
      "Label Encoding 完成...\n",
      "标准化数值特征完成...\n",
      "开始预测...\n"
     ]
    },
    {
     "name": "stderr",
     "output_type": "stream",
     "text": [
      "Predicting: 100%|██████████| 10/10 [00:00<00:00, 107.32it/s]"
     ]
    },
    {
     "name": "stdout",
     "output_type": "stream",
     "text": [
      "\n",
      "测试结果：\n",
      "Accuracy = 0.76627662766276627426\n",
      "Precision = 0.84646464646464647519\n",
      "Recall = 0.69524336283185839136\n",
      "F1-Score = 0.76343759489826901188\n",
      "Testing model RF on NSL-KDD-Poisson.csv\n",
      "开始加载测试数据：NSL-KDD-Poisson.csv\n",
      "开始对测试数据进行预处理...\n"
     ]
    },
    {
     "name": "stderr",
     "output_type": "stream",
     "text": [
      "\n"
     ]
    },
    {
     "name": "stdout",
     "output_type": "stream",
     "text": [
      "Label Encoding 完成...\n",
      "标准化数值特征完成...\n",
      "开始预测...\n"
     ]
    },
    {
     "name": "stderr",
     "output_type": "stream",
     "text": [
      "Predicting: 100%|██████████| 10/10 [00:00<00:00, 111.49it/s]\n"
     ]
    },
    {
     "name": "stdout",
     "output_type": "stream",
     "text": [
      "\n",
      "测试结果：\n",
      "Accuracy = 0.80258025802580257313\n",
      "Precision = 0.87812362998684789783\n",
      "Recall = 0.73856932153392329532\n",
      "F1-Score = 0.80232325255357495042\n",
      "Testing model RF on NSL-KDD-Binomial.csv\n",
      "开始加载测试数据：NSL-KDD-Binomial.csv\n",
      "开始对测试数据进行预处理...\n",
      "Label Encoding 完成...\n",
      "标准化数值特征完成...\n",
      "开始预测...\n"
     ]
    },
    {
     "name": "stderr",
     "output_type": "stream",
     "text": [
      "Predicting: 100%|██████████| 10/10 [00:00<00:00, 115.62it/s]\n"
     ]
    },
    {
     "name": "stdout",
     "output_type": "stream",
     "text": [
      "\n",
      "测试结果：\n",
      "Accuracy = 0.88098809880988093735\n",
      "Precision = 0.93757751136833400452\n",
      "Recall = 0.83628318584070793218\n",
      "F1-Score = 0.88403819918144610490\n",
      "Testing model RF on NSL-KDD-Beta.csv\n",
      "开始加载测试数据：NSL-KDD-Beta.csv\n",
      "开始对测试数据进行预处理...\n",
      "Label Encoding 完成...\n",
      "标准化数值特征完成...\n",
      "开始预测...\n"
     ]
    },
    {
     "name": "stderr",
     "output_type": "stream",
     "text": [
      "Predicting: 100%|██████████| 10/10 [00:00<00:00, 132.98it/s]\n"
     ]
    },
    {
     "name": "stdout",
     "output_type": "stream",
     "text": [
      "\n",
      "测试结果：\n",
      "Accuracy = 0.88598859885988601182\n",
      "Precision = 0.91527723924001547218\n",
      "Recall = 0.87039085545722716386\n",
      "F1-Score = 0.89226989226989228410\n",
      "Testing model RF on NSL-KDD-Cauchy.csv\n",
      "开始加载测试数据：NSL-KDD-Cauchy.csv\n",
      "开始对测试数据进行预处理...\n",
      "Label Encoding 完成...\n",
      "标准化数值特征完成...\n",
      "开始预测...\n"
     ]
    },
    {
     "name": "stderr",
     "output_type": "stream",
     "text": [
      "Predicting: 100%|██████████| 10/10 [00:00<00:00, 148.48it/s]\n"
     ]
    },
    {
     "name": "stdout",
     "output_type": "stream",
     "text": [
      "\n",
      "测试结果：\n",
      "Accuracy = 0.58595859585958598448\n",
      "Precision = 0.92572944297082226939\n",
      "Recall = 0.25737463126843657113\n",
      "F1-Score = 0.40276976341604153742\n",
      "Training model: KNN\n",
      "开始加载训练数据：NSL_KDD_train_split.csv\n",
      "开始对训练数据进行预处理...\n",
      "Label Encoding 完成...\n",
      "标准化数值特征完成...\n",
      "开始训练模型...\n"
     ]
    },
    {
     "name": "stderr",
     "output_type": "stream",
     "text": [
      "Training: 100%|██████████| 1/1 [00:00<00:00,  4.74it/s]\n"
     ]
    },
    {
     "name": "stdout",
     "output_type": "stream",
     "text": [
      "训练完成！\n",
      "Testing model KNN on NSL_KDD_test_split.csv\n",
      "开始加载测试数据：NSL_KDD_test_split.csv\n",
      "开始对测试数据进行预处理...\n",
      "Label Encoding 完成...\n",
      "标准化数值特征完成...\n",
      "开始预测...\n"
     ]
    },
    {
     "name": "stderr",
     "output_type": "stream",
     "text": [
      "Predicting: 100%|██████████| 10/10 [00:01<00:00,  6.02it/s]\n"
     ]
    },
    {
     "name": "stdout",
     "output_type": "stream",
     "text": [
      "\n",
      "测试结果：\n",
      "Accuracy = 0.96809680968096811782\n",
      "Precision = 0.96895094616939192456\n",
      "Recall = 0.97234513274336287214\n",
      "F1-Score = 0.97064507223704798999\n",
      "Testing model KNN on NSL-KDD-Gaussian.csv\n",
      "开始加载测试数据：NSL-KDD-Gaussian.csv\n",
      "开始对测试数据进行预处理...\n",
      "Label Encoding 完成...\n",
      "标准化数值特征完成...\n",
      "开始预测...\n"
     ]
    },
    {
     "name": "stderr",
     "output_type": "stream",
     "text": [
      "Predicting: 100%|██████████| 10/10 [00:02<00:00,  4.45it/s]\n"
     ]
    },
    {
     "name": "stdout",
     "output_type": "stream",
     "text": [
      "\n",
      "测试结果：\n",
      "Accuracy = 0.81938193819381943683\n",
      "Precision = 0.78925487687879758436\n",
      "Recall = 0.91002949852507375450\n",
      "F1-Score = 0.84535023120397323471\n",
      "Testing model KNN on NSL-KDD-Uniform.csv\n",
      "开始加载测试数据：NSL-KDD-Uniform.csv\n",
      "开始对测试数据进行预处理...\n",
      "Label Encoding 完成...\n",
      "标准化数值特征完成...\n",
      "开始预测...\n"
     ]
    },
    {
     "name": "stderr",
     "output_type": "stream",
     "text": [
      "Predicting: 100%|██████████| 10/10 [00:02<00:00,  4.39it/s]\n"
     ]
    },
    {
     "name": "stdout",
     "output_type": "stream",
     "text": [
      "\n",
      "测试结果：\n",
      "Accuracy = 0.81118111811181115023\n",
      "Precision = 0.78433579929237695616\n",
      "Recall = 0.89915191740412980792\n",
      "F1-Score = 0.83782855179522419675\n",
      "Testing model KNN on NSL-KDD-Laplace.csv\n",
      "开始加载测试数据：NSL-KDD-Laplace.csv\n",
      "开始对测试数据进行预处理...\n",
      "Label Encoding 完成...\n",
      "标准化数值特征完成...\n",
      "开始预测...\n"
     ]
    },
    {
     "name": "stderr",
     "output_type": "stream",
     "text": [
      "Predicting: 100%|██████████| 10/10 [00:02<00:00,  4.48it/s]\n"
     ]
    },
    {
     "name": "stdout",
     "output_type": "stream",
     "text": [
      "\n",
      "测试结果：\n",
      "Accuracy = 0.81648164816481649808\n",
      "Precision = 0.78836573999678616342\n",
      "Recall = 0.90449852507374628452\n",
      "F1-Score = 0.84244869923585474769\n",
      "Testing model KNN on NSL-KDD-Gamma.csv\n",
      "开始加载测试数据：NSL-KDD-Gamma.csv\n",
      "开始对测试数据进行预处理...\n",
      "Label Encoding 完成...\n",
      "标准化数值特征完成...\n",
      "开始预测...\n"
     ]
    },
    {
     "name": "stderr",
     "output_type": "stream",
     "text": [
      "Predicting: 100%|██████████| 10/10 [00:02<00:00,  4.92it/s]\n"
     ]
    },
    {
     "name": "stdout",
     "output_type": "stream",
     "text": [
      "\n",
      "测试结果：\n",
      "Accuracy = 0.84038403840384034993\n",
      "Precision = 0.80791505791505791034\n",
      "Recall = 0.92588495575221241296\n",
      "F1-Score = 0.86288659793814437293\n",
      "Testing model KNN on NSL-KDD-Poisson.csv\n",
      "开始加载测试数据：NSL-KDD-Poisson.csv\n",
      "开始对测试数据进行预处理...\n",
      "Label Encoding 完成...\n",
      "标准化数值特征完成...\n",
      "开始预测...\n"
     ]
    },
    {
     "name": "stderr",
     "output_type": "stream",
     "text": [
      "Predicting: 100%|██████████| 10/10 [00:02<00:00,  4.84it/s]\n"
     ]
    },
    {
     "name": "stdout",
     "output_type": "stream",
     "text": [
      "\n",
      "测试结果：\n",
      "Accuracy = 0.85848584858485843530\n",
      "Precision = 0.82737220316838155920\n",
      "Recall = 0.93399705014749268006\n",
      "F1-Score = 0.87745734822897725191\n",
      "Testing model KNN on NSL-KDD-Binomial.csv\n",
      "开始加载测试数据：NSL-KDD-Binomial.csv\n",
      "开始对测试数据进行预处理...\n",
      "Label Encoding 完成...\n",
      "标准化数值特征完成...\n",
      "开始预测...\n"
     ]
    },
    {
     "name": "stderr",
     "output_type": "stream",
     "text": [
      "Predicting: 100%|██████████| 10/10 [00:02<00:00,  4.95it/s]\n"
     ]
    },
    {
     "name": "stdout",
     "output_type": "stream",
     "text": [
      "\n",
      "测试结果：\n",
      "Accuracy = 0.91289128912891293055\n",
      "Precision = 0.90171166401976354798\n",
      "Recall = 0.94210914454277283614\n",
      "F1-Score = 0.92146785682084575431\n",
      "Testing model KNN on NSL-KDD-Beta.csv\n",
      "开始加载测试数据：NSL-KDD-Beta.csv\n",
      "开始对测试数据进行预处理...\n",
      "Label Encoding 完成...\n",
      "标准化数值特征完成...\n",
      "开始预测...\n"
     ]
    },
    {
     "name": "stderr",
     "output_type": "stream",
     "text": [
      "Predicting: 100%|██████████| 10/10 [00:01<00:00,  5.25it/s]\n"
     ]
    },
    {
     "name": "stdout",
     "output_type": "stream",
     "text": [
      "\n",
      "测试结果：\n",
      "Accuracy = 0.92759275927592754751\n",
      "Precision = 0.92114695340501795418\n",
      "Recall = 0.94764011799410030612\n",
      "F1-Score = 0.93420574336604866872\n",
      "Testing model KNN on NSL-KDD-Cauchy.csv\n",
      "开始加载测试数据：NSL-KDD-Cauchy.csv\n",
      "开始对测试数据进行预处理...\n",
      "Label Encoding 完成...\n",
      "标准化数值特征完成...\n",
      "开始预测...\n"
     ]
    },
    {
     "name": "stderr",
     "output_type": "stream",
     "text": [
      "Predicting: 100%|██████████| 10/10 [00:02<00:00,  4.10it/s]\n"
     ]
    },
    {
     "name": "stdout",
     "output_type": "stream",
     "text": [
      "\n",
      "测试结果：\n",
      "Accuracy = 0.78647864786478649535\n",
      "Precision = 0.75141415685674972647\n",
      "Recall = 0.90615781710914455882\n",
      "F1-Score = 0.82156289176765562310\n",
      "Training model: GBM\n",
      "开始加载训练数据：NSL_KDD_train_split.csv\n",
      "开始对训练数据进行预处理...\n",
      "Label Encoding 完成...\n",
      "标准化数值特征完成...\n",
      "开始训练模型...\n"
     ]
    },
    {
     "name": "stderr",
     "output_type": "stream",
     "text": [
      "Training: 100%|██████████| 1/1 [00:07<00:00,  7.16s/it]\n"
     ]
    },
    {
     "name": "stdout",
     "output_type": "stream",
     "text": [
      "训练完成！\n",
      "Testing model GBM on NSL_KDD_test_split.csv\n",
      "开始加载测试数据：NSL_KDD_test_split.csv\n",
      "开始对测试数据进行预处理...\n",
      "Label Encoding 完成...\n",
      "标准化数值特征完成...\n",
      "开始预测...\n"
     ]
    },
    {
     "name": "stderr",
     "output_type": "stream",
     "text": [
      "Predicting: 100%|██████████| 10/10 [00:00<00:00, 567.96it/s]\n"
     ]
    },
    {
     "name": "stdout",
     "output_type": "stream",
     "text": [
      "\n",
      "测试结果：\n",
      "Accuracy = 0.89108910891089110340\n",
      "Precision = 0.98349319652018740712\n",
      "Recall = 0.81286873156342187574\n",
      "F1-Score = 0.89007772282224684179\n",
      "Testing model GBM on NSL-KDD-Gaussian.csv\n",
      "开始加载测试数据：NSL-KDD-Gaussian.csv\n",
      "开始对测试数据进行预处理...\n",
      "Label Encoding 完成...\n",
      "标准化数值特征完成...\n",
      "开始预测...\n"
     ]
    },
    {
     "name": "stderr",
     "output_type": "stream",
     "text": [
      "Predicting: 100%|██████████| 10/10 [00:00<00:00, 540.17it/s]\n"
     ]
    },
    {
     "name": "stdout",
     "output_type": "stream",
     "text": [
      "\n",
      "测试结果：\n",
      "Accuracy = 0.64646464646464651960\n",
      "Precision = 0.79524851516098782334\n",
      "Recall = 0.46902654867256637905\n",
      "F1-Score = 0.59004986663574165995\n",
      "Testing model GBM on NSL-KDD-Uniform.csv\n",
      "开始加载测试数据：NSL-KDD-Uniform.csv\n",
      "开始对测试数据进行预处理...\n",
      "Label Encoding 完成...\n",
      "标准化数值特征完成...\n",
      "开始预测...\n"
     ]
    },
    {
     "name": "stderr",
     "output_type": "stream",
     "text": [
      "Predicting: 100%|██████████| 10/10 [00:00<00:00, 568.84it/s]\n"
     ]
    },
    {
     "name": "stdout",
     "output_type": "stream",
     "text": [
      "\n",
      "测试结果：\n",
      "Accuracy = 0.61066106610661063936\n",
      "Precision = 0.71484703901206847476\n",
      "Recall = 0.46957964601769913715\n",
      "F1-Score = 0.56681873817736727617\n",
      "Testing model GBM on NSL-KDD-Laplace.csv\n",
      "开始加载测试数据：NSL-KDD-Laplace.csv\n",
      "开始对测试数据进行预处理...\n",
      "Label Encoding 完成...\n",
      "标准化数值特征完成...\n",
      "开始预测...\n"
     ]
    },
    {
     "name": "stderr",
     "output_type": "stream",
     "text": [
      "Predicting: 100%|██████████| 10/10 [00:00<00:00, 562.28it/s]"
     ]
    },
    {
     "name": "stdout",
     "output_type": "stream",
     "text": [
      "\n",
      "测试结果：\n",
      "Accuracy = 0.65166516651665162829\n",
      "Precision = 0.83407917383820995294\n",
      "Recall = 0.44671828908554572779\n",
      "F1-Score = 0.58182254772481689642\n",
      "Testing model GBM on NSL-KDD-Gamma.csv\n",
      "开始加载测试数据：NSL-KDD-Gamma.csv\n"
     ]
    },
    {
     "name": "stderr",
     "output_type": "stream",
     "text": [
      "\n"
     ]
    },
    {
     "name": "stdout",
     "output_type": "stream",
     "text": [
      "开始对测试数据进行预处理...\n",
      "Label Encoding 完成...\n",
      "标准化数值特征完成...\n",
      "开始预测...\n"
     ]
    },
    {
     "name": "stderr",
     "output_type": "stream",
     "text": [
      "Predicting: 100%|██████████| 10/10 [00:00<00:00, 555.15it/s]"
     ]
    },
    {
     "name": "stdout",
     "output_type": "stream",
     "text": [
      "\n",
      "测试结果：\n",
      "Accuracy = 0.79657965796579655038\n",
      "Precision = 0.95296632816675574951\n",
      "Recall = 0.65744837758112095738\n",
      "F1-Score = 0.77809295221470653470\n",
      "Testing model GBM on NSL-KDD-Poisson.csv\n",
      "开始加载测试数据：NSL-KDD-Poisson.csv\n"
     ]
    },
    {
     "name": "stderr",
     "output_type": "stream",
     "text": [
      "\n"
     ]
    },
    {
     "name": "stdout",
     "output_type": "stream",
     "text": [
      "开始对测试数据进行预处理...\n",
      "Label Encoding 完成...\n",
      "标准化数值特征完成...\n",
      "开始预测...\n"
     ]
    },
    {
     "name": "stderr",
     "output_type": "stream",
     "text": [
      "Predicting: 100%|██████████| 10/10 [00:00<00:00, 544.26it/s]\n"
     ]
    },
    {
     "name": "stdout",
     "output_type": "stream",
     "text": [
      "\n",
      "测试结果：\n",
      "Accuracy = 0.82788278827882788580\n",
      "Precision = 0.96206638382830045320\n",
      "Recall = 0.71073008849557517408\n",
      "F1-Score = 0.81751670024387657065\n",
      "Testing model GBM on NSL-KDD-Binomial.csv\n",
      "开始加载测试数据：NSL-KDD-Binomial.csv\n",
      "开始对测试数据进行预处理...\n",
      "Label Encoding 完成...\n",
      "标准化数值特征完成...\n",
      "开始预测...\n"
     ]
    },
    {
     "name": "stderr",
     "output_type": "stream",
     "text": [
      "Predicting: 100%|██████████| 10/10 [00:00<00:00, 583.42it/s]"
     ]
    },
    {
     "name": "stdout",
     "output_type": "stream",
     "text": [
      "\n",
      "测试结果：\n",
      "Accuracy = 0.83988398839883993130\n",
      "Precision = 0.97069687269145532582\n",
      "Recall = 0.72676991150442482592\n",
      "F1-Score = 0.83120716921454929071\n",
      "Testing model GBM on NSL-KDD-Beta.csv\n",
      "开始加载测试数据：NSL-KDD-Beta.csv\n"
     ]
    },
    {
     "name": "stderr",
     "output_type": "stream",
     "text": [
      "\n"
     ]
    },
    {
     "name": "stdout",
     "output_type": "stream",
     "text": [
      "开始对测试数据进行预处理...\n",
      "Label Encoding 完成...\n",
      "标准化数值特征完成...\n",
      "开始预测...\n"
     ]
    },
    {
     "name": "stderr",
     "output_type": "stream",
     "text": [
      "Predicting: 100%|██████████| 10/10 [00:00<00:00, 525.87it/s]\n"
     ]
    },
    {
     "name": "stdout",
     "output_type": "stream",
     "text": [
      "\n",
      "测试结果：\n",
      "Accuracy = 0.96059605960596061713\n",
      "Precision = 0.96062271062271065158\n",
      "Recall = 0.96699852507374628452\n",
      "F1-Score = 0.96380007350238883213\n",
      "Testing model GBM on NSL-KDD-Cauchy.csv\n",
      "开始加载测试数据：NSL-KDD-Cauchy.csv\n",
      "开始对测试数据进行预处理...\n",
      "Label Encoding 完成...\n",
      "标准化数值特征完成...\n",
      "开始预测...\n"
     ]
    },
    {
     "name": "stderr",
     "output_type": "stream",
     "text": [
      "Predicting: 100%|██████████| 10/10 [00:00<00:00, 622.02it/s]\n"
     ]
    },
    {
     "name": "stdout",
     "output_type": "stream",
     "text": [
      "\n",
      "测试结果：\n",
      "Accuracy = 0.57645764576457647621\n",
      "Precision = 0.93110949963741840296\n",
      "Recall = 0.23672566371681416642\n",
      "F1-Score = 0.37748052329854475673\n",
      "Training model: DT\n",
      "开始加载训练数据：NSL_KDD_train_split.csv\n",
      "开始对训练数据进行预处理...\n",
      "Label Encoding 完成...\n",
      "标准化数值特征完成...\n",
      "开始训练模型...\n"
     ]
    },
    {
     "name": "stderr",
     "output_type": "stream",
     "text": [
      "Training: 100%|██████████| 1/1 [00:00<00:00,  5.07it/s]\n"
     ]
    },
    {
     "name": "stdout",
     "output_type": "stream",
     "text": [
      "训练完成！\n",
      "Testing model DT on NSL_KDD_test_split.csv\n",
      "开始加载测试数据：NSL_KDD_test_split.csv\n",
      "开始对测试数据进行预处理...\n",
      "Label Encoding 完成...\n",
      "标准化数值特征完成...\n",
      "开始预测...\n"
     ]
    },
    {
     "name": "stderr",
     "output_type": "stream",
     "text": [
      "Predicting: 100%|██████████| 10/10 [00:00<00:00, 1251.17it/s]\n"
     ]
    },
    {
     "name": "stdout",
     "output_type": "stream",
     "text": [
      "\n",
      "测试结果：\n",
      "Accuracy = 0.84468446844684463848\n",
      "Precision = 0.92925260589931246713\n",
      "Recall = 0.77249262536873153362\n",
      "F1-Score = 0.84365247155944833590\n",
      "Testing model DT on NSL-KDD-Gaussian.csv\n",
      "开始加载测试数据：NSL-KDD-Gaussian.csv\n",
      "开始对测试数据进行预处理...\n",
      "Label Encoding 完成...\n",
      "标准化数值特征完成...\n",
      "开始预测...\n"
     ]
    },
    {
     "name": "stderr",
     "output_type": "stream",
     "text": [
      "Predicting: 100%|██████████| 10/10 [00:00<00:00, 1331.06it/s]\n"
     ]
    },
    {
     "name": "stdout",
     "output_type": "stream",
     "text": [
      "\n",
      "测试结果：\n",
      "Accuracy = 0.60426042604260421509\n",
      "Precision = 0.64954128440366976083\n",
      "Recall = 0.58738938053097344838\n",
      "F1-Score = 0.61690386291025267607\n",
      "Testing model DT on NSL-KDD-Uniform.csv\n",
      "开始加载测试数据：NSL-KDD-Uniform.csv\n",
      "开始对测试数据进行预处理...\n",
      "Label Encoding 完成...\n",
      "标准化数值特征完成...\n",
      "开始预测...\n"
     ]
    },
    {
     "name": "stderr",
     "output_type": "stream",
     "text": [
      "Predicting: 100%|██████████| 10/10 [00:00<00:00, 1419.92it/s]\n"
     ]
    },
    {
     "name": "stdout",
     "output_type": "stream",
     "text": [
      "\n",
      "测试结果：\n",
      "Accuracy = 0.60326032603260326681\n",
      "Precision = 0.64696388944926364051\n",
      "Recall = 0.59126106194690264406\n",
      "F1-Score = 0.61785955110297663406\n",
      "Testing model DT on NSL-KDD-Laplace.csv\n",
      "开始加载测试数据：NSL-KDD-Laplace.csv\n",
      "开始对测试数据进行预处理...\n",
      "Label Encoding 完成...\n",
      "标准化数值特征完成...\n",
      "开始预测...\n"
     ]
    },
    {
     "name": "stderr",
     "output_type": "stream",
     "text": [
      "Predicting: 100%|██████████| 10/10 [00:00<00:00, 1171.99it/s]\n"
     ]
    },
    {
     "name": "stdout",
     "output_type": "stream",
     "text": [
      "\n",
      "测试结果：\n",
      "Accuracy = 0.59355935593559361330\n",
      "Precision = 0.63854930725346370490\n",
      "Recall = 0.57780235988200590036\n",
      "F1-Score = 0.60665892373209451272\n",
      "Testing model DT on NSL-KDD-Gamma.csv\n",
      "开始加载测试数据：NSL-KDD-Gamma.csv\n",
      "开始对测试数据进行预处理...\n",
      "Label Encoding 完成...\n",
      "标准化数值特征完成...\n",
      "开始预测...\n"
     ]
    },
    {
     "name": "stderr",
     "output_type": "stream",
     "text": [
      "Predicting: 100%|██████████| 10/10 [00:00<00:00, 1425.23it/s]\n"
     ]
    },
    {
     "name": "stdout",
     "output_type": "stream",
     "text": [
      "\n",
      "测试结果：\n",
      "Accuracy = 0.70137013701370132246\n",
      "Precision = 0.71853711007529585952\n",
      "Recall = 0.73893805309734517106\n",
      "F1-Score = 0.72859480094528272787\n",
      "Testing model DT on NSL-KDD-Poisson.csv\n",
      "开始加载测试数据：NSL-KDD-Poisson.csv\n",
      "开始对测试数据进行预处理...\n",
      "Label Encoding 完成...\n",
      "标准化数值特征完成...\n",
      "开始预测...\n"
     ]
    },
    {
     "name": "stderr",
     "output_type": "stream",
     "text": [
      "Predicting: 100%|██████████| 10/10 [00:00<00:00, 1465.92it/s]"
     ]
    },
    {
     "name": "stdout",
     "output_type": "stream",
     "text": [
      "\n",
      "测试结果：\n",
      "Accuracy = 0.73287328732873291415\n",
      "Precision = 0.74471111111111110148\n",
      "Recall = 0.77230825958702065126\n",
      "F1-Score = 0.75825866594261925879\n",
      "Testing model DT on NSL-KDD-Binomial.csv\n",
      "开始加载测试数据：NSL-KDD-Binomial.csv\n",
      "开始对测试数据进行预处理...\n",
      "Label Encoding 完成...\n",
      "标准化数值特征完成...\n",
      "开始预测...\n"
     ]
    },
    {
     "name": "stderr",
     "output_type": "stream",
     "text": [
      "\n",
      "Predicting: 100%|██████████| 10/10 [00:00<00:00, 1176.46it/s]\n"
     ]
    },
    {
     "name": "stdout",
     "output_type": "stream",
     "text": [
      "\n",
      "测试结果：\n",
      "Accuracy = 0.77867786778677872128\n",
      "Precision = 0.79836461624233412415\n",
      "Recall = 0.79203539823008850540\n",
      "F1-Score = 0.79518741323461361592\n",
      "Testing model DT on NSL-KDD-Beta.csv\n",
      "开始加载测试数据：NSL-KDD-Beta.csv\n",
      "开始对测试数据进行预处理...\n",
      "Label Encoding 完成...\n",
      "标准化数值特征完成...\n",
      "开始预测...\n"
     ]
    },
    {
     "name": "stderr",
     "output_type": "stream",
     "text": [
      "Predicting: 100%|██████████| 10/10 [00:00<00:00, 1264.45it/s]\n"
     ]
    },
    {
     "name": "stdout",
     "output_type": "stream",
     "text": [
      "\n",
      "测试结果：\n",
      "Accuracy = 0.41874187418741876110\n",
      "Precision = 0.47312274868384596171\n",
      "Recall = 0.62960914454277283614\n",
      "F1-Score = 0.54026261667457675664\n",
      "Testing model DT on NSL-KDD-Cauchy.csv\n",
      "开始加载测试数据：NSL-KDD-Cauchy.csv\n",
      "开始对测试数据进行预处理...\n",
      "Label Encoding 完成...\n",
      "标准化数值特征完成...\n",
      "开始预测...\n"
     ]
    },
    {
     "name": "stderr",
     "output_type": "stream",
     "text": [
      "Predicting: 100%|██████████| 10/10 [00:00<00:00, 1249.79it/s]\n"
     ]
    },
    {
     "name": "stdout",
     "output_type": "stream",
     "text": [
      "\n",
      "测试结果：\n",
      "Accuracy = 0.57945794579457943208\n",
      "Precision = 0.57855393736306226504\n",
      "Recall = 0.82761799410029501800\n",
      "F1-Score = 0.68102859743609189813\n",
      "Training model: LR\n",
      "开始加载训练数据：NSL_KDD_train_split.csv\n",
      "开始对训练数据进行预处理...\n",
      "Label Encoding 完成...\n",
      "标准化数值特征完成...\n",
      "开始训练模型...\n"
     ]
    },
    {
     "name": "stderr",
     "output_type": "stream",
     "text": [
      "Training: 100%|██████████| 1/1 [00:00<00:00,  1.69it/s]\n"
     ]
    },
    {
     "name": "stdout",
     "output_type": "stream",
     "text": [
      "训练完成！\n",
      "Testing model LR on NSL_KDD_test_split.csv\n",
      "开始加载测试数据：NSL_KDD_test_split.csv\n",
      "开始对测试数据进行预处理...\n",
      "Label Encoding 完成...\n",
      "标准化数值特征完成...\n",
      "开始预测...\n"
     ]
    },
    {
     "name": "stderr",
     "output_type": "stream",
     "text": [
      "Predicting: 100%|██████████| 10/10 [00:00<00:00, 1384.44it/s]\n"
     ]
    },
    {
     "name": "stdout",
     "output_type": "stream",
     "text": [
      "\n",
      "测试结果：\n",
      "Accuracy = 0.93939393939393944777\n",
      "Precision = 0.94120879120879119561\n",
      "Recall = 0.94745575221238942376\n",
      "F1-Score = 0.94432194046306505708\n",
      "Testing model LR on NSL-KDD-Gaussian.csv\n",
      "开始加载测试数据：NSL-KDD-Gaussian.csv\n",
      "开始对测试数据进行预处理...\n",
      "Label Encoding 完成...\n",
      "标准化数值特征完成...\n",
      "开始预测...\n"
     ]
    },
    {
     "name": "stderr",
     "output_type": "stream",
     "text": [
      "Predicting: 100%|██████████| 10/10 [00:00<00:00, 1343.77it/s]\n"
     ]
    },
    {
     "name": "stdout",
     "output_type": "stream",
     "text": [
      "\n",
      "测试结果：\n",
      "Accuracy = 0.64326432643264330746\n",
      "Precision = 0.69172000825934343293\n",
      "Recall = 0.61762536873156337336\n",
      "F1-Score = 0.65257621505795271322\n",
      "Testing model LR on NSL-KDD-Uniform.csv\n",
      "开始加载测试数据：NSL-KDD-Uniform.csv\n",
      "开始对测试数据进行预处理...\n",
      "Label Encoding 完成...\n",
      "标准化数值特征完成...\n",
      "开始预测...\n"
     ]
    },
    {
     "name": "stderr",
     "output_type": "stream",
     "text": [
      "Predicting: 100%|██████████| 10/10 [00:00<00:00, 1329.50it/s]\n"
     ]
    },
    {
     "name": "stdout",
     "output_type": "stream",
     "text": [
      "\n",
      "测试结果：\n",
      "Accuracy = 0.60666066606660662419\n",
      "Precision = 0.65573428034259451103\n",
      "Recall = 0.57872418879056042318\n",
      "F1-Score = 0.61482714719420228366\n",
      "Testing model LR on NSL-KDD-Laplace.csv\n",
      "开始加载测试数据：NSL-KDD-Laplace.csv\n",
      "开始对测试数据进行预处理...\n",
      "Label Encoding 完成...\n",
      "标准化数值特征完成...\n",
      "开始预测...\n"
     ]
    },
    {
     "name": "stderr",
     "output_type": "stream",
     "text": [
      "Predicting: 100%|██████████| 10/10 [00:00<00:00, 1428.58it/s]\n"
     ]
    },
    {
     "name": "stdout",
     "output_type": "stream",
     "text": [
      "\n",
      "测试结果：\n",
      "Accuracy = 0.66846684668466849200\n",
      "Precision = 0.71982489055659781840\n",
      "Recall = 0.63661504424778758704\n",
      "F1-Score = 0.67566774288230113665\n",
      "Testing model LR on NSL-KDD-Gamma.csv\n",
      "开始加载测试数据：NSL-KDD-Gamma.csv\n",
      "开始对测试数据进行预处理...\n",
      "Label Encoding 完成...\n",
      "标准化数值特征完成...\n",
      "开始预测...\n"
     ]
    },
    {
     "name": "stderr",
     "output_type": "stream",
     "text": [
      "Predicting: 100%|██████████| 10/10 [00:00<00:00, 1106.33it/s]\n"
     ]
    },
    {
     "name": "stdout",
     "output_type": "stream",
     "text": [
      "\n",
      "测试结果：\n",
      "Accuracy = 0.79167916791679171507\n",
      "Precision = 0.83257017718494918945\n",
      "Recall = 0.77101769911504425270\n",
      "F1-Score = 0.80061261606202738239\n",
      "Testing model LR on NSL-KDD-Poisson.csv\n",
      "开始加载测试数据：NSL-KDD-Poisson.csv\n",
      "开始对测试数据进行预处理...\n",
      "Label Encoding 完成...\n",
      "标准化数值特征完成...\n",
      "开始预测...\n"
     ]
    },
    {
     "name": "stderr",
     "output_type": "stream",
     "text": [
      "Predicting: 100%|██████████| 10/10 [00:00<00:00, 1417.90it/s]"
     ]
    },
    {
     "name": "stdout",
     "output_type": "stream",
     "text": [
      "\n",
      "测试结果：\n",
      "Accuracy = 0.81718171817181717298\n",
      "Precision = 0.85960000000000003073\n",
      "Recall = 0.79240412979351027012\n",
      "F1-Score = 0.82463545663852644285\n",
      "Testing model LR on NSL-KDD-Binomial.csv\n",
      "开始加载测试数据：NSL-KDD-Binomial.csv\n",
      "开始对测试数据进行预处理...\n",
      "Label Encoding 完成...\n"
     ]
    },
    {
     "name": "stderr",
     "output_type": "stream",
     "text": [
      "\n"
     ]
    },
    {
     "name": "stdout",
     "output_type": "stream",
     "text": [
      "标准化数值特征完成...\n",
      "开始预测...\n"
     ]
    },
    {
     "name": "stderr",
     "output_type": "stream",
     "text": [
      "Predicting: 100%|██████████| 10/10 [00:00<00:00, 1252.11it/s]"
     ]
    },
    {
     "name": "stdout",
     "output_type": "stream",
     "text": [
      "\n",
      "测试结果：\n",
      "Accuracy = 0.90459045904590462683\n",
      "Precision = 0.91760089686098655903\n",
      "Recall = 0.90542035398230091836\n",
      "F1-Score = 0.91146993318485525215\n",
      "Testing model LR on NSL-KDD-Beta.csv\n",
      "开始加载测试数据：NSL-KDD-Beta.csv\n"
     ]
    },
    {
     "name": "stderr",
     "output_type": "stream",
     "text": [
      "\n"
     ]
    },
    {
     "name": "stdout",
     "output_type": "stream",
     "text": [
      "开始对测试数据进行预处理...\n",
      "Label Encoding 完成...\n",
      "标准化数值特征完成...\n",
      "开始预测...\n"
     ]
    },
    {
     "name": "stderr",
     "output_type": "stream",
     "text": [
      "Predicting: 100%|██████████| 10/10 [00:00<00:00, 1422.62it/s]"
     ]
    },
    {
     "name": "stdout",
     "output_type": "stream",
     "text": [
      "\n",
      "测试结果：\n",
      "Accuracy = 0.92659265926592659923\n",
      "Precision = 0.92823228634039445240\n",
      "Recall = 0.93713126843657812426\n",
      "F1-Score = 0.93266055045871554263\n",
      "Testing model LR on NSL-KDD-Cauchy.csv\n",
      "开始加载测试数据：NSL-KDD-Cauchy.csv\n"
     ]
    },
    {
     "name": "stderr",
     "output_type": "stream",
     "text": [
      "\n"
     ]
    },
    {
     "name": "stdout",
     "output_type": "stream",
     "text": [
      "开始对测试数据进行预处理...\n",
      "Label Encoding 完成...\n",
      "标准化数值特征完成...\n",
      "开始预测...\n"
     ]
    },
    {
     "name": "stderr",
     "output_type": "stream",
     "text": [
      "Predicting: 100%|██████████| 10/10 [00:00<00:00, 1000.14it/s]"
     ]
    },
    {
     "name": "stdout",
     "output_type": "stream",
     "text": [
      "\n",
      "测试结果：\n",
      "Accuracy = 0.85858585858585856343\n",
      "Precision = 0.92860196665241556691\n",
      "Recall = 0.80088495575221241296\n",
      "F1-Score = 0.86002771728370619453\n",
      "Training model: xgboost\n",
      "开始加载训练数据：NSL_KDD_train_split.csv\n"
     ]
    },
    {
     "name": "stderr",
     "output_type": "stream",
     "text": [
      "\n"
     ]
    },
    {
     "name": "stdout",
     "output_type": "stream",
     "text": [
      "开始对训练数据进行预处理...\n",
      "Label Encoding 完成...\n",
      "标准化数值特征完成...\n",
      "开始训练模型...\n"
     ]
    },
    {
     "name": "stderr",
     "output_type": "stream",
     "text": [
      "Training:   0%|          | 0/1 [00:00<?, ?it/s]d:\\Anaconda3\\envs\\bert_env\\lib\\site-packages\\xgboost\\core.py:158: UserWarning: [11:50:58] WARNING: C:\\b\\abs_90_bwj_86a\\croot\\xgboost-split_1724073762025\\work\\src\\learner.cc:740: \n",
      "Parameters: { \"use_label_encoder\" } are not used.\n",
      "\n",
      "  warnings.warn(smsg, UserWarning)\n",
      "Training: 100%|██████████| 1/1 [00:00<00:00,  4.89it/s]\n"
     ]
    },
    {
     "name": "stdout",
     "output_type": "stream",
     "text": [
      "训练完成！\n",
      "Testing model xgboost on NSL_KDD_test_split.csv\n",
      "开始加载测试数据：NSL_KDD_test_split.csv\n",
      "开始对测试数据进行预处理...\n",
      "Label Encoding 完成...\n",
      "标准化数值特征完成...\n",
      "开始预测...\n"
     ]
    },
    {
     "name": "stderr",
     "output_type": "stream",
     "text": [
      "Predicting: 100%|██████████| 10/10 [00:00<00:00, 197.96it/s]\n"
     ]
    },
    {
     "name": "stdout",
     "output_type": "stream",
     "text": [
      "\n",
      "测试结果：\n",
      "Accuracy = 0.93069306930693074253\n",
      "Precision = 0.99353223450865846278\n",
      "Recall = 0.87794985250737467286\n",
      "F1-Score = 0.93217187041205828990\n",
      "Testing model xgboost on NSL-KDD-Gaussian.csv\n",
      "开始加载测试数据：NSL-KDD-Gaussian.csv\n",
      "开始对测试数据进行预处理...\n",
      "Label Encoding 完成...\n",
      "标准化数值特征完成...\n",
      "开始预测...\n"
     ]
    },
    {
     "name": "stderr",
     "output_type": "stream",
     "text": [
      "Predicting: 100%|██████████| 10/10 [00:00<00:00, 222.30it/s]\n"
     ]
    },
    {
     "name": "stdout",
     "output_type": "stream",
     "text": [
      "\n",
      "测试结果：\n",
      "Accuracy = 0.64396439643964398236\n",
      "Precision = 0.76628571428571423674\n",
      "Recall = 0.49446902654867258553\n",
      "F1-Score = 0.60107575078440156346\n",
      "Testing model xgboost on NSL-KDD-Uniform.csv\n",
      "开始加载测试数据：NSL-KDD-Uniform.csv\n",
      "开始对测试数据进行预处理...\n",
      "Label Encoding 完成...\n",
      "标准化数值特征完成...\n",
      "开始预测...\n"
     ]
    },
    {
     "name": "stderr",
     "output_type": "stream",
     "text": [
      "Predicting: 100%|██████████| 10/10 [00:00<00:00, 185.35it/s]\n"
     ]
    },
    {
     "name": "stdout",
     "output_type": "stream",
     "text": [
      "\n",
      "测试结果：\n",
      "Accuracy = 0.62766276627662764831\n",
      "Precision = 0.72807723250201128451\n",
      "Recall = 0.50055309734513275810\n",
      "F1-Score = 0.59324811537200916600\n",
      "Testing model xgboost on NSL-KDD-Laplace.csv\n",
      "开始加载测试数据：NSL-KDD-Laplace.csv\n",
      "开始对测试数据进行预处理...\n",
      "Label Encoding 完成...\n",
      "标准化数值特征完成...\n",
      "开始预测...\n"
     ]
    },
    {
     "name": "stderr",
     "output_type": "stream",
     "text": [
      "Predicting: 100%|██████████| 10/10 [00:00<00:00, 263.24it/s]\n"
     ]
    },
    {
     "name": "stdout",
     "output_type": "stream",
     "text": [
      "\n",
      "测试结果：\n",
      "Accuracy = 0.62966296629662965589\n",
      "Precision = 0.76583256101328389676\n",
      "Recall = 0.45704277286135691627\n",
      "F1-Score = 0.57245121810414500985\n",
      "Testing model xgboost on NSL-KDD-Gamma.csv\n",
      "开始加载测试数据：NSL-KDD-Gamma.csv\n",
      "开始对测试数据进行预处理...\n",
      "Label Encoding 完成...\n",
      "标准化数值特征完成...\n",
      "开始预测...\n"
     ]
    },
    {
     "name": "stderr",
     "output_type": "stream",
     "text": [
      "Predicting: 100%|██████████| 10/10 [00:00<00:00, 212.75it/s]\n"
     ]
    },
    {
     "name": "stdout",
     "output_type": "stream",
     "text": [
      "\n",
      "测试结果：\n",
      "Accuracy = 0.77797779777977793536\n",
      "Precision = 0.89990014977533694385\n",
      "Recall = 0.66463864306784659064\n",
      "F1-Score = 0.76458112407211031858\n",
      "Testing model xgboost on NSL-KDD-Poisson.csv\n",
      "开始加载测试数据：NSL-KDD-Poisson.csv\n",
      "开始对测试数据进行预处理...\n",
      "Label Encoding 完成...\n",
      "标准化数值特征完成...\n",
      "开始预测...\n"
     ]
    },
    {
     "name": "stderr",
     "output_type": "stream",
     "text": [
      "Predicting: 100%|██████████| 10/10 [00:00<00:00, 210.93it/s]\n"
     ]
    },
    {
     "name": "stdout",
     "output_type": "stream",
     "text": [
      "\n",
      "测试结果：\n",
      "Accuracy = 0.82178217821782173491\n",
      "Precision = 0.93172119487908966473\n",
      "Recall = 0.72455752212389379352\n",
      "F1-Score = 0.81518357187305534595\n",
      "Testing model xgboost on NSL-KDD-Binomial.csv\n",
      "开始加载测试数据：NSL-KDD-Binomial.csv\n",
      "开始对测试数据进行预处理...\n",
      "Label Encoding 完成...\n",
      "标准化数值特征完成...\n",
      "开始预测...\n"
     ]
    },
    {
     "name": "stderr",
     "output_type": "stream",
     "text": [
      "Predicting: 100%|██████████| 10/10 [00:00<00:00, 190.28it/s]\n"
     ]
    },
    {
     "name": "stdout",
     "output_type": "stream",
     "text": [
      "\n",
      "测试结果：\n",
      "Accuracy = 0.86168616861686164743\n",
      "Precision = 0.96225120109814687996\n",
      "Recall = 0.77544247787610620648\n",
      "F1-Score = 0.85880551301684537879\n",
      "Testing model xgboost on NSL-KDD-Beta.csv\n",
      "开始加载测试数据：NSL-KDD-Beta.csv\n",
      "开始对测试数据进行预处理...\n",
      "Label Encoding 完成...\n",
      "标准化数值特征完成...\n",
      "开始预测...\n"
     ]
    },
    {
     "name": "stderr",
     "output_type": "stream",
     "text": [
      "Predicting: 100%|██████████| 10/10 [00:00<00:00, 240.60it/s]\n"
     ]
    },
    {
     "name": "stdout",
     "output_type": "stream",
     "text": [
      "\n",
      "测试结果：\n",
      "Accuracy = 0.66436643664366434869\n",
      "Precision = 0.89255884586180711526\n",
      "Recall = 0.43344395280235986645\n",
      "F1-Score = 0.58351948374286422005\n",
      "Testing model xgboost on NSL-KDD-Cauchy.csv\n",
      "开始加载测试数据：NSL-KDD-Cauchy.csv\n",
      "开始对测试数据进行预处理...\n",
      "Label Encoding 完成...\n",
      "标准化数值特征完成...\n",
      "开始预测...\n"
     ]
    },
    {
     "name": "stderr",
     "output_type": "stream",
     "text": [
      "Predicting: 100%|██████████| 10/10 [00:00<00:00, 303.08it/s]"
     ]
    },
    {
     "name": "stdout",
     "output_type": "stream",
     "text": [
      "\n",
      "测试结果：\n",
      "Accuracy = 0.58045804580458049138\n",
      "Precision = 0.92291810048176192716\n",
      "Recall = 0.24723451327433629277\n",
      "F1-Score = 0.38999563763268868533\n",
      "\n",
      "Test Results:\n",
      "      Model               Test File  Accuracy  Precision    Recall  F1-score\n",
      "0        RF  NSL_KDD_test_split.csv  0.949795   0.988487  0.918142  0.952017\n",
      "1        RF    NSL-KDD-Gaussian.csv  0.654865   0.732940  0.572271  0.642717\n",
      "2        RF     NSL-KDD-Uniform.csv  0.632663   0.701403  0.562131  0.624092\n",
      "3        RF     NSL-KDD-Laplace.csv  0.653365   0.748603  0.543510  0.629780\n",
      "4        RF       NSL-KDD-Gamma.csv  0.766277   0.846465  0.695243  0.763438\n",
      "5        RF     NSL-KDD-Poisson.csv  0.802580   0.878124  0.738569  0.802323\n",
      "6        RF    NSL-KDD-Binomial.csv  0.880988   0.937578  0.836283  0.884038\n",
      "7        RF        NSL-KDD-Beta.csv  0.885989   0.915277  0.870391  0.892270\n",
      "8        RF      NSL-KDD-Cauchy.csv  0.585959   0.925729  0.257375  0.402770\n",
      "9       KNN  NSL_KDD_test_split.csv  0.968097   0.968951  0.972345  0.970645\n",
      "10      KNN    NSL-KDD-Gaussian.csv  0.819382   0.789255  0.910029  0.845350\n",
      "11      KNN     NSL-KDD-Uniform.csv  0.811181   0.784336  0.899152  0.837829\n",
      "12      KNN     NSL-KDD-Laplace.csv  0.816482   0.788366  0.904499  0.842449\n",
      "13      KNN       NSL-KDD-Gamma.csv  0.840384   0.807915  0.925885  0.862887\n",
      "14      KNN     NSL-KDD-Poisson.csv  0.858486   0.827372  0.933997  0.877457\n",
      "15      KNN    NSL-KDD-Binomial.csv  0.912891   0.901712  0.942109  0.921468\n",
      "16      KNN        NSL-KDD-Beta.csv  0.927593   0.921147  0.947640  0.934206\n",
      "17      KNN      NSL-KDD-Cauchy.csv  0.786479   0.751414  0.906158  0.821563\n",
      "18      GBM  NSL_KDD_test_split.csv  0.891089   0.983493  0.812869  0.890078\n",
      "19      GBM    NSL-KDD-Gaussian.csv  0.646465   0.795249  0.469027  0.590050\n",
      "20      GBM     NSL-KDD-Uniform.csv  0.610661   0.714847  0.469580  0.566819\n",
      "21      GBM     NSL-KDD-Laplace.csv  0.651665   0.834079  0.446718  0.581823\n",
      "22      GBM       NSL-KDD-Gamma.csv  0.796580   0.952966  0.657448  0.778093\n",
      "23      GBM     NSL-KDD-Poisson.csv  0.827883   0.962066  0.710730  0.817517\n",
      "24      GBM    NSL-KDD-Binomial.csv  0.839884   0.970697  0.726770  0.831207\n",
      "25      GBM        NSL-KDD-Beta.csv  0.960596   0.960623  0.966999  0.963800\n",
      "26      GBM      NSL-KDD-Cauchy.csv  0.576458   0.931109  0.236726  0.377481\n",
      "27       DT  NSL_KDD_test_split.csv  0.844684   0.929253  0.772493  0.843652\n",
      "28       DT    NSL-KDD-Gaussian.csv  0.604260   0.649541  0.587389  0.616904\n",
      "29       DT     NSL-KDD-Uniform.csv  0.603260   0.646964  0.591261  0.617860\n",
      "30       DT     NSL-KDD-Laplace.csv  0.593559   0.638549  0.577802  0.606659\n",
      "31       DT       NSL-KDD-Gamma.csv  0.701370   0.718537  0.738938  0.728595\n",
      "32       DT     NSL-KDD-Poisson.csv  0.732873   0.744711  0.772308  0.758259\n",
      "33       DT    NSL-KDD-Binomial.csv  0.778678   0.798365  0.792035  0.795187\n",
      "34       DT        NSL-KDD-Beta.csv  0.418742   0.473123  0.629609  0.540263\n",
      "35       DT      NSL-KDD-Cauchy.csv  0.579458   0.578554  0.827618  0.681029\n",
      "36       LR  NSL_KDD_test_split.csv  0.939394   0.941209  0.947456  0.944322\n",
      "37       LR    NSL-KDD-Gaussian.csv  0.643264   0.691720  0.617625  0.652576\n",
      "38       LR     NSL-KDD-Uniform.csv  0.606661   0.655734  0.578724  0.614827\n",
      "39       LR     NSL-KDD-Laplace.csv  0.668467   0.719825  0.636615  0.675668\n",
      "40       LR       NSL-KDD-Gamma.csv  0.791679   0.832570  0.771018  0.800613\n",
      "41       LR     NSL-KDD-Poisson.csv  0.817182   0.859600  0.792404  0.824635\n",
      "42       LR    NSL-KDD-Binomial.csv  0.904590   0.917601  0.905420  0.911470\n",
      "43       LR        NSL-KDD-Beta.csv  0.926593   0.928232  0.937131  0.932661\n",
      "44       LR      NSL-KDD-Cauchy.csv  0.858586   0.928602  0.800885  0.860028\n",
      "45  xgboost  NSL_KDD_test_split.csv  0.930693   0.993532  0.877950  0.932172\n",
      "46  xgboost    NSL-KDD-Gaussian.csv  0.643964   0.766286  0.494469  0.601076\n",
      "47  xgboost     NSL-KDD-Uniform.csv  0.627663   0.728077  0.500553  0.593248\n",
      "48  xgboost     NSL-KDD-Laplace.csv  0.629663   0.765833  0.457043  0.572451\n",
      "49  xgboost       NSL-KDD-Gamma.csv  0.777978   0.899900  0.664639  0.764581\n",
      "50  xgboost     NSL-KDD-Poisson.csv  0.821782   0.931721  0.724558  0.815184\n",
      "51  xgboost    NSL-KDD-Binomial.csv  0.861686   0.962251  0.775442  0.858806\n",
      "52  xgboost        NSL-KDD-Beta.csv  0.664366   0.892559  0.433444  0.583519\n",
      "53  xgboost      NSL-KDD-Cauchy.csv  0.580458   0.922918  0.247235  0.389996\n"
     ]
    },
    {
     "name": "stderr",
     "output_type": "stream",
     "text": [
      "\n"
     ]
    }
   ],
   "source": [
    "model_names = ['RF', 'KNN', 'GBM', 'DT', 'LR', 'xgboost']  # 可更改或扩展模型列表\n",
    "test_files = [\n",
    "        \"NSL_KDD_test_split.csv\",\n",
    "        'NSL-KDD-Gaussian.csv', \n",
    "        'NSL-KDD-Uniform.csv', \n",
    "        'NSL-KDD-Laplace.csv',\n",
    "        'NSL-KDD-Gamma.csv', \n",
    "        'NSL-KDD-Poisson.csv', \n",
    "        'NSL-KDD-Binomial.csv',\n",
    "        'NSL-KDD-Beta.csv', \n",
    "        'NSL-KDD-Cauchy.csv'\n",
    "    ]\n",
    "    \n",
    "\n",
    "results = []\n",
    "    \n",
    "for model_name in model_names:\n",
    "    print(f\"Training model: {model_name}\")\n",
    "        \n",
    "    # 选择模型\n",
    "    model = choose_model(model_name)\n",
    "        \n",
    "    # 训练模型\n",
    "    model, X_train, y_train, select_features = train_model(model, train_csv_path)\n",
    "        \n",
    "    for test_csv_path in test_files:\n",
    "        print(f\"Testing model {model_name} on {test_csv_path}\")\n",
    "        acc, precision, recall, f1 = test_model(model, test_csv_path, select_features, batch_size=1000)\n",
    "        results.append((model_name, test_csv_path, acc, precision, recall, f1))\n",
    "    \n",
    "# 保存结果到 CSV 文件\n",
    "results_df = pd.DataFrame(results, columns=['Model', 'Test File', 'Accuracy', 'Precision', 'Recall', 'F1-score'])\n",
    "results_df.to_csv('model_test_results_ml.csv', index=False)\n",
    "    \n",
    "# 打印测试结果\n",
    "print(\"\\nTest Results:\")\n",
    "print(results_df)"
   ]
  }
 ],
 "metadata": {
  "kernelspec": {
   "display_name": "Python 3",
   "language": "python",
   "name": "python3"
  },
  "language_info": {
   "codemirror_mode": {
    "name": "ipython",
    "version": 3
   },
   "file_extension": ".py",
   "mimetype": "text/x-python",
   "name": "python",
   "nbconvert_exporter": "python",
   "pygments_lexer": "ipython3",
   "version": "3.9.18"
  }
 },
 "nbformat": 4,
 "nbformat_minor": 2
}
