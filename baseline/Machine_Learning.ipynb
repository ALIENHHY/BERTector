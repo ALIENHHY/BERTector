{
 "cells": [
  {
   "cell_type": "code",
   "execution_count": 45,
   "metadata": {},
   "outputs": [],
   "source": [
    "import pandas as pd\n",
    "import numpy as np\n",
    "from sklearn.preprocessing import LabelEncoder\n",
    "from sklearn.metrics import accuracy_score, precision_score, recall_score, f1_score, confusion_matrix\n",
    "from sklearn.tree import DecisionTreeClassifier\n",
    "from sklearn.ensemble import RandomForestClassifier, GradientBoostingClassifier\n",
    "from sklearn.svm import SVC\n",
    "from sklearn.neighbors import KNeighborsClassifier\n",
    "from sklearn.linear_model import LogisticRegression\n",
    "from xgboost import XGBClassifier\n",
    "import matplotlib.pyplot as plt\n",
    "import seaborn as sns  # 如果想要更方便地可视化混淆矩阵，可以使用 seaborn\n",
    "from tqdm import tqdm   # 用于进度条"
   ]
  },
  {
   "cell_type": "code",
   "execution_count": 46,
   "metadata": {},
   "outputs": [],
   "source": [
    "# -----------------------------------------------------------------------------\n",
    "# 1. 数据预处理函数\n",
    "# -----------------------------------------------------------------------------\n",
    "def preprocess_data(df):\n",
    "    \"\"\"\n",
    "    对数据进行预处理：\n",
    "    1. 将object类型或可能是字符串类型的特征进行编码（标签编码）\n",
    "    2. 提取特征X和标签y\n",
    "    \"\"\"\n",
    "    # 假设最后一列class为标签\n",
    "    # 如果列名为 'class'，则：\n",
    "    if 'class' not in df.columns:\n",
    "        raise ValueError(\"DataFrame 中未找到 'class' 列，请检查数据。\")\n",
    "    # 分离特征和标签\n",
    "    X = df.drop('class', axis=1)\n",
    "    y = df['class']\n",
    "    # 找到所有非数字列，对其进行标签编码\n",
    "    # 如果你想使用独热编码，可以改成 pd.get_dummies(X, columns=cols)\n",
    "    non_numeric_cols = X.select_dtypes(include=['object']).columns\n",
    "    for col in non_numeric_cols:\n",
    "        le = LabelEncoder()\n",
    "        X[col] = le.fit_transform(X[col].astype(str))\n",
    "    return X, y"
   ]
  },
  {
   "cell_type": "code",
   "execution_count": 47,
   "metadata": {},
   "outputs": [],
   "source": [
    "# -----------------------------------------------------------------------------\n",
    "# 2. 模型选择函数\n",
    "# -----------------------------------------------------------------------------\n",
    "def choose_model(model_name='RF'):\n",
    "    \"\"\"\n",
    "    根据输入的模型名称，返回对应的机器学习模型实例。\n",
    "    可根据需求在此扩展更多模型。\n",
    "    \"\"\"\n",
    "    model_name = model_name.lower()\n",
    "    if model_name == 'dt':\n",
    "        # 决策树\n",
    "        return DecisionTreeClassifier(random_state=42)\n",
    "    elif model_name == 'rf':\n",
    "        # 随机森林\n",
    "        return RandomForestClassifier(n_estimators=100, random_state=42)\n",
    "    elif model_name == 'svm':\n",
    "        # 支持向量机\n",
    "        return SVC(kernel='rbf', probability=True, random_state=42)\n",
    "    elif model_name == 'knn':\n",
    "        # K近邻\n",
    "        return KNeighborsClassifier(n_neighbors=5)\n",
    "    elif model_name == 'gbm':\n",
    "        # 梯度提升\n",
    "        return GradientBoostingClassifier(n_estimators=100, learning_rate=0.1, random_state=42)\n",
    "    elif model_name == 'lr':\n",
    "        # 逻辑回归\n",
    "        return LogisticRegression(max_iter=1000, random_state=42)\n",
    "    elif model_name == 'xgboost':\n",
    "        # XGBoost\n",
    "        return XGBClassifier(use_label_encoder=False, eval_metric='logloss', random_state=42)\n",
    "    else:\n",
    "        print(f\"未匹配到指定模型 {model_name}，默认使用随机森林 (RF)。\")\n",
    "        return RandomForestClassifier(n_estimators=100, random_state=42)"
   ]
  },
  {
   "cell_type": "code",
   "execution_count": 48,
   "metadata": {},
   "outputs": [],
   "source": [
    "# -----------------------------------------------------------------------------\n",
    "# 3. 训练函数\n",
    "# -----------------------------------------------------------------------------\n",
    "def train_model(model, train_path):\n",
    "    \"\"\"\n",
    "    使用给定的模型和训练集路径对模型进行训练。\n",
    "    返回训练好的模型，以及预处理后的训练特征和标签。\n",
    "    \"\"\"\n",
    "    print(f\"开始加载训练数据：{train_path}\")\n",
    "    df_train = pd.read_csv(train_path)\n",
    "    print(\"开始对训练数据进行预处理...\")\n",
    "    X_train, y_train = preprocess_data(df_train)\n",
    "    print(\"开始训练模型...\")\n",
    "    # 这里加一个进度条来模拟训练过程；一般情况下，训练过程本身不一定能直接在tqdm中显示（要看模型是否支持迭代输出）\n",
    "    for _ in tqdm(range(1), desc=\"Training\"):\n",
    "        model.fit(X_train, y_train)\n",
    "    print(\"训练完成！\")\n",
    "    return model, X_train, y_train"
   ]
  },
  {
   "cell_type": "code",
   "execution_count": 49,
   "metadata": {},
   "outputs": [],
   "source": [
    "# -----------------------------------------------------------------------------\n",
    "# 4. 测试函数\n",
    "# -----------------------------------------------------------------------------\n",
    "def test_model(model, test_path, batch_size=1000):\n",
    "    \"\"\"\n",
    "    使用给定的模型和测试集路径对模型进行测试。\n",
    "    返回评估指标分数，并可视化混淆矩阵。\n",
    "    使用批量预测来提升速度，同时保留进度条。\n",
    "    \n",
    "    参数:\n",
    "    - model: 训练好的模型\n",
    "    - test_path: 测试集CSV文件路径\n",
    "    - batch_size: 每批预测的数据量大小\n",
    "    \"\"\"\n",
    "    print(f\"开始加载测试数据：{test_path}\")\n",
    "    df_test = pd.read_csv(test_path)\n",
    "    print(\"开始对测试数据进行预处理...\")\n",
    "    X_test, y_test = preprocess_data(df_test)\n",
    "    print(\"开始预测...\")\n",
    "    # 如果不需要进度条，或对小数据集，直接使用 model.predict(X_test) 即可:\n",
    "    # y_pred = model.predict(X_test)\n",
    "    #\n",
    "    # 下面使用批量预测方式 + tqdm 进度条的写法：\n",
    "    predictions = []\n",
    "    # range(0, len(X_test), batch_size) 可以把测试集分成若干批次\n",
    "    for start_idx in tqdm(range(0, len(X_test), batch_size), desc=\"Predicting\"):\n",
    "        end_idx = min(start_idx + batch_size, len(X_test))\n",
    "        # 按批次取出数据\n",
    "        X_batch = X_test.iloc[start_idx:end_idx]\n",
    "        # 一次预测该批次所有样本\n",
    "        batch_preds = model.predict(X_batch)\n",
    "        # 收集到predictions中\n",
    "        predictions.extend(batch_preds)\n",
    "    # 转为数组\n",
    "    y_pred = np.array(predictions)\n",
    "    # 计算指标\n",
    "    acc = accuracy_score(y_test, y_pred)\n",
    "    precision = precision_score(y_test, y_pred, average='weighted', zero_division=0)\n",
    "    recall = recall_score(y_test, y_pred, average='weighted', zero_division=0)\n",
    "    f1 = f1_score(y_test, y_pred, average='weighted', zero_division=0)\n",
    "    print(f\"\\n测试结果：\\nAccuracy = {acc:.4f}\\nPrecision = {precision:.4f}\\nRecall = {recall:.4f}\\nF1-Score = {f1:.4f}\")\n",
    "    # 可视化混淆矩阵\n",
    "    cm = confusion_matrix(y_test, y_pred)\n",
    "    plt.figure()\n",
    "    sns.heatmap(cm, annot=True, fmt='d', cmap='Blues')\n",
    "    plt.title('Confusion Matrix')\n",
    "    plt.xlabel('Predicted')\n",
    "    plt.ylabel('True')\n",
    "    plt.show()\n",
    "    return acc, precision, recall, f1"
   ]
  },
  {
   "cell_type": "code",
   "execution_count": 50,
   "metadata": {},
   "outputs": [
    {
     "name": "stdout",
     "output_type": "stream",
     "text": [
      "开始加载训练数据：NSL-KDD-Train.csv\n",
      "开始对训练数据进行预处理...\n",
      "开始训练模型...\n"
     ]
    },
    {
     "name": "stderr",
     "output_type": "stream",
     "text": [
      "Training: 100%|██████████| 1/1 [00:00<00:00, 13.16it/s]"
     ]
    },
    {
     "name": "stdout",
     "output_type": "stream",
     "text": [
      "训练完成！\n"
     ]
    },
    {
     "name": "stderr",
     "output_type": "stream",
     "text": [
      "\n"
     ]
    }
   ],
   "source": [
    "# -----------------------------------------------------------------------------\n",
    "# 主流程示例\n",
    "# -----------------------------------------------------------------------------\n",
    "selected_model_name = 'KNN'  # 'RF', 'SVM', 'KNN', 'GBM', 'DT', 'LR', 'xgboost' 等\n",
    "model = choose_model(selected_model_name)\n",
    "# 设置训练集和测试集路径\n",
    "train_csv_path = \"NSL-KDD-Train.csv\"\n",
    "# 训练模型\n",
    "model, X_train, y_train = train_model(model, train_csv_path)"
   ]
  },
  {
   "cell_type": "code",
   "execution_count": 51,
   "metadata": {},
   "outputs": [
    {
     "name": "stdout",
     "output_type": "stream",
     "text": [
      "开始加载测试数据：NSL-KDD-FGSM-Adversarial.csv\n",
      "开始对测试数据进行预处理...\n",
      "开始预测...\n"
     ]
    },
    {
     "name": "stderr",
     "output_type": "stream",
     "text": [
      "Predicting: 100%|██████████| 35/35 [00:23<00:00,  1.48it/s]\n"
     ]
    },
    {
     "name": "stdout",
     "output_type": "stream",
     "text": [
      "\n",
      "测试结果：\n",
      "Accuracy = 0.7007\n",
      "Precision = 0.8124\n",
      "Recall = 0.7007\n",
      "F1-Score = 0.7043\n"
     ]
    },
    {
     "data": {
      "image/png": "[encoded data removed]",
      "text/plain": [
       "<Figure size 640x480 with 2 Axes>"
      ]
     },
     "metadata": {},
     "output_type": "display_data"
    }
   ],
   "source": [
    "# 测试模型\n",
    "# 你可以调整batch_size，如1000、5000、甚至一次性预测\n",
    "test_csv_path = \"NSL-KDD-FGSM-Adversarial.csv\"  # NSL-KDD-FGSM-Adversarial    NSL-KDD-Test\n",
    "acc, precision, recall, f1 = test_model(model, test_csv_path, batch_size=1000)"
   ]
  }
 ],
 "metadata": {
  "kernelspec": {
   "display_name": "Python 3",
   "language": "python",
   "name": "python3"
  },
  "language_info": {
   "codemirror_mode": {
    "name": "ipython",
    "version": 3
   },
   "file_extension": ".py",
   "mimetype": "text/x-python",
   "name": "python",
   "nbconvert_exporter": "python",
   "pygments_lexer": "ipython3",
   "version": "3.10.5"
  }
 },
 "nbformat": 4,
 "nbformat_minor": 2
}
