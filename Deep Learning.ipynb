{
 "cells": [
  {
   "cell_type": "code",
   "execution_count": 157,
   "metadata": {},
   "outputs": [],
   "source": [
    "import pandas as pd\n",
    "import numpy as np\n",
    "from sklearn.preprocessing import LabelEncoder\n",
    "from sklearn.metrics import accuracy_score, precision_score, recall_score, f1_score, confusion_matrix\n",
    "from sklearn.model_selection import train_test_split\n",
    "import matplotlib.pyplot as plt\n",
    "import seaborn as sns  # 如果想要更方便地可视化混淆矩阵，可以使用 seaborn\n",
    "from tqdm import tqdm   # 用于进度条\n",
    "from sklearn.preprocessing import StandardScaler, MinMaxScaler, RobustScaler, LabelEncoder, OneHotEncoder"
   ]
  },
  {
   "cell_type": "markdown",
   "metadata": {},
   "source": [
    "| 方法 | 适用场景 | 优点 | 缺点 |\n",
    "|------|----------|------|------|\n",
    "| **方差过滤** | 特征数据较多，但部分特征几乎无变化 | 简单高效 | 可能误删重要特征 |\n",
    "| **相关性分析** | 需要快速找出与目标变量相关的特征 | 可解释性强 | 仅适用于线性关系 |\n",
    "| **递归特征消除 (RFE)** | 需要选择固定数量的重要特征 | 适用于各种模型 | 计算量较大 |\n",
    "| **Lasso (L1 正则化)** | 数据含有冗余特征 | 可自动筛选特征 | 只适用于线性模型 |\n",
    "| **随机森林特征选择** | 适用于分类问题 | 适用于高维数据 | 计算量大 |\n",
    "| **LightGBM 重要性** | 数据量大、特征多 | 高效、适用于大规模数据 | 需要调整超参数 |\n"
   ]
  },
  {
   "cell_type": "code",
   "execution_count": 158,
   "metadata": {},
   "outputs": [],
   "source": [
    "from sklearn.feature_selection import RFE\n",
    "from sklearn.ensemble import RandomForestClassifier\n",
    "\n",
    "def rfe_selection(df, target_column, n_features_to_select=5):\n",
    "    \"\"\"\n",
    "    使用RFE（递归特征消除）选择特征\n",
    "    \n",
    "    参数:\n",
    "    df: DataFrame - 输入数据集\n",
    "    target_column: str - 目标变量列名\n",
    "    n_features_to_select: int - 选择的特征数量（默认5）\n",
    "    \n",
    "    返回:\n",
    "    selected_features: list - 选出的特征名列表\n",
    "    \"\"\"\n",
    "    X = df.drop([target_column], axis=1)\n",
    "    y = df[target_column]\n",
    "\n",
    "    model = RandomForestClassifier(n_estimators=100, random_state=42)\n",
    "    selector = RFE(model, n_features_to_select=n_features_to_select)\n",
    "    selector.fit(X, y)\n",
    "    \n",
    "    selected_features = X.columns[selector.support_].tolist()\n",
    "    return selected_features\n"
   ]
  },
  {
   "cell_type": "code",
   "execution_count": 159,
   "metadata": {},
   "outputs": [],
   "source": [
    "from sklearn.linear_model import Lasso\n",
    "from sklearn.preprocessing import StandardScaler\n",
    "\n",
    "def lasso_selection(df, target_column, alpha=0.01):\n",
    "    \"\"\"\n",
    "    使用 Lasso 回归进行特征选择\n",
    "    \n",
    "    参数:\n",
    "    df: DataFrame - 输入数据集\n",
    "    target_column: str - 目标变量列名\n",
    "    alpha: float - Lasso 回归的正则化参数（默认0.01）\n",
    "    \n",
    "    返回:\n",
    "    selected_features: list - 选出的特征名列表\n",
    "    \"\"\"\n",
    "    X = df.drop([target_column], axis=1)\n",
    "    y = df[target_column]\n",
    "\n",
    "    scaler = StandardScaler()\n",
    "    X_scaled = scaler.fit_transform(X)\n",
    "\n",
    "    lasso = Lasso(alpha=alpha)\n",
    "    lasso.fit(X_scaled, y)\n",
    "\n",
    "    selected_features = X.columns[lasso.coef_ != 0].tolist()\n",
    "    return selected_features\n"
   ]
  },
  {
   "cell_type": "code",
   "execution_count": 160,
   "metadata": {},
   "outputs": [],
   "source": [
    "import lightgbm as lgb\n",
    "\n",
    "def lgbm_feature_selection(df, target_column, num_features=10):\n",
    "    \"\"\"\n",
    "    使用 LightGBM 选择特征\n",
    "    \n",
    "    参数:\n",
    "    df: DataFrame - 输入数据集\n",
    "    target_column: str - 目标变量列名\n",
    "    num_features: int - 选择的特征数量（默认10）\n",
    "    \n",
    "    返回:\n",
    "    selected_features: list - 选出的特征名列表\n",
    "    \"\"\"\n",
    "    X = df.drop([target_column], axis=1)\n",
    "    y = df[target_column]\n",
    "\n",
    "    model = lgb.LGBMClassifier(n_estimators=100, random_state=42)\n",
    "    model.fit(X, y)\n",
    "\n",
    "    feature_importances = pd.Series(model.feature_importances_, index=X.columns)\n",
    "    selected_features = feature_importances.nlargest(num_features).index.tolist()\n",
    "    return selected_features\n"
   ]
  },
  {
   "cell_type": "code",
   "execution_count": 161,
   "metadata": {},
   "outputs": [],
   "source": [
    "from sklearn.ensemble import RandomForestClassifier\n",
    "from sklearn.feature_selection import SelectFromModel\n",
    "from sklearn.model_selection import train_test_split\n",
    "\n",
    "def select_features_with_rf(df, target_column, test_size=0.3, n_estimators=100, random_state=42):\n",
    "    \"\"\"\n",
    "    使用随机森林进行特征选择\n",
    "    \n",
    "    参数:\n",
    "    df: DataFrame - 输入数据集\n",
    "    target_column: str - 目标变量列名\n",
    "    test_size: float - 测试集比例 (默认 0.3)\n",
    "    n_estimators: int - 随机森林树的数量 (默认 100)\n",
    "    random_state: int - 随机种子，确保结果可复现 (默认 42)\n",
    "    \n",
    "    返回:\n",
    "    selected_features: list - 选出的特征名列表\n",
    "    X_train_selected: DataFrame - 训练集筛选后的特征\n",
    "    X_test_selected: DataFrame - 测试集筛选后的特征\n",
    "    y_train: Series - 训练集目标变量\n",
    "    y_test: Series - 测试集目标变量\n",
    "    \"\"\"\n",
    "    \n",
    "    # 1. 分离特征和目标变量\n",
    "    #df = pd.read_csv(train_path)\n",
    "    #X, y = preprocess_data(df)\n",
    "\n",
    "    X = df.drop([target_column], axis=1)\n",
    "    y = df[target_column]\n",
    "\n",
    "    # 2. 划分训练集和测试集\n",
    "    X_train, X_test, y_train, y_test = train_test_split(X, y, test_size=test_size, random_state=random_state)\n",
    "    #print(f\"训练集: {X_train.shape}, 测试集: {X_test.shape}\")\n",
    "\n",
    "    # 3. 训练随机森林模型\n",
    "    rf = RandomForestClassifier(n_estimators=n_estimators, random_state=random_state)\n",
    "    rf.fit(X_train, y_train)\n",
    "\n",
    "    # 4. 使用 SelectFromModel 进行特征选择\n",
    "    sel = SelectFromModel(rf)\n",
    "    sel.fit(X_train, y_train)\n",
    "\n",
    "    # 5. 获取被选中的特征\n",
    "    selected_features = X_train.columns[sel.get_support()].tolist()\n",
    "\n",
    "\n",
    "    return selected_features"
   ]
  },
  {
   "cell_type": "code",
   "execution_count": 162,
   "metadata": {},
   "outputs": [],
   "source": [
    "# -----------------------------------------------------------------------------\n",
    "# 1. 数据预处理函数\n",
    "# -----------------------------------------------------------------------------\n",
    "def preprocess_data(df):\n",
    "    \"\"\"\n",
    "    对数据进行预处理：\n",
    "    1. 将object类型或可能是字符串类型的特征进行编码（标签编码）\n",
    "    2. 提取特征X和标签y\n",
    "    \"\"\"\n",
    "    # 假设最后一列class为标签\n",
    "    # 如果列名为 'class'，则：\n",
    "    if 'class' not in df.columns:\n",
    "        raise ValueError(\"DataFrame 中未找到 'class' 列，请检查数据。\")\n",
    "    \n",
    "    #df = df.drop(columns=['id', 'attack_cat'])  # 删除无用列\n",
    "\n",
    "    # 版本 1: Label Encoding (适合决策树、随机森林、XGBoost)\n",
    "    categorical_columns = ['protocol_type', 'service', 'flag']\n",
    "    df_label = df.copy()\n",
    "    label_encoders = {}\n",
    "    for col in categorical_columns:\n",
    "        le = LabelEncoder()\n",
    "        df_label[col] = le.fit_transform(df[col])\n",
    "        label_encoders[col] = le  # 存储编码器，便于逆向转换\n",
    "    \n",
    "    print(\"Label Encoding 完成...\")\n",
    "\n",
    "    # 标准化数值特征（不包括 label）\n",
    "    numerical_columns = df.select_dtypes(include=['int64', 'float64']).columns.tolist()\n",
    "    numerical_columns.remove('class')  # 不对标签列进行标准化\n",
    "    \n",
    "    # 标准化方法\n",
    "    scaler_standard = StandardScaler()\n",
    "    scaler_minmax = MinMaxScaler()\n",
    "    scaler_robust = RobustScaler()\n",
    "\n",
    "    df_standard = df_label.copy()\n",
    "    #df_minmax = df_label.copy()\n",
    "    #df_robust = df_label.copy()\n",
    "\n",
    "    df_standard[numerical_columns] = scaler_standard.fit_transform(df_standard[numerical_columns])\n",
    "    \n",
    "    print(\"标准化数值特征完成...\")\n",
    "    #df_minmax[numerical_columns] = scaler_minmax.fit_transform(df_minmax[numerical_columns])\n",
    "    #df_robust[numerical_columns] = scaler_robust.fit_transform(df_robust[numerical_columns])\n",
    "\n",
    "    #select_features=select_features_with_rf(df_standard, 'label')\n",
    "    #df_standard=df_standard[select_features+['label']]\n",
    "\n",
    "    # 分离特征和标签\n",
    "    #X = df_standard.drop('label', axis=1)\n",
    "    #y = df_standard['label']\n",
    "\n",
    "    return df_standard"
   ]
  },
  {
   "cell_type": "code",
   "execution_count": 163,
   "metadata": {},
   "outputs": [],
   "source": [
    "# 特征选择\n",
    "def preprocess_data_select(df_standard): \n",
    "    \n",
    "    select_features=select_features_with_rf(df_standard, 'class')\n",
    "    df_standard=df_standard[select_features+['class']]\n",
    "    \n",
    "    return df_standard, select_features"
   ]
  },
  {
   "cell_type": "code",
   "execution_count": 164,
   "metadata": {},
   "outputs": [],
   "source": [
    "import torch\n",
    "import torch.nn as nn\n",
    "# 深度神经网络（DNN）\n",
    "class DNN_IDS(nn.Module):\n",
    "    def __init__(self, input_size, hidden_sizes, output_size):\n",
    "        super(DNN_IDS, self).__init__()\n",
    "        layers = []\n",
    "        layer_sizes = [input_size] + hidden_sizes + [output_size]\n",
    "        for i in range(len(layer_sizes) - 1):\n",
    "            layers.append(nn.Linear(layer_sizes[i], layer_sizes[i + 1]))\n",
    "            if i < len(layer_sizes) - 2:\n",
    "                layers.append(nn.ReLU())\n",
    "        self.model = nn.Sequential(*layers)\n",
    "\n",
    "    def forward(self, x):\n",
    "        return self.model(x)\n",
    "\n",
    "def create_dnn_model(input_size, hidden_sizes, output_size):\n",
    "    return DNN_IDS(input_size, hidden_sizes, output_size)\n",
    "# 输入大小、隐藏层大小和输出大小"
   ]
  },
  {
   "cell_type": "code",
   "execution_count": 165,
   "metadata": {},
   "outputs": [],
   "source": [
    "import torch\n",
    "import torch.nn as nn\n",
    "# 卷积神经网络（CNN）\n",
    "class CNN_IDS(nn.Module):\n",
    "    def __init__(self, input_size, output_size=2):\n",
    "        super(CNN_IDS, self).__init__()\n",
    "        self.model = nn.Sequential(\n",
    "            nn.Conv1d(in_channels=1, out_channels=32, kernel_size=3, padding=1),\n",
    "            nn.ReLU(),\n",
    "            nn.BatchNorm1d(32),  # 归一化\n",
    "            nn.Conv1d(in_channels=32, out_channels=64, kernel_size=3, padding=1),\n",
    "            nn.ReLU(),\n",
    "            nn.BatchNorm1d(64),\n",
    "            nn.Flatten(),  # 展平\n",
    "            nn.Linear(64 * input_size, 128),  \n",
    "            nn.ReLU(),\n",
    "            nn.Dropout(0.5),  # Dropout 防止过拟合\n",
    "            nn.Linear(128, output_size)\n",
    "        )\n",
    "\n",
    "    def forward(self, x):\n",
    "        x = x.view(x.shape[0], 1, x.shape[1])  # (batch, channels, features)\n",
    "        return self.model(x)\n",
    "\n",
    "def create_cnn_model(input_size, output_size):\n",
    "    return CNN_IDS(input_size, output_size)"
   ]
  },
  {
   "cell_type": "code",
   "execution_count": 166,
   "metadata": {},
   "outputs": [],
   "source": [
    "import torch\n",
    "import torch.nn as nn\n",
    "# 循环神经网络（RNN）\n",
    "class RNN_IDS(nn.Module):\n",
    "    def __init__(self, input_size, hidden_size, output_size, num_layers=1):\n",
    "        super(RNN_IDS, self).__init__()\n",
    "        self.hidden_size = hidden_size\n",
    "        self.num_layers = num_layers\n",
    "        self.rnn = nn.RNN(input_size, hidden_size, num_layers, batch_first=True)\n",
    "        self.fc = nn.Linear(hidden_size, output_size)\n",
    "\n",
    "    def forward(self, x):\n",
    "        x = x.view(x.shape[0], -1, x.shape[1])  # 确保输入形状为 (batch, seq_len, input_size)\n",
    "        h0 = torch.zeros(self.num_layers, x.size(0), self.hidden_size).to(x.device)  # 初始化 h0\n",
    "        out, _ = self.rnn(x, h0)  # 前向传播\n",
    "        out = self.fc(out[:, -1, :])  # 取最后时间步输出\n",
    "        return out\n",
    "\n",
    "def create_rnn_model(input_size, hidden_size, output_size, num_layers=1):\n",
    "    return RNN_IDS(input_size, hidden_size, output_size, num_layers)\n",
    "#input_size：每个时间步的输入特征的维度。\n",
    "#hidden_size：隐藏层的大小，即 RNN 的隐状态维度。\n",
    "#output_size：输出的维度，例如分类任务的类别数。\n",
    "#num_layers：RNN 层数，默认值为 1。"
   ]
  },
  {
   "cell_type": "code",
   "execution_count": 167,
   "metadata": {},
   "outputs": [],
   "source": [
    "import torch\n",
    "import torch.nn as nn\n",
    "# 长短时记忆网络（LSTM）\n",
    "class LSTM_IDS(nn.Module):\n",
    "    def __init__(self, input_size, hidden_size, output_size, num_layers=1):\n",
    "        super(LSTM_IDS, self).__init__()\n",
    "        self.hidden_size = hidden_size\n",
    "        self.num_layers = num_layers\n",
    "        self.lstm = nn.LSTM(input_size, hidden_size, num_layers, batch_first=True)\n",
    "        self.fc = nn.Linear(hidden_size, output_size)\n",
    "\n",
    "    def forward(self, x):\n",
    "        x = x.view(x.shape[0], -1, x.shape[1])  # 确保输入形状正确 (batch, seq_len, input_size)\n",
    "        \n",
    "        # 纠正隐藏状态 hx 和 cx 的形状\n",
    "        h0 = torch.zeros(self.num_layers, x.size(0), self.hidden_size).to(x.device)\n",
    "        c0 = torch.zeros(self.num_layers, x.size(0), self.hidden_size).to(x.device)\n",
    "\n",
    "        out, _ = self.lstm(x, (h0, c0))  # 前向传播\n",
    "        out = self.fc(out[:, -1, :])  # 取最后时间步的输出\n",
    "        return out\n",
    "\n",
    "def create_lstm_model(input_size, hidden_size, output_size, num_layers=1):\n",
    "    return LSTM_IDS(input_size, hidden_size, output_size, num_layers)\n",
    "#input_size：每个时间步的输入特征的维度。\n",
    "#hidden_size：隐藏层的大小，即 LSTM 的隐状态维度。\n",
    "#output_size：输出的维度，例如分类任务的类别数。\n",
    "#num_layers：LSTM 层数，默认值为 1。\n"
   ]
  },
  {
   "cell_type": "code",
   "execution_count": 168,
   "metadata": {},
   "outputs": [],
   "source": [
    "def vae_loss(recon_x, x, mu, logvar, beta=0.1):  # beta 控制 KL 损失大小\n",
    "    recon_loss = nn.MSELoss()(recon_x, x)\n",
    "    kl_divergence = -0.5 * beta * torch.sum(1 + logvar - mu.pow(2) - logvar.exp())  # 调低 KL 权重\n",
    "    return recon_loss + kl_divergence\n"
   ]
  },
  {
   "cell_type": "code",
   "execution_count": 169,
   "metadata": {},
   "outputs": [],
   "source": [
    "def compute_threshold(model, X_train):\n",
    "    \"\"\"\n",
    "    计算 VAE 的重构误差阈值（均值 + 3 * 标准差）\n",
    "    \"\"\"\n",
    "    model.eval()\n",
    "    with torch.no_grad():\n",
    "        recon_x, _, _ = model(X_train)  # VAE 生成重构数据\n",
    "        mse_loss = torch.mean((X_train - recon_x) ** 2, dim=1)  # 计算 MSE 误差\n",
    "    \n",
    "    threshold = mse_loss.mean().item() + 3 * mse_loss.std().item()  # 设定阈值\n",
    "    print(f\"设定 VAE 阈值：{threshold:.6f}\")\n",
    "    return threshold\n"
   ]
  },
  {
   "cell_type": "code",
   "execution_count": 170,
   "metadata": {},
   "outputs": [],
   "source": [
    "import torch\n",
    "import torch.nn as nn\n",
    "# 变分自编码器（VAE）\n",
    "class VAE_IDS(nn.Module):\n",
    "    def __init__(self, input_size, hidden_size, latent_size):\n",
    "        super(VAE_IDS, self).__init__()\n",
    "\n",
    "        # 编码器部分\n",
    "        self.fc1 = nn.Linear(input_size, hidden_size)\n",
    "        self.bn1 = nn.BatchNorm1d(hidden_size)  # 批量归一化\n",
    "        self.fc21 = nn.Linear(hidden_size, latent_size)  # 均值\n",
    "        self.fc22 = nn.Linear(hidden_size, latent_size)  # 方差\n",
    "\n",
    "        # 解码器部分\n",
    "        self.fc3 = nn.Linear(latent_size, hidden_size)\n",
    "        self.bn2 = nn.BatchNorm1d(hidden_size)\n",
    "        self.fc4 = nn.Linear(hidden_size, input_size)\n",
    "\n",
    "        self.dropout = nn.Dropout(0.3)  # 防止过拟合\n",
    "\n",
    "    def encode(self, x):\n",
    "        h1 = torch.relu(self.bn1(self.fc1(x)))\n",
    "        h1 = self.dropout(h1)\n",
    "        return self.fc21(h1), self.fc22(h1)\n",
    "\n",
    "    def reparameterize(self, mu, logvar):\n",
    "        std = torch.exp(0.5 * logvar)\n",
    "        eps = torch.randn_like(std)\n",
    "        return mu + eps * std\n",
    "\n",
    "    def decode(self, z):\n",
    "        h3 = torch.relu(self.bn2(self.fc3(z)))\n",
    "        h3 = self.dropout(h3)\n",
    "        return self.fc4(h3)  # 不使用 sigmoid，使用 MSELoss 计算损失\n",
    "\n",
    "    def forward(self, x):\n",
    "        mu, logvar = self.encode(x)\n",
    "        z = self.reparameterize(mu, logvar)\n",
    "        return self.decode(z), mu, logvar  \n",
    "\n",
    "def create_vae_model(input_size, hidden_size, latent_size):\n",
    "    return VAE_IDS(input_size, hidden_size, latent_size)\n",
    "#hidden_size：隐藏层的大小。\n",
    "#latent_size：潜在空间的大小。\n"
   ]
  },
  {
   "cell_type": "code",
   "execution_count": 171,
   "metadata": {},
   "outputs": [],
   "source": [
    "import torch\n",
    "import torch.nn as nn\n",
    "\n",
    "# 选择模型的函数，根据传入的模型名称返回对应的模型实例\n",
    "def choose_model(model_name='dnn',input_size=None, **kwargs):\n",
    "    model_name = model_name.lower()\n",
    "    \n",
    "    if model_name == 'dnn':  # 深度神经网络（DNN）\n",
    "        if input_size is None:\n",
    "            raise ValueError(\"必须提供 input_size！\")\n",
    "        hidden_sizes = kwargs.get('hidden_sizes', [128, 64])\n",
    "        output_size = 2  # 入侵检测系统（IDS）是二分类任务\n",
    "        return DNN_IDS(input_size, hidden_sizes, output_size)\n",
    "    \n",
    "    elif model_name == 'cnn':  # 卷积神经网络（CNN）\n",
    "        if input_size is None:\n",
    "            raise ValueError(\"必须提供 input_size！\")\n",
    "        return CNN_IDS(input_size,output_size=2)  # 二分类任务\n",
    "    \n",
    "    elif model_name == 'rnn':  # 循环神经网络（RNN）\n",
    "        if input_size is None:\n",
    "            raise ValueError(\"必须提供 input_size！\")\n",
    "        hidden_size = kwargs.get('hidden_size', 128)\n",
    "        output_size = 2  # 二分类任务\n",
    "        num_layers = kwargs.get('num_layers', 1)\n",
    "        return RNN_IDS(input_size, hidden_size, output_size, num_layers)\n",
    "    \n",
    "    elif model_name == 'lstm':  # 长短时记忆网络（LSTM）\n",
    "        if input_size is None:\n",
    "            raise ValueError(\"必须提供 input_size！\")\n",
    "        hidden_size = kwargs.get('hidden_size', 128)\n",
    "        output_size = 2  # 二分类任务\n",
    "        num_layers = kwargs.get('num_layers', 1)\n",
    "        return LSTM_IDS(input_size, hidden_size, output_size, num_layers)\n",
    "    \n",
    "    elif model_name == 'vae':  # 变分自编码器（VAE）\n",
    "        if input_size is None:\n",
    "            raise ValueError(\"必须提供 input_size！\")\n",
    "        hidden_size = kwargs.get('hidden_size', 256)\n",
    "        latent_size = kwargs.get('latent_size', 64)\n",
    "        return VAE_IDS(input_size, hidden_size, latent_size)\n",
    "    \n",
    "    else:\n",
    "        raise ValueError(f\"Unsupported model name: {model_name}\")\n",
    "\n"
   ]
  },
  {
   "cell_type": "code",
   "execution_count": 172,
   "metadata": {},
   "outputs": [],
   "source": [
    "# -----------------------------------------------------------------------------\n",
    "# 3. 训练函数\n",
    "# -----------------------------------------------------------------------------\n",
    "def train_model(model, train_path, batch_size=64, epochs=10, lr=0.001):\n",
    "    \"\"\"\n",
    "    使用给定的模型和训练集路径对模型进行训练。\n",
    "    返回训练好的模型，以及预处理后的训练特征和标签。\n",
    "    \"\"\"\n",
    "    print(f\"开始加载训练数据：{train_path}\")\n",
    "    df_train = pd.read_csv(train_path)\n",
    "    print(\"开始对训练数据进行预处理...\")\n",
    "    \n",
    "    df_train = preprocess_data(df_train)\n",
    "    df_train,select_features= preprocess_data_select(df_train)\n",
    "    \n",
    "    # 分离特征和标签\n",
    "    X_train = df_train.drop('class', axis=1)\n",
    "    y_train = df_train['class']\n",
    "    #print(X_train)\n",
    "    # 将 X_train 和 y_train 转换为 NumPy 数组\n",
    "    X_train = X_train.to_numpy()\n",
    "    y_train = y_train.to_numpy()\n",
    "\n",
    "    # 转为 PyTorch 张量\n",
    "    X_train = torch.tensor(X_train, dtype=torch.float32)\n",
    "    y_train = torch.tensor(y_train, dtype=torch.long)\n",
    "\n",
    "    # 选择损失函数和优化器\n",
    "    if isinstance(model, VAE_IDS):\n",
    "        criterion = vae_loss  # VAE 使用自定义损失\n",
    "    else:\n",
    "        criterion = nn.CrossEntropyLoss()  # 其他模型使用交叉熵损失\n",
    "\n",
    "    optimizer = torch.optim.Adam(model.parameters(), lr=lr)\n",
    "\n",
    "    # 损失函数与优化器\n",
    "    criterion = nn.CrossEntropyLoss()  # 二分类任务\n",
    "    optimizer = torch.optim.Adam(model.parameters(), lr=lr)\n",
    "\n",
    "    # 训练循环\n",
    "    print(\"开始训练模型...\")\n",
    "    for epoch in range(epochs):\n",
    "        model.train()\n",
    "        running_loss = 0.0\n",
    "        \n",
    "        # 使用 tqdm 进度条\n",
    "        with tqdm(total=len(X_train), desc=f\"Epoch {epoch+1}/{epochs}\", unit=\"samples\") as pbar:\n",
    "            # 分批次训练\n",
    "            for i in range(0, len(X_train), batch_size):\n",
    "                inputs = X_train[i:i+batch_size]\n",
    "                labels = y_train[i:i+batch_size]\n",
    "\n",
    "                optimizer.zero_grad()\n",
    "\n",
    "                if isinstance(model, VAE_IDS):  \n",
    "                    outputs, mu, logvar = model(inputs)  # ✅ 解析 VAE 结果\n",
    "                    loss = vae_loss(outputs, inputs, mu, logvar)  # ✅ 直接调用 vae_loss\n",
    "                else:\n",
    "                    outputs = model(inputs)\n",
    "                    loss = criterion(outputs, labels)  # 其他模型使用 CrossEntropyLoss\n",
    "\n",
    "\n",
    "                loss.backward()\n",
    "                optimizer.step()\n",
    "\n",
    "                running_loss += loss.item()\n",
    "                \n",
    "                # 更新进度条\n",
    "                pbar.update(len(inputs))\n",
    "\n",
    "        # 计算并打印每个 epoch 的平均损失\n",
    "        avg_loss = running_loss / (len(X_train) // batch_size)\n",
    "        print(f\"Epoch [{epoch+1}/{epochs}], Loss: {avg_loss:.4f}\")\n",
    "\n",
    "    print(\"训练完成！\")\n",
    "    return model, X_train, y_train, select_features\n"
   ]
  },
  {
   "cell_type": "code",
   "execution_count": 176,
   "metadata": {},
   "outputs": [],
   "source": [
    "# -----------------------------------------------------------------------------\n",
    "# 4. 测试函数\n",
    "# -----------------------------------------------------------------------------\n",
    "def test_model(model, test_path, select_features, batch_size=1000, threshold=None):\n",
    "    \"\"\"\n",
    "    使用给定的模型和测试集路径对模型进行测试。\n",
    "    返回评估指标分数，并可视化混淆矩阵。\n",
    "    使用批量预测来提升速度，同时保留进度条。\n",
    "    \n",
    "    参数:\n",
    "    - model: 训练好的模型\n",
    "    - test_path: 测试集CSV文件路径\n",
    "    - batch_size: 每批预测的数据量大小\n",
    "    \"\"\"\n",
    "\n",
    "    print(f\"开始加载测试数据：{test_path}\")\n",
    "    df_test = pd.read_csv(test_path)\n",
    "\n",
    "    print(\"开始对测试数据进行预处理...\")\n",
    "\n",
    "    df_test = preprocess_data(df_test)\n",
    "    #print(df_test.columns)\n",
    "    #df_test, select_features_test= preprocess_data_select(df_test)\n",
    "    #print(select_features)\n",
    "\n",
    "    # 分离特征和标签\n",
    "    X_test = df_test.drop('class', axis=1)\n",
    "    y_test = df_test['class']\n",
    "    X_test = X_test[select_features]\n",
    "\n",
    "    #print(X_test)\n",
    "    # 将 X_train 和 y_train 转换为 NumPy 数组\n",
    "    X_test = X_test.to_numpy()\n",
    "    y_test = y_test.to_numpy()\n",
    "    \n",
    "    # 转换为 PyTorch 张量\n",
    "    X_test = torch.tensor(X_test, dtype=torch.float32)  # 直接传递 X_test，而不是 X_test.values\n",
    "    y_test = torch.tensor(y_test, dtype=torch.long)  # 直接传递 y_test\n",
    "\n",
    "\n",
    "    print(\"开始预测...\")\n",
    "    # 如果不需要进度条，或对小数据集，直接使用 model.predict(X_test) 即可:\n",
    "    # y_pred = model.predict(X_test)\n",
    "    #\n",
    "    # 下面使用批量预测方式 + tqdm 进度条的写法：\n",
    "    model.eval()  # 切换到评估模式\n",
    "    predictions = []\n",
    "\n",
    "    if isinstance(model, VAE_IDS) and threshold is None:\n",
    "        threshold = compute_threshold(model, X_train)  # 计算 VAE 阈值\n",
    "    \n",
    "    # 批量预测 + tqdm 进度条\n",
    "    with torch.no_grad():\n",
    "        with tqdm(total=len(X_test), desc=\"Predicting\", unit=\"samples\") as pbar:\n",
    "            for i in range(0, len(X_test), batch_size):\n",
    "                inputs = X_test[i:i+batch_size]\n",
    "\n",
    "                if isinstance(model, VAE_IDS):  # ✅ 如果是 VAE 模型\n",
    "                    recon_x, _, _ = model(inputs)  # 只取重构结果\n",
    "                    mse_loss = torch.mean((inputs - recon_x) ** 2, dim=1)  # 计算 MSE 误差\n",
    "                    predicted = (mse_loss > threshold).long()  # 设定阈值，判断是否异常\n",
    "                else:\n",
    "                    outputs = model(inputs)\n",
    "                    _, predicted = torch.max(outputs, 1)  # 分类模型\n",
    "                \n",
    "                predictions.extend(predicted.numpy())\n",
    "\n",
    "                # 更新进度条\n",
    "                pbar.update(len(inputs))\n",
    "\n",
    "    # 计算指标\n",
    "    acc = accuracy_score(y_test.numpy(), predictions)\n",
    "    precision = precision_score(y_test.numpy(), predictions, average='binary', zero_division=0)\n",
    "    recall = recall_score(y_test.numpy(), predictions, average='binary', zero_division=0)\n",
    "    f1 = f1_score(y_test.numpy(), predictions, average='binary', zero_division=0)\n",
    "    print(f\"\\n测试结果：\\nAccuracy = {acc:.20f}\\nPrecision = {precision:.20f}\\nRecall = {recall:.20f}\\nF1-Score = {f1:.20f}\")\n",
    "\n",
    "    # 可视化混淆矩阵\n",
    "    cm = confusion_matrix(y_test.numpy(), predictions)\n",
    "    plt.figure(figsize=(8, 6))\n",
    "    sns.heatmap(cm, annot=True, fmt='d', cmap='Blues')\n",
    "    plt.title('Confusion Matrix')\n",
    "    plt.xlabel('Predicted')\n",
    "    plt.ylabel('True')\n",
    "    plt.show()\n",
    "    \n",
    "    return acc, precision, recall, f1"
   ]
  },
  {
   "cell_type": "code",
   "execution_count": 178,
   "metadata": {},
   "outputs": [
    {
     "name": "stdout",
     "output_type": "stream",
     "text": [
      "Label Encoding 完成...\n",
      "标准化数值特征完成...\n",
      "开始加载训练数据：NSL_KDD_train_split.csv\n",
      "开始对训练数据进行预处理...\n",
      "Label Encoding 完成...\n",
      "标准化数值特征完成...\n",
      "开始训练模型...\n"
     ]
    },
    {
     "name": "stderr",
     "output_type": "stream",
     "text": [
      "Epoch 1/10: 100%|██████████| 100000/100000 [00:01<00:00, 58485.95samples/s]\n"
     ]
    },
    {
     "name": "stdout",
     "output_type": "stream",
     "text": [
      "Epoch [1/10], Loss: 0.1227\n"
     ]
    },
    {
     "name": "stderr",
     "output_type": "stream",
     "text": [
      "Epoch 2/10: 100%|██████████| 100000/100000 [00:01<00:00, 56004.62samples/s]\n"
     ]
    },
    {
     "name": "stdout",
     "output_type": "stream",
     "text": [
      "Epoch [2/10], Loss: 0.0788\n"
     ]
    },
    {
     "name": "stderr",
     "output_type": "stream",
     "text": [
      "Epoch 3/10: 100%|██████████| 100000/100000 [00:01<00:00, 55669.64samples/s]\n"
     ]
    },
    {
     "name": "stdout",
     "output_type": "stream",
     "text": [
      "Epoch [3/10], Loss: 0.0706\n"
     ]
    },
    {
     "name": "stderr",
     "output_type": "stream",
     "text": [
      "Epoch 4/10: 100%|██████████| 100000/100000 [00:02<00:00, 49087.55samples/s]\n"
     ]
    },
    {
     "name": "stdout",
     "output_type": "stream",
     "text": [
      "Epoch [4/10], Loss: 0.0656\n"
     ]
    },
    {
     "name": "stderr",
     "output_type": "stream",
     "text": [
      "Epoch 5/10: 100%|██████████| 100000/100000 [00:01<00:00, 51124.83samples/s]\n"
     ]
    },
    {
     "name": "stdout",
     "output_type": "stream",
     "text": [
      "Epoch [5/10], Loss: 0.0620\n"
     ]
    },
    {
     "name": "stderr",
     "output_type": "stream",
     "text": [
      "Epoch 6/10: 100%|██████████| 100000/100000 [00:01<00:00, 55562.00samples/s]\n"
     ]
    },
    {
     "name": "stdout",
     "output_type": "stream",
     "text": [
      "Epoch [6/10], Loss: 0.0592\n"
     ]
    },
    {
     "name": "stderr",
     "output_type": "stream",
     "text": [
      "Epoch 7/10: 100%|██████████| 100000/100000 [00:01<00:00, 53686.41samples/s]\n"
     ]
    },
    {
     "name": "stdout",
     "output_type": "stream",
     "text": [
      "Epoch [7/10], Loss: 0.0572\n"
     ]
    },
    {
     "name": "stderr",
     "output_type": "stream",
     "text": [
      "Epoch 8/10: 100%|██████████| 100000/100000 [00:01<00:00, 52142.68samples/s]\n"
     ]
    },
    {
     "name": "stdout",
     "output_type": "stream",
     "text": [
      "Epoch [8/10], Loss: 0.0555\n"
     ]
    },
    {
     "name": "stderr",
     "output_type": "stream",
     "text": [
      "Epoch 9/10: 100%|██████████| 100000/100000 [00:01<00:00, 54718.05samples/s]\n"
     ]
    },
    {
     "name": "stdout",
     "output_type": "stream",
     "text": [
      "Epoch [9/10], Loss: 0.0539\n"
     ]
    },
    {
     "name": "stderr",
     "output_type": "stream",
     "text": [
      "Epoch 10/10: 100%|██████████| 100000/100000 [00:01<00:00, 55785.18samples/s]"
     ]
    },
    {
     "name": "stdout",
     "output_type": "stream",
     "text": [
      "Epoch [10/10], Loss: 0.0525\n",
      "训练完成！\n"
     ]
    },
    {
     "name": "stderr",
     "output_type": "stream",
     "text": [
      "\n"
     ]
    }
   ],
   "source": [
    "# 设置训练集路径\n",
    "train_csv_path = 'NSL_KDD_train_split.csv'\n",
    "df_train = pd.read_csv(train_csv_path)\n",
    "df_train = preprocess_data(df_train)\n",
    "df_train,select_features= preprocess_data_select(df_train)\n",
    "input_size = len(select_features)\n",
    "\n",
    "# 主流程示例\n",
    "selected_model_name = 'dnn'  # 'dnn', 'cnn', 'rnn', 'lstm', 'vae' 等\n",
    "model = choose_model(selected_model_name, input_size=input_size)  # 选择模型\n",
    "\n",
    "# 训练模型\n",
    "model, X_train, y_train, select_features = train_model(model, train_csv_path, batch_size=64, epochs=10)\n",
    "\n",
    "#print(select_features)"
   ]
  },
  {
   "cell_type": "code",
   "execution_count": 179,
   "metadata": {},
   "outputs": [
    {
     "name": "stdout",
     "output_type": "stream",
     "text": [
      "开始加载测试数据：NSL_KDD_test_split.csv\n",
      "开始对测试数据进行预处理...\n",
      "Label Encoding 完成...\n",
      "标准化数值特征完成...\n",
      "开始预测...\n"
     ]
    },
    {
     "name": "stderr",
     "output_type": "stream",
     "text": [
      "Predicting: 100%|██████████| 9999/9999 [00:00<00:00, 1104438.57samples/s]"
     ]
    },
    {
     "name": "stdout",
     "output_type": "stream",
     "text": [
      "\n",
      "测试结果：\n",
      "Accuracy = 0.98479847984798485339\n",
      "Precision = 0.98978075065031589919\n",
      "Recall = 0.98211651917404130252\n",
      "F1-Score = 0.98593374051452897788\n"
     ]
    },
    {
     "name": "stderr",
     "output_type": "stream",
     "text": [
      "\n"
     ]
    },
    {
     "data": {
      "image/png": "[encoded data removed]",
      "text/plain": [
       "<Figure size 800x600 with 2 Axes>"
      ]
     },
     "metadata": {},
     "output_type": "display_data"
    }
   ],
   "source": [
    "# 测试模型\n",
    "# 你可以调整batch_size，如1000、5000、甚至一次性预测\n",
    "#test_csv_path = 'NSL_KDD_PGD_Adversarial.csv'\n",
    "test_csv_path = 'NSL_KDD_test_split.csv'\n",
    "acc, precision, recall, f1 = test_model(model, test_csv_path, select_features, batch_size=1000)"
   ]
  }
 ],
 "metadata": {
  "kernelspec": {
   "display_name": "Python 3",
   "language": "python",
   "name": "python3"
  },
  "language_info": {
   "codemirror_mode": {
    "name": "ipython",
    "version": 3
   },
   "file_extension": ".py",
   "mimetype": "text/x-python",
   "name": "python",
   "nbconvert_exporter": "python",
   "pygments_lexer": "ipython3",
   "version": "3.9.18"
  }
 },
 "nbformat": 4,
 "nbformat_minor": 2
}
