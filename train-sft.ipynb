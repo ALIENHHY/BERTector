{
 "cells": [
  {
   "cell_type": "code",
   "execution_count": 1,
   "metadata": {},
   "outputs": [],
   "source": [
    "import pandas as pd\n",
    "from sklearn.model_selection import train_test_split\n",
    "from datasets import Dataset, DatasetDict\n",
    "data = pd.read_csv(\"./data/sft/NSL-KDD-100000-sft.csv\")\n",
    "# 划分训练集和验证集\n",
    "train_texts, eval_texts, train_labels, eval_labels = train_test_split(\n",
    "    data[\"flow\"].tolist(), data[\"class\"].tolist(), test_size=0.2, random_state=42\n",
    ")\n",
    "# 转换为 Hugging Face Dataset 格式\n",
    "dataset = DatasetDict({\n",
    "    \"train\": Dataset.from_dict({\"text\": train_texts, \"label\": train_labels}),\n",
    "    \"eval\": Dataset.from_dict({\"text\": eval_texts, \"label\": eval_labels})\n",
    "})"
   ]
  },
  {
   "cell_type": "code",
   "execution_count": 2,
   "metadata": {},
   "outputs": [
    {
     "name": "stdout",
     "output_type": "stream",
     "text": [
      "实际设定的 max_length: 124\n"
     ]
    }
   ],
   "source": [
    "from transformers import BertTokenizer\n",
    "tokenizer = BertTokenizer.from_pretrained(\"bert-base-uncased\")\n",
    "# 遍历数据，找到最长文本的长度\n",
    "text_lengths = [len(tokenizer(text)[\"input_ids\"]) for text in data[\"flow\"].tolist()]\n",
    "max_length = max(text_lengths)\n",
    "print(f\"实际设定的 max_length: {max_length}\")"
   ]
  },
  {
   "cell_type": "code",
   "execution_count": 3,
   "metadata": {},
   "outputs": [
    {
     "data": {
      "application/vnd.jupyter.widget-view+json": {
       "model_id": "03e01147c7ed43e8828124be055c4a31",
       "version_major": 2,
       "version_minor": 0
      },
      "text/plain": [
       "Map:   0%|          | 0/80000 [00:00<?, ? examples/s]"
      ]
     },
     "metadata": {},
     "output_type": "display_data"
    },
    {
     "data": {
      "application/vnd.jupyter.widget-view+json": {
       "model_id": "4544c6f5728245cda8360ee6dd9b38ed",
       "version_major": 2,
       "version_minor": 0
      },
      "text/plain": [
       "Map:   0%|          | 0/20000 [00:00<?, ? examples/s]"
      ]
     },
     "metadata": {},
     "output_type": "display_data"
    }
   ],
   "source": [
    "def tokenize_function(examples):\n",
    "    return tokenizer(examples[\"text\"], padding=\"max_length\", truncation=True, max_length=max_length)\n",
    "tokenized_datasets = dataset.map(tokenize_function, batched=True)\n",
    "train_dataset = tokenized_datasets[\"train\"].shuffle(seed=42)\n",
    "eval_dataset = tokenized_datasets[\"eval\"].shuffle(seed=42)"
   ]
  },
  {
   "cell_type": "code",
   "execution_count": 4,
   "metadata": {},
   "outputs": [
    {
     "name": "stderr",
     "output_type": "stream",
     "text": [
      "Some weights of BertForSequenceClassification were not initialized from the model checkpoint at bert-base-uncased and are newly initialized: ['classifier.bias', 'classifier.weight']\n",
      "You should probably TRAIN this model on a down-stream task to be able to use it for predictions and inference.\n"
     ]
    }
   ],
   "source": [
    "from transformers import AutoModelForSequenceClassification\n",
    "model = AutoModelForSequenceClassification.from_pretrained(\"bert-base-uncased\", num_labels=2, hidden_dropout_prob=0.2)"
   ]
  },
  {
   "cell_type": "code",
   "execution_count": 5,
   "metadata": {},
   "outputs": [],
   "source": [
    "from sklearn.metrics import accuracy_score, precision_recall_fscore_support\n",
    "import numpy as np\n",
    "def compute_metrics(eval_pred):\n",
    "    logits, labels = eval_pred\n",
    "    predictions = np.argmax(logits, axis=-1)\n",
    "    acc = accuracy_score(labels, predictions)\n",
    "    precision, recall, f1, _ = precision_recall_fscore_support(labels, predictions, average=\"binary\")\n",
    "    return {\n",
    "        \"eval_loss\": float(np.mean(logits)),  # 确保 `eval_loss` 存在\n",
    "        \"accuracy\": acc,\n",
    "        \"precision\": precision,\n",
    "        \"recall\": recall,\n",
    "        \"f1\": f1,\n",
    "    }"
   ]
  },
  {
   "cell_type": "code",
   "execution_count": 6,
   "metadata": {},
   "outputs": [],
   "source": [
    "from transformers import TrainingArguments, Trainer, EarlyStoppingCallback\n",
    "training_args = TrainingArguments(\n",
    "    output_dir=\"./trainer/test_trainer-sft\",\n",
    "    eval_strategy=\"epoch\",\n",
    "    save_strategy=\"epoch\",  # 每个 epoch 保存一次模型\n",
    "    save_steps=None,  # 取消按steps保存\n",
    "    learning_rate=2e-5,  # 学习率  2e-5\n",
    "    per_device_train_batch_size=64,  # 适当增加 batch_size，默认 8\n",
    "    per_device_eval_batch_size=64,\n",
    "    num_train_epochs=5,  # 降低训练轮数，避免过拟合\n",
    "    weight_decay=0.02,  # 加入 L2 正则化\n",
    "    load_best_model_at_end=True,  # 训练结束后加载最佳模型\n",
    "    logging_strategy=\"epoch\",  # 确保每个 epoch 打印 loss\n",
    "    # logging_steps=500,  # 或者按步数打印\n",
    ")\n",
    "\n",
    "trainer = Trainer(\n",
    "    model=model,\n",
    "    args=training_args,\n",
    "    train_dataset=train_dataset,\n",
    "    eval_dataset=eval_dataset,\n",
    "    compute_metrics=compute_metrics,\n",
    "    callbacks=[EarlyStoppingCallback(early_stopping_patience=3)]  # 设置早停机制\n",
    ")"
   ]
  },
  {
   "cell_type": "code",
   "execution_count": 7,
   "metadata": {},
   "outputs": [
    {
     "data": {
      "text/html": [
       "\n",
       "    <div>\n",
       "      \n",
       "      <progress value='6250' max='6250' style='width:300px; height:20px; vertical-align: middle;'></progress>\n",
       "      [6250/6250 52:46, Epoch 5/5]\n",
       "    </div>\n",
       "    <table border=\"1\" class=\"dataframe\">\n",
       "  <thead>\n",
       " <tr style=\"text-align: left;\">\n",
       "      <th>Epoch</th>\n",
       "      <th>Training Loss</th>\n",
       "      <th>Validation Loss</th>\n",
       "      <th>Accuracy</th>\n",
       "      <th>Precision</th>\n",
       "      <th>Recall</th>\n",
       "      <th>F1</th>\n",
       "    </tr>\n",
       "  </thead>\n",
       "  <tbody>\n",
       "    <tr>\n",
       "      <td>1</td>\n",
       "      <td>0.041000</td>\n",
       "      <td>0.018954</td>\n",
       "      <td>0.996700</td>\n",
       "      <td>0.994745</td>\n",
       "      <td>0.999058</td>\n",
       "      <td>0.996897</td>\n",
       "    </tr>\n",
       "    <tr>\n",
       "      <td>2</td>\n",
       "      <td>0.011600</td>\n",
       "      <td>0.009922</td>\n",
       "      <td>0.997600</td>\n",
       "      <td>0.996242</td>\n",
       "      <td>0.999246</td>\n",
       "      <td>0.997742</td>\n",
       "    </tr>\n",
       "    <tr>\n",
       "      <td>3</td>\n",
       "      <td>0.008000</td>\n",
       "      <td>0.006352</td>\n",
       "      <td>0.998650</td>\n",
       "      <td>0.998024</td>\n",
       "      <td>0.999435</td>\n",
       "      <td>0.998729</td>\n",
       "    </tr>\n",
       "    <tr>\n",
       "      <td>4</td>\n",
       "      <td>0.004600</td>\n",
       "      <td>0.004304</td>\n",
       "      <td>0.998800</td>\n",
       "      <td>0.998212</td>\n",
       "      <td>0.999529</td>\n",
       "      <td>0.998870</td>\n",
       "    </tr>\n",
       "    <tr>\n",
       "      <td>5</td>\n",
       "      <td>0.002800</td>\n",
       "      <td>0.003616</td>\n",
       "      <td>0.999250</td>\n",
       "      <td>0.999152</td>\n",
       "      <td>0.999435</td>\n",
       "      <td>0.999293</td>\n",
       "    </tr>\n",
       "  </tbody>\n",
       "</table><p>"
      ],
      "text/plain": [
       "<IPython.core.display.HTML object>"
      ]
     },
     "metadata": {},
     "output_type": "display_data"
    },
    {
     "data": {
      "text/plain": [
       "TrainOutput(global_step=6250, training_loss=0.013606783142089844, metrics={'train_runtime': 3167.319, 'train_samples_per_second': 126.29, 'train_steps_per_second': 1.973, 'total_flos': 2.5488883488e+16, 'train_loss': 0.013606783142089844, 'epoch': 5.0})"
      ]
     },
     "execution_count": 7,
     "metadata": {},
     "output_type": "execute_result"
    }
   ],
   "source": [
    "trainer.train()"
   ]
  }
 ],
 "metadata": {
  "kernelspec": {
   "display_name": "Python 3",
   "language": "python",
   "name": "python3"
  },
  "language_info": {
   "codemirror_mode": {
    "name": "ipython",
    "version": 3
   },
   "file_extension": ".py",
   "mimetype": "text/x-python",
   "name": "python",
   "nbconvert_exporter": "python",
   "pygments_lexer": "ipython3",
   "version": "3.13.2"
  }
 },
 "nbformat": 4,
 "nbformat_minor": 2
}
