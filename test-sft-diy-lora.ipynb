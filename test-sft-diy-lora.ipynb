{
 "cells": [
  {
   "cell_type": "code",
   "execution_count": 33,
   "metadata": {},
   "outputs": [],
   "source": [
    "from transformers import AutoModelForSequenceClassification, BertTokenizer\n",
    "import torch\n",
    "import pandas as pd\n",
    "from tqdm import tqdm\n",
    "from peft import PeftModel"
   ]
  },
  {
   "cell_type": "code",
   "execution_count": 34,
   "metadata": {},
   "outputs": [],
   "source": [
    "# 读取测试数据\n",
    "# test_df = pd.read_csv(\"./data/test/NSL-KDD-10000.csv\")\n",
    "# test_df = pd.read_csv(\"./data/test/KDD99-10000.csv\")\n",
    "# test_df = pd.read_csv(\"./data/test/UNSW_NB15-10000.csv\")\n",
    "# test_df = pd.read_csv(\"./data/test/X-IIoTID-10000.csv\")\n",
    "# test_df = pd.read_csv(\"./data/test/NSL-KDD-Gamma.csv\")\n",
    "# test_df = pd.read_csv(\"./data/test/NSL-KDD-Gaussian.csv\")\n",
    "# test_df = pd.read_csv(\"./data/test/NSL-KDD-Laplace.csv\")\n",
    "# test_df = pd.read_csv(\"./data/test/NSL-KDD-Poisson.csv\")\n",
    "# test_df = pd.read_csv(\"./data/test/NSL-KDD-Uniform.csv\")\n",
    "test_df = pd.read_csv(\"./data/test/NSL-KDD-Cauchy.csv\")\n",
    "texts = test_df[\"flow\"].tolist()"
   ]
  },
  {
   "cell_type": "code",
   "execution_count": 42,
   "metadata": {},
   "outputs": [
    {
     "name": "stderr",
     "output_type": "stream",
     "text": [
      "Some weights of BertForSequenceClassification were not initialized from the model checkpoint at bert-base-uncased and are newly initialized: ['classifier.bias', 'classifier.weight']\n",
      "You should probably TRAIN this model on a down-stream task to be able to use it for predictions and inference.\n"
     ]
    }
   ],
   "source": [
    "# 加载基础模型和LoRA适配器\n",
    "base_model = AutoModelForSequenceClassification.from_pretrained(\"bert-base-uncased\", num_labels=2)\n",
    "# model = PeftModel.from_pretrained(base_model, \"./test_trainer-sft-diy-lora/checkpoint-12500\")\n",
    "model = PeftModel.from_pretrained(base_model, \"./test_trainer-sft-diy-lora-mix/checkpoint-95000\")\n",
    "tokenizer = BertTokenizer.from_pretrained(\"bert-base-uncased\")"
   ]
  },
  {
   "cell_type": "code",
   "execution_count": 36,
   "metadata": {},
   "outputs": [
    {
     "data": {
      "text/plain": [
       "41"
      ]
     },
     "execution_count": 36,
     "metadata": {},
     "output_type": "execute_result"
    }
   ],
   "source": [
    "# 获取最大文本长度（与训练时逻辑一致）\n",
    "text_lengths = [len(text.split(\",\")) for text in texts]\n",
    "max_length = max(text_lengths)\n",
    "max_length"
   ]
  },
  {
   "cell_type": "code",
   "execution_count": 37,
   "metadata": {},
   "outputs": [],
   "source": [
    "# 复用训练时的分词函数\n",
    "def custom_tokenize_function(texts):\n",
    "    split_texts = [[phrase.strip() for phrase in text.split(\",\")] for text in texts]\n",
    "    encodings = tokenizer(\n",
    "        split_texts,\n",
    "        padding=\"max_length\",\n",
    "        truncation=True,\n",
    "        max_length=max_length,\n",
    "        return_tensors=\"pt\",\n",
    "        is_split_into_words=True\n",
    "    )\n",
    "    return encodings"
   ]
  },
  {
   "cell_type": "code",
   "execution_count": 38,
   "metadata": {},
   "outputs": [
    {
     "data": {
      "text/plain": [
       "PeftModelForSequenceClassification(\n",
       "  (base_model): LoraModel(\n",
       "    (model): BertForSequenceClassification(\n",
       "      (bert): BertModel(\n",
       "        (embeddings): BertEmbeddings(\n",
       "          (word_embeddings): Embedding(30522, 768, padding_idx=0)\n",
       "          (position_embeddings): Embedding(512, 768)\n",
       "          (token_type_embeddings): Embedding(2, 768)\n",
       "          (LayerNorm): LayerNorm((768,), eps=1e-12, elementwise_affine=True)\n",
       "          (dropout): Dropout(p=0.1, inplace=False)\n",
       "        )\n",
       "        (encoder): BertEncoder(\n",
       "          (layer): ModuleList(\n",
       "            (0-11): 12 x BertLayer(\n",
       "              (attention): BertAttention(\n",
       "                (self): BertSdpaSelfAttention(\n",
       "                  (query): lora.Linear(\n",
       "                    (base_layer): Linear(in_features=768, out_features=768, bias=True)\n",
       "                    (lora_dropout): ModuleDict(\n",
       "                      (default): Dropout(p=0.1, inplace=False)\n",
       "                    )\n",
       "                    (lora_A): ModuleDict(\n",
       "                      (default): Linear(in_features=768, out_features=8, bias=False)\n",
       "                    )\n",
       "                    (lora_B): ModuleDict(\n",
       "                      (default): Linear(in_features=8, out_features=768, bias=False)\n",
       "                    )\n",
       "                    (lora_embedding_A): ParameterDict()\n",
       "                    (lora_embedding_B): ParameterDict()\n",
       "                    (lora_magnitude_vector): ModuleDict()\n",
       "                  )\n",
       "                  (key): Linear(in_features=768, out_features=768, bias=True)\n",
       "                  (value): lora.Linear(\n",
       "                    (base_layer): Linear(in_features=768, out_features=768, bias=True)\n",
       "                    (lora_dropout): ModuleDict(\n",
       "                      (default): Dropout(p=0.1, inplace=False)\n",
       "                    )\n",
       "                    (lora_A): ModuleDict(\n",
       "                      (default): Linear(in_features=768, out_features=8, bias=False)\n",
       "                    )\n",
       "                    (lora_B): ModuleDict(\n",
       "                      (default): Linear(in_features=8, out_features=768, bias=False)\n",
       "                    )\n",
       "                    (lora_embedding_A): ParameterDict()\n",
       "                    (lora_embedding_B): ParameterDict()\n",
       "                    (lora_magnitude_vector): ModuleDict()\n",
       "                  )\n",
       "                  (dropout): Dropout(p=0.1, inplace=False)\n",
       "                )\n",
       "                (output): BertSelfOutput(\n",
       "                  (dense): Linear(in_features=768, out_features=768, bias=True)\n",
       "                  (LayerNorm): LayerNorm((768,), eps=1e-12, elementwise_affine=True)\n",
       "                  (dropout): Dropout(p=0.1, inplace=False)\n",
       "                )\n",
       "              )\n",
       "              (intermediate): BertIntermediate(\n",
       "                (dense): Linear(in_features=768, out_features=3072, bias=True)\n",
       "                (intermediate_act_fn): GELUActivation()\n",
       "              )\n",
       "              (output): BertOutput(\n",
       "                (dense): Linear(in_features=3072, out_features=768, bias=True)\n",
       "                (LayerNorm): LayerNorm((768,), eps=1e-12, elementwise_affine=True)\n",
       "                (dropout): Dropout(p=0.1, inplace=False)\n",
       "              )\n",
       "            )\n",
       "          )\n",
       "        )\n",
       "        (pooler): BertPooler(\n",
       "          (dense): Linear(in_features=768, out_features=768, bias=True)\n",
       "          (activation): Tanh()\n",
       "        )\n",
       "      )\n",
       "      (dropout): Dropout(p=0.1, inplace=False)\n",
       "      (classifier): ModulesToSaveWrapper(\n",
       "        (original_module): Linear(in_features=768, out_features=2, bias=True)\n",
       "        (modules_to_save): ModuleDict(\n",
       "          (default): Linear(in_features=768, out_features=2, bias=True)\n",
       "        )\n",
       "      )\n",
       "    )\n",
       "  )\n",
       ")"
      ]
     },
     "execution_count": 38,
     "metadata": {},
     "output_type": "execute_result"
    }
   ],
   "source": [
    "# 推理配置\n",
    "model.eval()\n",
    "torch.set_grad_enabled(False)\n",
    "device = torch.device(\"cuda\")\n",
    "model.to(device)"
   ]
  },
  {
   "cell_type": "code",
   "execution_count": 39,
   "metadata": {},
   "outputs": [
    {
     "name": "stderr",
     "output_type": "stream",
     "text": [
      "预测进度: 100%|████████████████████| 625/625 [00:33<00:00, 18.88batch/s]\n"
     ]
    }
   ],
   "source": [
    "# 批量预测（带进度条）\n",
    "batch_size = 16\n",
    "predictions = []\n",
    "for i in tqdm(range(0, len(texts), batch_size), \n",
    "              desc=\"预测进度\", \n",
    "              unit=\"batch\",\n",
    "              bar_format=\"{l_bar}{bar:20}{r_bar}\"):\n",
    "    batch_texts = texts[i:i+batch_size]\n",
    "    inputs = custom_tokenize_function(batch_texts)\n",
    "    inputs = {k: v.to(device) for k, v in inputs.items()}\n",
    "    \n",
    "    outputs = model(**inputs)\n",
    "    batch_preds = torch.argmax(outputs.logits, dim=-1).cpu().tolist()\n",
    "    predictions.extend(batch_preds)\n"
   ]
  },
  {
   "cell_type": "code",
   "execution_count": 40,
   "metadata": {},
   "outputs": [
    {
     "name": "stdout",
     "output_type": "stream",
     "text": [
      "\n",
      "模型在测试集上的指标:\n",
      "准确率 (Accuracy): 0.8386\n",
      "精确率 (Precision): 0.8300\n",
      "召回率 (Recall): 0.8833\n",
      "F1 分数 (F1-score): 0.8558\n"
     ]
    }
   ],
   "source": [
    "# 计算指标\n",
    "from sklearn.metrics import accuracy_score, precision_score, recall_score, f1_score\n",
    "if \"class\" in test_df.columns:\n",
    "    true_labels = test_df[\"class\"].tolist()\n",
    "    accuracy = accuracy_score(true_labels, predictions)\n",
    "    precision = precision_score(true_labels, predictions, average='binary')  # 二分类使用binary\n",
    "    recall = recall_score(true_labels, predictions, average='binary')\n",
    "    f1 = f1_score(true_labels, predictions, average='binary')\n",
    "    print(f\"\\n模型在测试集上的指标:\")\n",
    "    print(f\"准确率 (Accuracy): {accuracy:.4f}\")\n",
    "    print(f\"精确率 (Precision): {precision:.4f}\")\n",
    "    print(f\"召回率 (Recall): {recall:.4f}\")\n",
    "    print(f\"F1 分数 (F1-score): {f1:.4f}\")"
   ]
  }
 ],
 "metadata": {
  "kernelspec": {
   "display_name": "Python 3",
   "language": "python",
   "name": "python3"
  },
  "language_info": {
   "codemirror_mode": {
    "name": "ipython",
    "version": 3
   },
   "file_extension": ".py",
   "mimetype": "text/x-python",
   "name": "python",
   "nbconvert_exporter": "python",
   "pygments_lexer": "ipython3",
   "version": "3.13.2"
  }
 },
 "nbformat": 4,
 "nbformat_minor": 2
}
