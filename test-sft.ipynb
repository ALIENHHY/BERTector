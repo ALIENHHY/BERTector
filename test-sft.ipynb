{
 "cells": [
  {
   "cell_type": "code",
   "execution_count": 109,
   "metadata": {},
   "outputs": [],
   "source": [
    "from transformers import AutoModelForSequenceClassification, BertTokenizer\n",
    "import torch\n",
    "import pandas as pd\n",
    "from tqdm import tqdm\n",
    "from peft import PeftModel"
   ]
  },
  {
   "cell_type": "code",
   "execution_count": 110,
   "metadata": {},
   "outputs": [],
   "source": [
    "# 加载模型和 tokenizer\n",
    "# model = AutoModelForSequenceClassification.from_pretrained(\"./test_trainer-sft/checkpoint-11250\")\n",
    "model = AutoModelForSequenceClassification.from_pretrained(\"./test_trainer-sft-mix/checkpoint-60000\")\n",
    "tokenizer = BertTokenizer.from_pretrained(\"bert-base-uncased\")\n",
    "# 读取测试数据\n",
    "test_df = pd.read_csv(\"./data/test/NSL-KDD-10000.csv\")\n",
    "# test_df = pd.read_csv(\"./data/test/KDD99-10000.csv\")\n",
    "# test_df = pd.read_csv(\"./data/test/UNSW_NB15-10000.csv\")\n",
    "# test_df = pd.read_csv(\"./data/test/X-IIoTID-10000.csv\")\n",
    "# test_df = pd.read_csv(\"./data/test/NSL-KDD-Gamma.csv\")\n",
    "# test_df = pd.read_csv(\"./data/test/NSL-KDD-Gaussian.csv\")\n",
    "# test_df = pd.read_csv(\"./data/test/NSL-KDD-Laplace.csv\")\n",
    "# test_df = pd.read_csv(\"./data/test/NSL-KDD-Poisson.csv\")\n",
    "# test_df = pd.read_csv(\"./data/test/NSL-KDD-Uniform.csv\")\n",
    "# test_df = pd.read_csv(\"./data/test/NSL-KDD-Cauchy.csv\")\n",
    "texts = test_df[\"flow\"].tolist()"
   ]
  },
  {
   "cell_type": "code",
   "execution_count": 111,
   "metadata": {},
   "outputs": [
    {
     "data": {
      "text/plain": [
       "123"
      ]
     },
     "execution_count": 111,
     "metadata": {},
     "output_type": "execute_result"
    }
   ],
   "source": [
    "# 遍历数据，找到最长文本的长度\n",
    "text_lengths = [len(tokenizer(text)[\"input_ids\"]) for text in texts]\n",
    "max_length = max(text_lengths)\n",
    "max_length = min(max(text_lengths), 500)\n",
    "max_length"
   ]
  },
  {
   "cell_type": "code",
   "execution_count": 112,
   "metadata": {},
   "outputs": [],
   "source": [
    "def tokenize_function(texts):\n",
    "    return tokenizer(texts, padding=\"max_length\", truncation=True, max_length=max_length, return_tensors=\"pt\")"
   ]
  },
  {
   "cell_type": "code",
   "execution_count": 113,
   "metadata": {},
   "outputs": [
    {
     "name": "stderr",
     "output_type": "stream",
     "text": [
      "预测进度: 100%|██████████| 625/625 [00:25<00:00, 24.83batch/s]\n"
     ]
    }
   ],
   "source": [
    "# 推理配置\n",
    "model.eval()\n",
    "torch.set_grad_enabled(False)\n",
    "device = torch.device(\"cuda\")\n",
    "model.to(device)\n",
    "# 进度条 & 批量推理\n",
    "batch_size = 16  # 设置合适的 batch size\n",
    "predictions = []\n",
    "for i in tqdm(range(0, len(texts), batch_size), desc=\"预测进度\", unit=\"batch\"):\n",
    "    batch_texts = texts[i : i + batch_size]\n",
    "    inputs = tokenize_function(batch_texts)\n",
    "    inputs = {key: val.to(device) for key, val in inputs.items()}\n",
    "    # 运行模型预测\n",
    "    outputs = model(**inputs)\n",
    "    batch_predictions = torch.argmax(outputs.logits, dim=-1).tolist()\n",
    "    predictions.extend(batch_predictions)"
   ]
  },
  {
   "cell_type": "code",
   "execution_count": 114,
   "metadata": {},
   "outputs": [
    {
     "name": "stdout",
     "output_type": "stream",
     "text": [
      "\n",
      "模型在测试集上的指标:\n",
      "准确率 (Accuracy): 0.9991\n",
      "精确率 (Precision): 0.9991\n",
      "召回率 (Recall): 0.9993\n",
      "F1 分数 (F1-score): 0.9992\n"
     ]
    }
   ],
   "source": [
    "# 计算指标\n",
    "from sklearn.metrics import accuracy_score, precision_score, recall_score, f1_score\n",
    "if \"class\" in test_df.columns:\n",
    "    true_labels = test_df[\"class\"].tolist()\n",
    "    accuracy = accuracy_score(true_labels, predictions)\n",
    "    precision = precision_score(true_labels, predictions, average='binary')  # 二分类使用binary\n",
    "    recall = recall_score(true_labels, predictions, average='binary')\n",
    "    f1 = f1_score(true_labels, predictions, average='binary')\n",
    "    print(f\"\\n模型在测试集上的指标:\")\n",
    "    print(f\"准确率 (Accuracy): {accuracy:.4f}\")\n",
    "    print(f\"精确率 (Precision): {precision:.4f}\")\n",
    "    print(f\"召回率 (Recall): {recall:.4f}\")\n",
    "    print(f\"F1 分数 (F1-score): {f1:.4f}\")"
   ]
  }
 ],
 "metadata": {
  "kernelspec": {
   "display_name": "Python 3",
   "language": "python",
   "name": "python3"
  },
  "language_info": {
   "codemirror_mode": {
    "name": "ipython",
    "version": 3
   },
   "file_extension": ".py",
   "mimetype": "text/x-python",
   "name": "python",
   "nbconvert_exporter": "python",
   "pygments_lexer": "ipython3",
   "version": "3.13.2"
  }
 },
 "nbformat": 4,
 "nbformat_minor": 2
}
