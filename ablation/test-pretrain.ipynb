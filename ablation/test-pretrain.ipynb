{
 "cells": [
  {
   "cell_type": "code",
   "execution_count": 17,
   "metadata": {},
   "outputs": [],
   "source": [
    "from transformers import AutoModelForSequenceClassification, BertTokenizer\n",
    "import torch\n",
    "import pandas as pd\n",
    "from tqdm import tqdm\n",
    "from sklearn.metrics import accuracy_score"
   ]
  },
  {
   "cell_type": "code",
   "execution_count": 18,
   "metadata": {},
   "outputs": [],
   "source": [
    "# 读取测试数据\n",
    "# test_df = pd.read_csv(\"./data/test/NSL-KDD-10000.csv\")\n",
    "# test_df = pd.read_csv(\"./data/test/CICIDS2018-10000.csv\")\n",
    "# test_df = pd.read_csv(\"./data/test/KDD99-10000.csv\")\n",
    "test_df = pd.read_csv(\"./data/test/UNSW_NB15-10000.csv\")\n",
    "# test_df = pd.read_csv(\"./data/test/X-IIoTID-10000.csv\")\n",
    "texts = test_df[\"flow\"].tolist()"
   ]
  },
  {
   "cell_type": "code",
   "execution_count": 19,
   "metadata": {},
   "outputs": [
    {
     "name": "stderr",
     "output_type": "stream",
     "text": [
      "Some weights of BertForSequenceClassification were not initialized from the model checkpoint at bert-base-uncased and are newly initialized: ['classifier.bias', 'classifier.weight']\n",
      "You should probably TRAIN this model on a down-stream task to be able to use it for predictions and inference.\n"
     ]
    }
   ],
   "source": [
    "# 使用预训练的 BERT 模型（不微调）\n",
    "model_name = \"bert-base-uncased\"\n",
    "model = AutoModelForSequenceClassification.from_pretrained(model_name, num_labels=2)\n",
    "tokenizer = BertTokenizer.from_pretrained(model_name)"
   ]
  },
  {
   "cell_type": "code",
   "execution_count": 20,
   "metadata": {},
   "outputs": [],
   "source": [
    "def tokenize_function(texts):\n",
    "    return tokenizer(texts, padding=\"max_length\", truncation=True, max_length=max_length, return_tensors=\"pt\")"
   ]
  },
  {
   "cell_type": "code",
   "execution_count": 21,
   "metadata": {},
   "outputs": [
    {
     "data": {
      "text/plain": [
       "163"
      ]
     },
     "execution_count": 21,
     "metadata": {},
     "output_type": "execute_result"
    }
   ],
   "source": [
    "# 遍历数据，找到最长文本的长度\n",
    "text_lengths = [len(tokenizer(text)[\"input_ids\"]) for text in texts]\n",
    "max_length = max(text_lengths)\n",
    "max_length = min(max_length, 500)\n",
    "max_length"
   ]
  },
  {
   "cell_type": "code",
   "execution_count": 22,
   "metadata": {},
   "outputs": [],
   "source": [
    "def tokenize_function(texts):\n",
    "    return tokenizer(texts, padding=\"max_length\", truncation=True, max_length=max_length, return_tensors=\"pt\")"
   ]
  },
  {
   "cell_type": "code",
   "execution_count": 23,
   "metadata": {},
   "outputs": [
    {
     "name": "stderr",
     "output_type": "stream",
     "text": [
      "预测进度: 100%|██████████| 625/625 [00:37<00:00, 16.83batch/s]\n"
     ]
    }
   ],
   "source": [
    "# 关闭梯度计算，加速推理\n",
    "model.eval()\n",
    "torch.set_grad_enabled(False)\n",
    "device = torch.device(\"cuda\")\n",
    "model.to(device)\n",
    "# 进度条 & 批量推理\n",
    "batch_size = 16  # 设置合适的 batch size\n",
    "predictions = []\n",
    "for i in tqdm(range(0, len(texts), batch_size), desc=\"预测进度\", unit=\"batch\"):\n",
    "    batch_texts = texts[i : i + batch_size]\n",
    "    inputs = tokenize_function(batch_texts)\n",
    "    inputs = {key: val.to(device) for key, val in inputs.items()}\n",
    "    # 运行模型预测\n",
    "    outputs = model(**inputs)\n",
    "    batch_predictions = torch.argmax(outputs.logits, dim=-1).tolist()\n",
    "    predictions.extend(batch_predictions)"
   ]
  },
  {
   "cell_type": "code",
   "execution_count": 24,
   "metadata": {},
   "outputs": [
    {
     "name": "stdout",
     "output_type": "stream",
     "text": [
      "\n",
      "模型在测试集上的指标:\n",
      "准确率 (Accuracy): 0.0002\n",
      "精确率 (Precision): 0.0000\n",
      "召回率 (Recall): 0.0000\n",
      "F1 分数 (F1-score): 0.0000\n"
     ]
    },
    {
     "name": "stderr",
     "output_type": "stream",
     "text": [
      "c:\\Users\\njust\\AppData\\Local\\Programs\\Python\\Python313\\Lib\\site-packages\\sklearn\\metrics\\_classification.py:1565: UndefinedMetricWarning: Recall is ill-defined and being set to 0.0 due to no true samples. Use `zero_division` parameter to control this behavior.\n",
      "  _warn_prf(average, modifier, f\"{metric.capitalize()} is\", len(result))\n"
     ]
    }
   ],
   "source": [
    "# 计算指标\n",
    "from sklearn.metrics import accuracy_score, precision_score, recall_score, f1_score\n",
    "if \"class\" in test_df.columns:\n",
    "    true_labels = test_df[\"class\"].tolist()\n",
    "    accuracy = accuracy_score(true_labels, predictions)\n",
    "    precision = precision_score(true_labels, predictions, average='binary')  # 二分类使用binary\n",
    "    recall = recall_score(true_labels, predictions, average='binary')\n",
    "    f1 = f1_score(true_labels, predictions, average='binary')\n",
    "    print(f\"\\n模型在测试集上的指标:\")\n",
    "    print(f\"准确率 (Accuracy): {accuracy:.4f}\")\n",
    "    print(f\"精确率 (Precision): {precision:.4f}\")\n",
    "    print(f\"召回率 (Recall): {recall:.4f}\")\n",
    "    print(f\"F1 分数 (F1-score): {f1:.4f}\")"
   ]
  }
 ],
 "metadata": {
  "kernelspec": {
   "display_name": "Python 3",
   "language": "python",
   "name": "python3"
  },
  "language_info": {
   "codemirror_mode": {
    "name": "ipython",
    "version": 3
   },
   "file_extension": ".py",
   "mimetype": "text/x-python",
   "name": "python",
   "nbconvert_exporter": "python",
   "pygments_lexer": "ipython3",
   "version": "3.13.2"
  }
 },
 "nbformat": 4,
 "nbformat_minor": 2
}
