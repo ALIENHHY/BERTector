{
 "cells": [
  {
   "cell_type": "code",
   "execution_count": null,
   "metadata": {},
   "outputs": [],
   "source": [
    "import pandas as pd\n",
    "from sklearn.model_selection import train_test_split\n",
    "from datasets import Dataset, DatasetDict\n",
    "# data = pd.read_csv(\"./data/sft/NSL-KDD-100000-sft.csv\")\n",
    "data = pd.read_csv(\"./data/sft/Mixed-sft-500000.csv\")\n",
    "# 划分训练集和验证集\n",
    "train_texts, eval_texts, train_labels, eval_labels = train_test_split(\n",
    "    data[\"flow\"].tolist(), data[\"class\"].tolist(), test_size=0.2, random_state=42\n",
    ")\n",
    "# 转换为 Hugging Face Dataset 格式\n",
    "dataset = DatasetDict({\n",
    "    \"train\": Dataset.from_dict({\"text\": train_texts, \"label\": train_labels}),\n",
    "    \"eval\": Dataset.from_dict({\"text\": eval_texts, \"label\": eval_labels})\n",
    "})"
   ]
  },
  {
   "cell_type": "code",
   "execution_count": null,
   "metadata": {},
   "outputs": [],
   "source": [
    "from transformers import BertTokenizer\n",
    "tokenizer = BertTokenizer.from_pretrained(\"bert-base-uncased\")\n",
    "# 遍历数据，找到最长文本的长度\n",
    "text_lengths = [len(tokenizer(text)[\"input_ids\"]) for text in data[\"flow\"].tolist()]\n",
    "max_length = max(text_lengths)\n",
    "print(f\"实际设定的 max_length: {max_length}\")"
   ]
  },
  {
   "cell_type": "code",
   "execution_count": null,
   "metadata": {},
   "outputs": [],
   "source": [
    "def tokenize_function(examples):\n",
    "    return tokenizer(examples[\"text\"], padding=\"max_length\", truncation=True, max_length=max_length)\n",
    "tokenized_datasets = dataset.map(tokenize_function, batched=True)\n",
    "train_dataset = tokenized_datasets[\"train\"].shuffle(seed=42)\n",
    "eval_dataset = tokenized_datasets[\"eval\"].shuffle(seed=42)"
   ]
  },
  {
   "cell_type": "code",
   "execution_count": null,
   "metadata": {},
   "outputs": [],
   "source": [
    "from transformers import AutoModelForSequenceClassification\n",
    "base_model = AutoModelForSequenceClassification.from_pretrained(\"bert-base-uncased\", num_labels=2, hidden_dropout_prob=0.2)"
   ]
  },
  {
   "cell_type": "code",
   "execution_count": null,
   "metadata": {},
   "outputs": [],
   "source": [
    "from peft import LoraConfig, get_peft_model\n",
    "# **添加 LoRA 适配**\n",
    "lora_config = LoraConfig(\n",
    "    r=8,  # LoRA 低秩矩阵的秩\n",
    "    lora_alpha=16,  # LoRA scaling factor\n",
    "    lora_dropout=0.1,  # Dropout 防止过拟合\n",
    "    target_modules=[\"query\", \"value\"],  # 仅优化 Query 和 Value 层\n",
    "    task_type=\"SEQ_CLS\",  # 序列分类任务\n",
    ")\n",
    "# 将 LoRA 集成到 BERT 模型\n",
    "lora_model = get_peft_model(base_model, lora_config)\n",
    "lora_model.print_trainable_parameters()  # 查看可训练参数"
   ]
  },
  {
   "cell_type": "code",
   "execution_count": null,
   "metadata": {},
   "outputs": [],
   "source": [
    "# 继续训练模型\n",
    "lora_model.train()"
   ]
  },
  {
   "cell_type": "code",
   "execution_count": null,
   "metadata": {},
   "outputs": [],
   "source": [
    "from sklearn.metrics import accuracy_score, precision_recall_fscore_support\n",
    "import numpy as np\n",
    "# 计算评估指标\n",
    "def compute_metrics(eval_pred):\n",
    "    logits, labels = eval_pred\n",
    "    predictions = np.argmax(logits, axis=-1)\n",
    "    acc = accuracy_score(labels, predictions)\n",
    "    precision, recall, f1, _ = precision_recall_fscore_support(labels, predictions, average=\"binary\")\n",
    "    return {\n",
    "        \"eval_loss\": float(np.mean(logits)),  # 确保 `eval_loss` 存在\n",
    "        \"accuracy\": acc,\n",
    "        \"precision\": precision,\n",
    "        \"recall\": recall,\n",
    "        \"f1\": f1,\n",
    "    }"
   ]
  },
  {
   "cell_type": "code",
   "execution_count": null,
   "metadata": {},
   "outputs": [],
   "source": [
    "from transformers import TrainingArguments, Trainer, EarlyStoppingCallback\n",
    "training_args = TrainingArguments(\n",
    "    output_dir=\"./trainer/test_trainer-sft-lora-mixed\",\n",
    "    # output_dir=\"./trainer/test_trainer-sft-diy-lora\",\n",
    "    eval_strategy=\"epoch\",\n",
    "    save_strategy=\"epoch\",  # 每个 epoch 保存一次模型\n",
    "    save_steps=None,  # 取消按steps保存\n",
    "    learning_rate=2e-5,  # 学习率  2e-5    5e-5\n",
    "    per_device_train_batch_size=64,  # 适当增加 batch_size，默认 8\n",
    "    per_device_eval_batch_size=64,\n",
    "    num_train_epochs=5,  # 降低训练轮数，避免过拟合\n",
    "    weight_decay=0.02,  # 加入 L2 正则化\n",
    "    load_best_model_at_end=True,  # 训练结束后加载最佳模型\n",
    "    logging_strategy=\"epoch\",  # 确保每个 epoch 打印 loss\n",
    ")\n",
    "\n",
    "trainer = Trainer(\n",
    "    model=lora_model,\n",
    "    args=training_args,\n",
    "    train_dataset=train_dataset,\n",
    "    eval_dataset=eval_dataset,\n",
    "    compute_metrics=compute_metrics,\n",
    "    callbacks=[EarlyStoppingCallback(early_stopping_patience=3)],  # 早停机制\n",
    ")"
   ]
  },
  {
   "cell_type": "code",
   "execution_count": null,
   "metadata": {},
   "outputs": [],
   "source": [
    "trainer.train()"
   ]
  }
 ],
 "metadata": {
  "kernelspec": {
   "display_name": "Python 3",
   "language": "python",
   "name": "python3"
  },
  "language_info": {
   "codemirror_mode": {
    "name": "ipython",
    "version": 3
   },
   "file_extension": ".py",
   "mimetype": "text/x-python",
   "name": "python",
   "nbconvert_exporter": "python",
   "pygments_lexer": "ipython3",
   "version": "3.13.2"
  }
 },
 "nbformat": 4,
 "nbformat_minor": 2
}
