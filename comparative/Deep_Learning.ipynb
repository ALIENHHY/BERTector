{
 "cells": [
  {
   "cell_type": "code",
   "execution_count": 86,
   "metadata": {},
   "outputs": [],
   "source": [
    "import pandas as pd\n",
    "import numpy as np\n",
    "from sklearn.preprocessing import LabelEncoder\n",
    "from sklearn.metrics import accuracy_score, precision_score, recall_score, f1_score, confusion_matrix\n",
    "from sklearn.model_selection import train_test_split\n",
    "import matplotlib.pyplot as plt\n",
    "import seaborn as sns  # 如果想要更方便地可视化混淆矩阵，可以使用 seaborn\n",
    "from tqdm import tqdm   # 用于进度条\n",
    "from sklearn.preprocessing import StandardScaler, MinMaxScaler, RobustScaler, LabelEncoder, OneHotEncoder"
   ]
  },
  {
   "cell_type": "code",
   "execution_count": 87,
   "metadata": {},
   "outputs": [],
   "source": [
    "# -----------------------------------------------------------------------------\n",
    "# 1. 数据预处理函数\n",
    "# -----------------------------------------------------------------------------\n",
    "def preprocess_data(df):\n",
    "    \"\"\"\n",
    "    对数据进行预处理：\n",
    "    1. 将object类型或可能是字符串类型的特征进行编码（标签编码）\n",
    "    2. 提取特征X和标签y\n",
    "    \"\"\"\n",
    "    # 假设最后一列class为标签\n",
    "    # 如果列名为 'class'，则：\n",
    "    if 'class' not in df.columns:\n",
    "        raise ValueError(\"DataFrame 中未找到 'class' 列，请检查数据。\")\n",
    "    \n",
    "    #df = df.drop(columns=['id', 'attack_cat'])  # 删除无用列\n",
    "\n",
    "    # 版本 1: Label Encoding (适合决策树、随机森林、XGBoost)\n",
    "    categorical_columns = ['protocol_type', 'service', 'flag']\n",
    "    df_label = df.copy()\n",
    "    label_encoders = {}\n",
    "    for col in categorical_columns:\n",
    "        le = LabelEncoder()\n",
    "        df_label[col] = le.fit_transform(df[col])\n",
    "        label_encoders[col] = le  # 存储编码器，便于逆向转换\n",
    "    \n",
    "    print(\"Label Encoding 完成...\")\n",
    "\n",
    "    # 标准化数值特征（不包括 label）\n",
    "    numerical_columns = df.select_dtypes(include=['int64', 'float64']).columns.tolist()\n",
    "    numerical_columns.remove('class')  # 不对标签列进行标准化\n",
    "    \n",
    "    # 标准化方法\n",
    "    scaler_standard = StandardScaler()\n",
    "    scaler_minmax = MinMaxScaler()\n",
    "    scaler_robust = RobustScaler()\n",
    "\n",
    "    df_standard = df_label.copy()\n",
    "    #df_minmax = df_label.copy()\n",
    "    #df_robust = df_label.copy()\n",
    "\n",
    "    df_standard[numerical_columns] = scaler_standard.fit_transform(df_standard[numerical_columns])\n",
    "    \n",
    "    print(\"标准化数值特征完成...\")\n",
    "    #df_minmax[numerical_columns] = scaler_minmax.fit_transform(df_minmax[numerical_columns])\n",
    "    #df_robust[numerical_columns] = scaler_robust.fit_transform(df_robust[numerical_columns])\n",
    "\n",
    "    #select_features=select_features_with_rf(df_standard, 'label')\n",
    "    #df_standard=df_standard[select_features+['label']]\n",
    "\n",
    "    # 分离特征和标签\n",
    "    #X = df_standard.drop('label', axis=1)\n",
    "    #y = df_standard['label']\n",
    "\n",
    "    return df_standard"
   ]
  },
  {
   "cell_type": "code",
   "execution_count": 88,
   "metadata": {},
   "outputs": [],
   "source": [
    "import torch\n",
    "import torch.nn as nn\n",
    "# 深度神经网络（DNN）\n",
    "class DNN_IDS(nn.Module):\n",
    "    def __init__(self, input_size, hidden_sizes, output_size):\n",
    "        super(DNN_IDS, self).__init__()\n",
    "        layers = []\n",
    "        layer_sizes = [input_size] + hidden_sizes + [output_size]\n",
    "        for i in range(len(layer_sizes) - 1):\n",
    "            layers.append(nn.Linear(layer_sizes[i], layer_sizes[i + 1]))\n",
    "            if i < len(layer_sizes) - 2:\n",
    "                layers.append(nn.ReLU())\n",
    "        self.model = nn.Sequential(*layers)\n",
    "\n",
    "    def forward(self, x):\n",
    "        return self.model(x)\n",
    "\n",
    "def create_dnn_model(input_size, hidden_sizes, output_size):\n",
    "    return DNN_IDS(input_size, hidden_sizes, output_size)\n",
    "# 输入大小、隐藏层大小和输出大小"
   ]
  },
  {
   "cell_type": "code",
   "execution_count": 89,
   "metadata": {},
   "outputs": [],
   "source": [
    "import torch\n",
    "import torch.nn as nn\n",
    "# 卷积神经网络（CNN）\n",
    "class CNN_IDS(nn.Module):\n",
    "    def __init__(self, input_size, output_size=2):\n",
    "        super(CNN_IDS, self).__init__()\n",
    "        self.model = nn.Sequential(\n",
    "            nn.Conv1d(in_channels=1, out_channels=32, kernel_size=3, padding=1),\n",
    "            nn.ReLU(),\n",
    "            nn.BatchNorm1d(32),  # 归一化\n",
    "            nn.Conv1d(in_channels=32, out_channels=64, kernel_size=3, padding=1),\n",
    "            nn.ReLU(),\n",
    "            nn.BatchNorm1d(64),\n",
    "            nn.Flatten(),  # 展平\n",
    "            nn.Linear(64 * input_size, 128),  \n",
    "            nn.ReLU(),\n",
    "            nn.Dropout(0.5),  # Dropout 防止过拟合\n",
    "            nn.Linear(128, output_size)\n",
    "        )\n",
    "\n",
    "    def forward(self, x):\n",
    "        x = x.view(x.shape[0], 1, x.shape[1])  # (batch, channels, features)\n",
    "        return self.model(x)\n",
    "\n",
    "def create_cnn_model(input_size, output_size):\n",
    "    return CNN_IDS(input_size, output_size)"
   ]
  },
  {
   "cell_type": "code",
   "execution_count": 90,
   "metadata": {},
   "outputs": [],
   "source": [
    "import torch\n",
    "import torch.nn as nn\n",
    "# 循环神经网络（RNN）\n",
    "class RNN_IDS(nn.Module):\n",
    "    def __init__(self, input_size, hidden_size, output_size, num_layers=1):\n",
    "        super(RNN_IDS, self).__init__()\n",
    "        self.hidden_size = hidden_size\n",
    "        self.num_layers = num_layers\n",
    "        self.rnn = nn.RNN(input_size, hidden_size, num_layers, batch_first=True)\n",
    "        self.fc = nn.Linear(hidden_size, output_size)\n",
    "\n",
    "    def forward(self, x):\n",
    "        x = x.view(x.shape[0], -1, x.shape[1])  # 确保输入形状为 (batch, seq_len, input_size)\n",
    "        h0 = torch.zeros(self.num_layers, x.size(0), self.hidden_size).to(x.device)  # 初始化 h0\n",
    "        out, _ = self.rnn(x, h0)  # 前向传播\n",
    "        out = self.fc(out[:, -1, :])  # 取最后时间步输出\n",
    "        return out\n",
    "\n",
    "def create_rnn_model(input_size, hidden_size, output_size, num_layers=1):\n",
    "    return RNN_IDS(input_size, hidden_size, output_size, num_layers)\n",
    "#input_size：每个时间步的输入特征的维度。\n",
    "#hidden_size：隐藏层的大小，即 RNN 的隐状态维度。\n",
    "#output_size：输出的维度，例如分类任务的类别数。\n",
    "#num_layers：RNN 层数，默认值为 1。"
   ]
  },
  {
   "cell_type": "code",
   "execution_count": 91,
   "metadata": {},
   "outputs": [],
   "source": [
    "import torch\n",
    "import torch.nn as nn\n",
    "# 长短时记忆网络（LSTM）\n",
    "class LSTM_IDS(nn.Module):\n",
    "    def __init__(self, input_size, hidden_size, output_size, num_layers=1):\n",
    "        super(LSTM_IDS, self).__init__()\n",
    "        self.hidden_size = hidden_size\n",
    "        self.num_layers = num_layers\n",
    "        self.lstm = nn.LSTM(input_size, hidden_size, num_layers, batch_first=True)\n",
    "        self.fc = nn.Linear(hidden_size, output_size)\n",
    "\n",
    "    def forward(self, x):\n",
    "        x = x.view(x.shape[0], -1, x.shape[1])  # 确保输入形状正确 (batch, seq_len, input_size)\n",
    "        \n",
    "        # 纠正隐藏状态 hx 和 cx 的形状\n",
    "        h0 = torch.zeros(self.num_layers, x.size(0), self.hidden_size).to(x.device)\n",
    "        c0 = torch.zeros(self.num_layers, x.size(0), self.hidden_size).to(x.device)\n",
    "\n",
    "        out, _ = self.lstm(x, (h0, c0))  # 前向传播\n",
    "        out = self.fc(out[:, -1, :])  # 取最后时间步的输出\n",
    "        return out\n",
    "\n",
    "def create_lstm_model(input_size, hidden_size, output_size, num_layers=1):\n",
    "    return LSTM_IDS(input_size, hidden_size, output_size, num_layers)\n",
    "#input_size：每个时间步的输入特征的维度。\n",
    "#hidden_size：隐藏层的大小，即 LSTM 的隐状态维度。\n",
    "#output_size：输出的维度，例如分类任务的类别数。\n",
    "#num_layers：LSTM 层数，默认值为 1。\n"
   ]
  },
  {
   "cell_type": "code",
   "execution_count": 92,
   "metadata": {},
   "outputs": [],
   "source": [
    "import torch\n",
    "import torch.nn as nn\n",
    "\n",
    "# 选择模型的函数，根据传入的模型名称返回对应的模型实例\n",
    "def choose_model(model_name='dnn',input_size=None, **kwargs):\n",
    "    model_name = model_name.lower()\n",
    "    \n",
    "    if model_name == 'dnn':  # 深度神经网络（DNN）\n",
    "        if input_size is None:\n",
    "            raise ValueError(\"必须提供 input_size！\")\n",
    "        hidden_sizes = kwargs.get('hidden_sizes', [128, 64])\n",
    "        output_size = 2  # 入侵检测系统（IDS）是二分类任务\n",
    "        return DNN_IDS(input_size, hidden_sizes, output_size)\n",
    "    \n",
    "    elif model_name == 'cnn':  # 卷积神经网络（CNN）\n",
    "        if input_size is None:\n",
    "            raise ValueError(\"必须提供 input_size！\")\n",
    "        return CNN_IDS(input_size,output_size=2)  # 二分类任务\n",
    "    \n",
    "    elif model_name == 'rnn':  # 循环神经网络（RNN）\n",
    "        if input_size is None:\n",
    "            raise ValueError(\"必须提供 input_size！\")\n",
    "        hidden_size = kwargs.get('hidden_size', 128)\n",
    "        output_size = 2  # 二分类任务\n",
    "        num_layers = kwargs.get('num_layers', 1)\n",
    "        return RNN_IDS(input_size, hidden_size, output_size, num_layers)\n",
    "    \n",
    "    elif model_name == 'lstm':  # 长短时记忆网络（LSTM）\n",
    "        if input_size is None:\n",
    "            raise ValueError(\"必须提供 input_size！\")\n",
    "        hidden_size = kwargs.get('hidden_size', 128)\n",
    "        output_size = 2  # 二分类任务\n",
    "        num_layers = kwargs.get('num_layers', 1)\n",
    "        return LSTM_IDS(input_size, hidden_size, output_size, num_layers)\n",
    "\n",
    "    else:\n",
    "        raise ValueError(f\"Unsupported model name: {model_name}\")\n",
    "\n"
   ]
  },
  {
   "cell_type": "code",
   "execution_count": 93,
   "metadata": {},
   "outputs": [],
   "source": [
    "import os\n",
    "# -----------------------------------------------------------------------------\n",
    "# 3. 训练函数\n",
    "# -----------------------------------------------------------------------------\n",
    "def train_model(model, train_path, batch_size=64, epochs=10, lr=0.001):\n",
    "    \"\"\"\n",
    "    训练给定的神经网络模型，并在每个 epoch 结束时保存训练参数。\n",
    "    \n",
    "    参数：\n",
    "    - model: 需要训练的 PyTorch 模型\n",
    "    - train_path: 训练集 CSV 文件路径\n",
    "    - batch_size: 训练批次大小\n",
    "    - epochs: 训练轮数\n",
    "    - lr: 学习率\n",
    "\n",
    "    返回：\n",
    "    - model: 训练好的模型\n",
    "    - X_train: 预处理后的训练特征（Tensor）\n",
    "    - y_train: 预处理后的训练标签（Tensor）\n",
    "    - select_features: 选取的特征名称列表\n",
    "    \"\"\"\n",
    "     # 获取模型名称\n",
    "    model_name = model.__class__.__name__\n",
    "\n",
    "    # **为不同的模型创建独立的保存路径**\n",
    "    SAVE_DIR = os.path.join(\"model_checkpoints\", model_name)  # 例如：model_checkpoints/DNN/\n",
    "    os.makedirs(SAVE_DIR, exist_ok=True)\n",
    "    \n",
    "    print(f\"开始加载训练数据：{train_path}\")\n",
    "    df_train = pd.read_csv(train_path)\n",
    "\n",
    "    print(\"开始对训练数据进行预处理...\")\n",
    "    \n",
    "    df_train = preprocess_data(df_train)\n",
    "    \n",
    "    # 分离特征和标签\n",
    "    X_train = df_train.drop('class', axis=1)\n",
    "    y_train = df_train['class']\n",
    "    #print(X_train)\n",
    "    # 将 X_train 和 y_train 转换为 NumPy 数组\n",
    "    X_train = X_train.to_numpy()\n",
    "    y_train = y_train.to_numpy()\n",
    "\n",
    "    # 转为 PyTorch 张量\n",
    "    X_train = torch.tensor(X_train, dtype=torch.float32)\n",
    "    y_train = torch.tensor(y_train, dtype=torch.long)\n",
    "    \n",
    "\n",
    "    # 选择损失函数和优化器\n",
    "    criterion = nn.CrossEntropyLoss()  # 其他模型使用交叉熵损失\n",
    "    optimizer = torch.optim.Adam(model.parameters(), lr=lr)\n",
    "    \n",
    "    # 训练循环\n",
    "    print(\"开始训练模型...\")\n",
    "    for epoch in range(epochs):\n",
    "        model.train()\n",
    "        running_loss = 0.0\n",
    "        \n",
    "        # 使用 tqdm 进度条\n",
    "        with tqdm(total=len(X_train), desc=f\"Epoch {epoch+1}/{epochs}\", unit=\"samples\") as pbar:\n",
    "            # 分批次训练\n",
    "            for i in range(0, len(X_train), batch_size):\n",
    "                inputs = X_train[i:i+batch_size]\n",
    "                labels = y_train[i:i+batch_size]\n",
    "\n",
    "                optimizer.zero_grad()\n",
    "\n",
    "        \n",
    "      \n",
    "                outputs = model(inputs)\n",
    "                loss = criterion(outputs, labels)  # 其他模型使用 CrossEntropyLoss\n",
    "\n",
    "\n",
    "                loss.backward()\n",
    "                optimizer.step()\n",
    "\n",
    "                running_loss += loss.item()\n",
    "                \n",
    "                # 更新进度条\n",
    "                pbar.update(len(inputs))\n",
    "\n",
    "        # 计算并打印每个 epoch 的平均损失\n",
    "        avg_loss = running_loss / (len(X_train) // batch_size)\n",
    "        print(f\"Epoch [{epoch+1}/{epochs}], Loss: {avg_loss:.4f}\")\n",
    "        \n",
    "        # 保存模型参数\n",
    "        model_save_path = os.path.join(SAVE_DIR, f\"{model.__class__.__name__}_epoch{epoch+1}.pt\")\n",
    "        torch.save({\n",
    "            'epoch': epoch + 1,\n",
    "            'model_state_dict': model.state_dict(),\n",
    "            'optimizer_state_dict': optimizer.state_dict(),\n",
    "            'loss': avg_loss\n",
    "        }, model_save_path)\n",
    "\n",
    "        print(f\"模型已保存至: {model_save_path}\")\n",
    "        \n",
    "    print(\"训练完成！\")\n",
    "    return model, X_train, y_train\n"
   ]
  },
  {
   "cell_type": "code",
   "execution_count": null,
   "metadata": {},
   "outputs": [],
   "source": [
    "# -----------------------------------------------------------------------------\n",
    "# 4. 测试函数\n",
    "# -----------------------------------------------------------------------------\n",
    "def test_model(model, test_path, batch_size=1000):\n",
    "    \"\"\"\n",
    "    使用给定的模型和测试集路径对模型进行测试。\n",
    "    返回评估指标分数，并可视化混淆矩阵。\n",
    "    使用批量预测来提升速度，同时保留进度条。\n",
    "    \n",
    "    参数:\n",
    "    - model: 训练好的模型\n",
    "    - test_path: 测试集CSV文件路径\n",
    "    - batch_size: 每批预测的数据量大小\n",
    "    \"\"\"\n",
    "\n",
    "    print(f\"开始加载测试数据：{test_path}\")\n",
    "    df_test = pd.read_csv(test_path)\n",
    "\n",
    "    print(\"开始对测试数据进行预处理...\")\n",
    "\n",
    "    df_test = preprocess_data(df_test)\n",
    "    #print(df_test.columns)\n",
    "    #df_test, select_features_test= preprocess_data_select(df_test)\n",
    "    #print(select_features)\n",
    "\n",
    "    # 分离特征和标签\n",
    "    X_test = df_test.drop('class', axis=1)\n",
    "    y_test = df_test['class']\n",
    "\n",
    "    #print(X_test)\n",
    "    # 将 X_train 和 y_train 转换为 NumPy 数组\n",
    "    X_test = X_test.to_numpy()\n",
    "    y_test = y_test.to_numpy()\n",
    "    \n",
    "    # 转换为 PyTorch 张量\n",
    "    X_test = torch.tensor(X_test, dtype=torch.float32)  # 直接传递 X_test，而不是 X_test.values\n",
    "    y_test = torch.tensor(y_test, dtype=torch.long)  # 直接传递 y_test\n",
    "\n",
    "\n",
    "    print(\"开始预测...\")\n",
    "    # 如果不需要进度条，或对小数据集，直接使用 model.predict(X_test) 即可:\n",
    "    # y_pred = model.predict(X_test)\n",
    "    #\n",
    "    # 下面使用批量预测方式 + tqdm 进度条的写法：\n",
    "    model.eval()  # 切换到评估模式\n",
    "    predictions = []\n",
    "\n",
    "\n",
    "    # 批量预测 + tqdm 进度条\n",
    "    with torch.no_grad():\n",
    "        with tqdm(total=len(X_test), desc=\"Predicting\", unit=\"samples\") as pbar:\n",
    "            for i in range(0, len(X_test), batch_size):\n",
    "                inputs = X_test[i:i+batch_size]\n",
    "\n",
    "\n",
    "                outputs = model(inputs)\n",
    "                _, predicted = torch.max(outputs, 1)  # 分类模型\n",
    "                \n",
    "                predictions.extend(predicted.numpy())\n",
    "\n",
    "                # 更新进度条\n",
    "                pbar.update(len(inputs))\n",
    "\n",
    "    # 计算指标\n",
    "    acc = accuracy_score(y_test.numpy(), predictions)\n",
    "    precision = precision_score(y_test.numpy(), predictions, average='binary', zero_division=0)\n",
    "    recall = recall_score(y_test.numpy(), predictions, average='binary', zero_division=0)\n",
    "    f1 = f1_score(y_test.numpy(), predictions, average='binary', zero_division=0)\n",
    "    print(f\"\\n测试结果：\\nAccuracy = {acc:.20f}\\nPrecision = {precision:.20f}\\nRecall = {recall:.20f}\\nF1-Score = {f1:.20f}\")\n",
    "    '''\n",
    "    # 可视化混淆矩阵\n",
    "    cm = confusion_matrix(y_test.numpy(), predictions)\n",
    "    plt.figure(figsize=(8, 6))\n",
    "    sns.heatmap(cm, annot=True, fmt='d', cmap='Blues')\n",
    "    plt.title('Confusion Matrix')\n",
    "    plt.xlabel('Predicted')\n",
    "    plt.ylabel('True')\n",
    "    plt.show()\n",
    "    '''    \n",
    "    return acc, precision, recall, f1"
   ]
  },
  {
   "cell_type": "code",
   "execution_count": 225,
   "metadata": {},
   "outputs": [],
   "source": [
    "def test_model_check(model, checkpoint_path, test_path,  batch_size=1000):\n",
    "    \"\"\"\n",
    "    使用给定的模型和测试集路径对模型进行测试。\n",
    "    返回评估指标分数，并可视化混淆矩阵。\n",
    "    \"\"\"\n",
    "    print(f\"✅ 加载测试数据: {test_path}\")\n",
    "    df_test = pd.read_csv(test_path)\n",
    "    df_test = preprocess_data(df_test)\n",
    "    \n",
    "    X_test = df_test.drop(columns=['class']).to_numpy()  # 只保留特征列\n",
    "    y_test = df_test['class'].to_numpy()\n",
    "    \n",
    "    X_test = torch.tensor(X_test, dtype=torch.float32)\n",
    "    y_test = torch.tensor(y_test, dtype=torch.long)\n",
    "    \n",
    "    print(f\"✅ 加载模型参数: {checkpoint_path}\")\n",
    "    checkpoint = torch.load(checkpoint_path, map_location=torch.device('cpu'))\n",
    "    model.load_state_dict(checkpoint['model_state_dict'])\n",
    "    model.eval()\n",
    "    \n",
    "    print(\"🚀 开始预测...\")\n",
    "    predictions = []\n",
    "    \n",
    "        # 批量预测 + tqdm 进度条\n",
    "    with torch.no_grad():\n",
    "        with tqdm(total=len(X_test), desc=\"Predicting\", unit=\"samples\") as pbar:\n",
    "            for i in range(0, len(X_test), batch_size):\n",
    "                inputs = X_test[i:i+batch_size]\n",
    "\n",
    "                outputs = model(inputs)\n",
    "                _, predicted = torch.max(outputs, 1)  # 分类模型\n",
    "                \n",
    "                predictions.extend(predicted.numpy())\n",
    "\n",
    "                # 更新进度条\n",
    "                pbar.update(len(inputs))\n",
    "\n",
    "    acc = accuracy_score(y_test.numpy(), predictions)\n",
    "    precision = precision_score(y_test.numpy(), predictions, average='binary', zero_division=0)\n",
    "    recall = recall_score(y_test.numpy(), predictions, average='binary', zero_division=0)\n",
    "    f1 = f1_score(y_test.numpy(), predictions, average='binary', zero_division=0)\n",
    "    \n",
    "    print(f\"\\n🎯 测试结果：\\nAccuracy = {acc:.4f}\\nPrecision = {precision:.4f}\\nRecall = {recall:.4f}\\nF1-Score = {f1:.4f}\")\n",
    "    \n",
    "    '''\n",
    "    # 可视化混淆矩阵\n",
    "    cm = confusion_matrix(y_test.numpy(), predictions)\n",
    "    plt.figure(figsize=(8, 6))\n",
    "    sns.heatmap(cm, annot=True, fmt='d', cmap='Blues')\n",
    "    plt.title('Confusion Matrix')\n",
    "    plt.xlabel('Predicted')\n",
    "    plt.ylabel('True')\n",
    "    plt.show()\n",
    "    '''    \n",
    "    return acc, precision, recall, f1"
   ]
  },
  {
   "cell_type": "code",
   "execution_count": 103,
   "metadata": {},
   "outputs": [
    {
     "name": "stdout",
     "output_type": "stream",
     "text": [
      "Label Encoding 完成...\n",
      "标准化数值特征完成...\n",
      "输入特征大小: 41\n",
      "开始加载训练数据：NSL_KDD_train_split.csv\n",
      "开始对训练数据进行预处理...\n",
      "Label Encoding 完成...\n",
      "标准化数值特征完成...\n",
      "开始训练模型...\n"
     ]
    },
    {
     "name": "stderr",
     "output_type": "stream",
     "text": [
      "Epoch 1/10: 100%|██████████| 100000/100000 [00:04<00:00, 22062.80samples/s]\n"
     ]
    },
    {
     "name": "stdout",
     "output_type": "stream",
     "text": [
      "Epoch [1/10], Loss: 0.0747\n",
      "模型已保存至: model_checkpoints\\LSTM_IDS\\LSTM_IDS_epoch1.pt\n"
     ]
    },
    {
     "name": "stderr",
     "output_type": "stream",
     "text": [
      "Epoch 2/10: 100%|██████████| 100000/100000 [00:04<00:00, 22188.63samples/s]\n"
     ]
    },
    {
     "name": "stdout",
     "output_type": "stream",
     "text": [
      "Epoch [2/10], Loss: 0.0318\n",
      "模型已保存至: model_checkpoints\\LSTM_IDS\\LSTM_IDS_epoch2.pt\n"
     ]
    },
    {
     "name": "stderr",
     "output_type": "stream",
     "text": [
      "Epoch 3/10: 100%|██████████| 100000/100000 [00:04<00:00, 23007.34samples/s]\n"
     ]
    },
    {
     "name": "stdout",
     "output_type": "stream",
     "text": [
      "Epoch [3/10], Loss: 0.0261\n",
      "模型已保存至: model_checkpoints\\LSTM_IDS\\LSTM_IDS_epoch3.pt\n"
     ]
    },
    {
     "name": "stderr",
     "output_type": "stream",
     "text": [
      "Epoch 4/10: 100%|██████████| 100000/100000 [00:04<00:00, 22746.93samples/s]\n"
     ]
    },
    {
     "name": "stdout",
     "output_type": "stream",
     "text": [
      "Epoch [4/10], Loss: 0.0227\n",
      "模型已保存至: model_checkpoints\\LSTM_IDS\\LSTM_IDS_epoch4.pt\n"
     ]
    },
    {
     "name": "stderr",
     "output_type": "stream",
     "text": [
      "Epoch 5/10: 100%|██████████| 100000/100000 [00:04<00:00, 22035.19samples/s]\n"
     ]
    },
    {
     "name": "stdout",
     "output_type": "stream",
     "text": [
      "Epoch [5/10], Loss: 0.0205\n",
      "模型已保存至: model_checkpoints\\LSTM_IDS\\LSTM_IDS_epoch5.pt\n"
     ]
    },
    {
     "name": "stderr",
     "output_type": "stream",
     "text": [
      "Epoch 6/10: 100%|██████████| 100000/100000 [00:05<00:00, 17558.00samples/s]\n"
     ]
    },
    {
     "name": "stdout",
     "output_type": "stream",
     "text": [
      "Epoch [6/10], Loss: 0.0188\n",
      "模型已保存至: model_checkpoints\\LSTM_IDS\\LSTM_IDS_epoch6.pt\n"
     ]
    },
    {
     "name": "stderr",
     "output_type": "stream",
     "text": [
      "Epoch 7/10: 100%|██████████| 100000/100000 [00:05<00:00, 19553.51samples/s]\n"
     ]
    },
    {
     "name": "stdout",
     "output_type": "stream",
     "text": [
      "Epoch [7/10], Loss: 0.0175\n",
      "模型已保存至: model_checkpoints\\LSTM_IDS\\LSTM_IDS_epoch7.pt\n"
     ]
    },
    {
     "name": "stderr",
     "output_type": "stream",
     "text": [
      "Epoch 8/10: 100%|██████████| 100000/100000 [00:04<00:00, 21721.61samples/s]\n"
     ]
    },
    {
     "name": "stdout",
     "output_type": "stream",
     "text": [
      "Epoch [8/10], Loss: 0.0164\n",
      "模型已保存至: model_checkpoints\\LSTM_IDS\\LSTM_IDS_epoch8.pt\n"
     ]
    },
    {
     "name": "stderr",
     "output_type": "stream",
     "text": [
      "Epoch 9/10: 100%|██████████| 100000/100000 [00:04<00:00, 20604.97samples/s]\n"
     ]
    },
    {
     "name": "stdout",
     "output_type": "stream",
     "text": [
      "Epoch [9/10], Loss: 0.0154\n",
      "模型已保存至: model_checkpoints\\LSTM_IDS\\LSTM_IDS_epoch9.pt\n"
     ]
    },
    {
     "name": "stderr",
     "output_type": "stream",
     "text": [
      "Epoch 10/10: 100%|██████████| 100000/100000 [00:04<00:00, 20038.79samples/s]"
     ]
    },
    {
     "name": "stdout",
     "output_type": "stream",
     "text": [
      "Epoch [10/10], Loss: 0.0146\n",
      "模型已保存至: model_checkpoints\\LSTM_IDS\\LSTM_IDS_epoch10.pt\n",
      "训练完成！\n"
     ]
    },
    {
     "name": "stderr",
     "output_type": "stream",
     "text": [
      "\n"
     ]
    }
   ],
   "source": [
    "# 设置训练集路径\n",
    "train_csv_path = 'NSL_KDD_train_split.csv'\n",
    "df_train = pd.read_csv(train_csv_path)\n",
    "df_train = preprocess_data(df_train)\n",
    "\n",
    "input_size = len(df_train.columns) - 1  # 输入特征的大小\n",
    "print(f\"输入特征大小: {input_size}\")\n",
    "\n",
    "# 主流程示例\n",
    "selected_model_name = 'lstm'  # 'dnn', 'cnn', 'rnn', 'lstm' 等\n",
    "model = choose_model(selected_model_name, input_size=input_size)  # 选择模型\n",
    "\n",
    "# 训练模型\n",
    "model, X_train, y_train = train_model(model, train_csv_path, batch_size=64, epochs=10)\n",
    "\n",
    "#print(select_features)"
   ]
  },
  {
   "cell_type": "code",
   "execution_count": null,
   "metadata": {},
   "outputs": [
    {
     "name": "stdout",
     "output_type": "stream",
     "text": [
      "开始加载测试数据：NSL_KDD_test_split.csv\n",
      "开始对测试数据进行预处理...\n",
      "Label Encoding 完成...\n",
      "标准化数值特征完成...\n",
      "开始预测...\n"
     ]
    },
    {
     "name": "stderr",
     "output_type": "stream",
     "text": [
      "Predicting: 100%|██████████| 9999/9999 [00:00<00:00, 313953.46samples/s]"
     ]
    },
    {
     "name": "stdout",
     "output_type": "stream",
     "text": [
      "\n",
      "测试结果：\n",
      "Accuracy = 0.99179917991799182442\n",
      "Precision = 0.99153478100846526022\n",
      "Recall = 0.99336283185840712484\n",
      "F1-Score = 0.99244796463437101597\n"
     ]
    },
    {
     "name": "stderr",
     "output_type": "stream",
     "text": [
      "\n"
     ]
    },
    {
     "data": {
      "image/png": "[encoded data removed]",
      "text/plain": [
       "<Figure size 800x600 with 2 Axes>"
      ]
     },
     "metadata": {},
     "output_type": "display_data"
    }
   ],
   "source": [
    "# 测试模型\n",
    "# 你可以调整batch_size，如1000、5000、甚至一次性预测\n",
    "test_csv_path = 'NSL_KDD_test_split.csv'\n",
    "#test_csv_path = 'NSL-KDD-Gaussian.csv'\n",
    "#test_csv_path = 'NSL-KDD-Uniform.csv'\n",
    "#test_csv_path = 'NSL-KDD-Laplace.csv'\n",
    "#test_csv_path = 'NSL-KDD-Gamma.csv'\n",
    "#test_csv_path = 'NSL-KDD-Poisson.csv'\n",
    "#test_csv_path = 'NSL-KDD-Binomial.csv'\n",
    "#test_csv_path = 'NSL-KDD-Beta.csv'\n",
    "#test_csv_path = 'NSL-KDD-Cauchy.csv'\n",
    "\n",
    "acc, precision, recall, f1 = test_model(model, test_csv_path, batch_size=1000)"
   ]
  },
  {
   "cell_type": "code",
   "execution_count": null,
   "metadata": {},
   "outputs": [
    {
     "name": "stdout",
     "output_type": "stream",
     "text": [
      "✅ 加载测试数据: NSL-KDD-Laplace.csv\n",
      "Label Encoding 完成...\n",
      "标准化数值特征完成...\n",
      "✅ 加载模型参数: model_checkpoints/RNN_IDS/RNN_IDS_epoch10.pt\n",
      "🚀 开始预测...\n"
     ]
    },
    {
     "name": "stderr",
     "output_type": "stream",
     "text": [
      "Predicting: 100%|██████████| 9999/9999 [00:00<00:00, 335033.68samples/s]"
     ]
    },
    {
     "name": "stdout",
     "output_type": "stream",
     "text": [
      "\n",
      "🎯 测试结果：\n",
      "Accuracy = 0.5391\n",
      "Precision = 0.5754\n",
      "Recall = 0.5736\n",
      "F1-Score = 0.5745\n"
     ]
    },
    {
     "name": "stderr",
     "output_type": "stream",
     "text": [
      "\n"
     ]
    },
    {
     "data": {
      "image/png": "[encoded data removed]",
      "text/plain": [
       "<Figure size 800x600 with 2 Axes>"
      ]
     },
     "metadata": {},
     "output_type": "display_data"
    }
   ],
   "source": [
    "model_name = 'rnn'   # 可更改为 dnn, cnn, rnn, lstm\n",
    "#checkpoint_path = \"model_checkpoints/DNN_IDS/DNN_IDS_epoch10.pt\"\n",
    "#checkpoint_path = \"model_checkpoints/CNN_IDS/CNN_IDS_epoch10.pt\"\n",
    "checkpoint_path = \"model_checkpoints/RNN_IDS/RNN_IDS_epoch10.pt\"\n",
    "#checkpoint_path = \"model_checkpoints/LSTM_IDS/LSTM_IDS_epoch10.pt\"\n",
    "#test_csv_path = \"NSL_KDD_test_split.csv\"\n",
    "#test_csv_path = 'NSL-KDD-Gaussian.csv'\n",
    "#test_csv_path = 'NSL-KDD-Uniform.csv'\n",
    "#test_csv_path = 'NSL-KDD-Laplace.csv'\n",
    "test_csv_path = 'NSL-KDD-Gamma.csv'\n",
    "#test_csv_path = 'NSL-KDD-Poisson.csv'\n",
    "#test_csv_path = 'NSL-KDD-Binomial.csv'\n",
    "#test_csv_path = 'NSL-KDD-Beta.csv'\n",
    "#test_csv_path = 'NSL-KDD-Cauchy.csv'\n",
    "\n",
    "model = choose_model(model_name, input_size=input_size)\n",
    "acc, precision, recall, f1 = test_model_check(model, checkpoint_path, test_csv_path)\n",
    "    "
   ]
  },
  {
   "cell_type": "code",
   "execution_count": 223,
   "metadata": {},
   "outputs": [
    {
     "name": "stdout",
     "output_type": "stream",
     "text": [
      "Testing model: dnn\n",
      "✅ 加载测试数据: NSL-KDD-Laplace.csv\n",
      "Label Encoding 完成...\n",
      "标准化数值特征完成...\n",
      "✅ 加载模型参数: model_checkpoints/DNN_IDS/DNN_IDS_epoch10.pt\n",
      "🚀 开始预测...\n"
     ]
    },
    {
     "name": "stderr",
     "output_type": "stream",
     "text": [
      "Predicting: 100%|██████████| 9999/9999 [00:00<00:00, 1310425.12samples/s]"
     ]
    },
    {
     "name": "stdout",
     "output_type": "stream",
     "text": [
      "\n",
      "🎯 测试结果：\n",
      "Accuracy = 0.5424\n",
      "Precision = 0.5616\n",
      "Recall = 0.7131\n",
      "F1-Score = 0.6283\n"
     ]
    },
    {
     "name": "stderr",
     "output_type": "stream",
     "text": [
      "\n"
     ]
    },
    {
     "data": {
      "image/png": "[encoded data removed]",
      "text/plain": [
       "<Figure size 800x600 with 2 Axes>"
      ]
     },
     "metadata": {},
     "output_type": "display_data"
    },
    {
     "name": "stdout",
     "output_type": "stream",
     "text": [
      "Testing model: cnn\n",
      "✅ 加载测试数据: NSL-KDD-Laplace.csv\n",
      "Label Encoding 完成...\n",
      "标准化数值特征完成...\n",
      "✅ 加载模型参数: model_checkpoints/CNN_IDS/CNN_IDS_epoch10.pt\n",
      "🚀 开始预测...\n"
     ]
    },
    {
     "name": "stderr",
     "output_type": "stream",
     "text": [
      "Predicting: 100%|██████████| 9999/9999 [00:00<00:00, 164067.80samples/s]"
     ]
    },
    {
     "name": "stdout",
     "output_type": "stream",
     "text": [
      "\n",
      "🎯 测试结果：\n",
      "Accuracy = 0.5150\n",
      "Precision = 0.5924\n",
      "Recall = 0.3392\n",
      "F1-Score = 0.4314\n"
     ]
    },
    {
     "name": "stderr",
     "output_type": "stream",
     "text": [
      "\n"
     ]
    },
    {
     "data": {
      "image/png": "[encoded data removed]",
      "text/plain": [
       "<Figure size 800x600 with 2 Axes>"
      ]
     },
     "metadata": {},
     "output_type": "display_data"
    },
    {
     "name": "stdout",
     "output_type": "stream",
     "text": [
      "Testing model: rnn\n",
      "✅ 加载测试数据: NSL-KDD-Laplace.csv\n",
      "Label Encoding 完成...\n",
      "标准化数值特征完成...\n",
      "✅ 加载模型参数: model_checkpoints/RNN_IDS/RNN_IDS_epoch10.pt\n",
      "🚀 开始预测...\n"
     ]
    },
    {
     "name": "stderr",
     "output_type": "stream",
     "text": [
      "Predicting: 100%|██████████| 9999/9999 [00:00<00:00, 624759.35samples/s]\n"
     ]
    },
    {
     "name": "stdout",
     "output_type": "stream",
     "text": [
      "\n",
      "🎯 测试结果：\n",
      "Accuracy = 0.5391\n",
      "Precision = 0.5754\n",
      "Recall = 0.5736\n",
      "F1-Score = 0.5745\n"
     ]
    },
    {
     "data": {
      "image/png": "[encoded data removed]",
      "text/plain": [
       "<Figure size 800x600 with 2 Axes>"
      ]
     },
     "metadata": {},
     "output_type": "display_data"
    },
    {
     "name": "stdout",
     "output_type": "stream",
     "text": [
      "Testing model: lstm\n",
      "✅ 加载测试数据: NSL-KDD-Laplace.csv\n",
      "Label Encoding 完成...\n",
      "标准化数值特征完成...\n",
      "✅ 加载模型参数: model_checkpoints/LSTM_IDS/LSTM_IDS_epoch10.pt\n",
      "🚀 开始预测...\n"
     ]
    },
    {
     "name": "stderr",
     "output_type": "stream",
     "text": [
      "Predicting: 100%|██████████| 9999/9999 [00:00<00:00, 516902.02samples/s]"
     ]
    },
    {
     "name": "stdout",
     "output_type": "stream",
     "text": [
      "\n",
      "🎯 测试结果：\n",
      "Accuracy = 0.5444\n",
      "Precision = 0.5791\n",
      "Recall = 0.5861\n",
      "F1-Score = 0.5826\n"
     ]
    },
    {
     "name": "stderr",
     "output_type": "stream",
     "text": [
      "\n"
     ]
    },
    {
     "data": {
      "image/png": "[encoded data removed]",
      "text/plain": [
       "<Figure size 800x600 with 2 Axes>"
      ]
     },
     "metadata": {},
     "output_type": "display_data"
    },
    {
     "name": "stdout",
     "output_type": "stream",
     "text": [
      "\n",
      "Test Results:\n",
      "dnn: Accuracy=0.5424, Precision=0.5616, Recall=0.7131, F1-score=0.6283\n",
      "cnn: Accuracy=0.5150, Precision=0.5924, Recall=0.3392, F1-score=0.4314\n",
      "rnn: Accuracy=0.5391, Precision=0.5754, Recall=0.5736, F1-score=0.5745\n",
      "lstm: Accuracy=0.5444, Precision=0.5791, Recall=0.5861, F1-score=0.5826\n"
     ]
    }
   ],
   "source": [
    "model_names = ['dnn', 'cnn', 'rnn', 'lstm']  # 可更改或扩展模型列表\n",
    "\n",
    " # 统一测试数据集路径\n",
    "#test_csv_path = \"NSL_KDD_test_split.csv\"\n",
    "#test_csv_path = 'NSL-KDD-Gaussian.csv'\n",
    "#test_csv_path = 'NSL-KDD-Uniform.csv'\n",
    "test_csv_path = 'NSL-KDD-Laplace.csv'\n",
    "#test_csv_path = 'NSL-KDD-Gamma.csv'\n",
    "#test_csv_path = 'NSL-KDD-Poisson.csv'\n",
    "#test_csv_path = 'NSL-KDD-Binomial.csv'\n",
    "#test_csv_path = 'NSL-KDD-Beta.csv'\n",
    "#test_csv_path = 'NSL-KDD-Cauchy.csv'\n",
    "    \n",
    "results = []\n",
    "    \n",
    "for model_name in model_names:\n",
    "    print(f\"Testing model: {model_name}\")\n",
    "        \n",
    "    # 选择模型\n",
    "    model = choose_model(model_name, input_size=input_size)\n",
    "        \n",
    "    # 选择对应的 checkpoint 路径\n",
    "    checkpoint_path = f\"model_checkpoints/{model_name.upper()}_IDS/{model_name.upper()}_IDS_epoch10.pt\"\n",
    "        \n",
    "    # 进行测试\n",
    "    acc, precision, recall, f1 = test_model_check(model, checkpoint_path, test_csv_path)\n",
    "    results.append((model_name, acc, precision, recall, f1))\n",
    "    \n",
    "    # 打印测试结果\n",
    "print(\"\\nTest Results:\")\n",
    "for model_name, acc, precision, recall, f1 in results:\n",
    "    print(f\"{model_name}: Accuracy={acc:.4f}, Precision={precision:.4f}, Recall={recall:.4f}, F1-score={f1:.4f}\")"
   ]
  },
  {
   "cell_type": "code",
   "execution_count": 226,
   "metadata": {},
   "outputs": [
    {
     "name": "stdout",
     "output_type": "stream",
     "text": [
      "Testing model: dnn\n",
      "Testing model dnn on NSL_KDD_test_split.csv\n",
      "✅ 加载测试数据: NSL_KDD_test_split.csv\n",
      "Label Encoding 完成...\n",
      "标准化数值特征完成...\n",
      "✅ 加载模型参数: model_checkpoints/DNN_IDS/DNN_IDS_epoch10.pt\n",
      "🚀 开始预测...\n"
     ]
    },
    {
     "name": "stderr",
     "output_type": "stream",
     "text": [
      "Predicting: 100%|██████████| 9999/9999 [00:00<00:00, 522329.07samples/s]\n"
     ]
    },
    {
     "name": "stdout",
     "output_type": "stream",
     "text": [
      "\n",
      "🎯 测试结果：\n",
      "Accuracy = 0.9912\n",
      "Precision = 0.9904\n",
      "Recall = 0.9934\n",
      "F1-Score = 0.9919\n",
      "Testing model dnn on NSL-KDD-Gaussian.csv\n",
      "✅ 加载测试数据: NSL-KDD-Gaussian.csv\n",
      "Label Encoding 完成...\n",
      "标准化数值特征完成...\n",
      "✅ 加载模型参数: model_checkpoints/DNN_IDS/DNN_IDS_epoch10.pt\n",
      "🚀 开始预测...\n"
     ]
    },
    {
     "name": "stderr",
     "output_type": "stream",
     "text": [
      "Predicting: 100%|██████████| 9999/9999 [00:00<00:00, 1020856.96samples/s]"
     ]
    },
    {
     "name": "stdout",
     "output_type": "stream",
     "text": [
      "\n",
      "🎯 测试结果：\n",
      "Accuracy = 0.5386\n",
      "Precision = 0.5584\n",
      "Recall = 0.7140\n",
      "F1-Score = 0.6267\n",
      "Testing model dnn on NSL-KDD-Uniform.csv\n",
      "✅ 加载测试数据: NSL-KDD-Uniform.csv\n"
     ]
    },
    {
     "name": "stderr",
     "output_type": "stream",
     "text": [
      "\n"
     ]
    },
    {
     "name": "stdout",
     "output_type": "stream",
     "text": [
      "Label Encoding 完成...\n",
      "标准化数值特征完成...\n",
      "✅ 加载模型参数: model_checkpoints/DNN_IDS/DNN_IDS_epoch10.pt\n",
      "🚀 开始预测...\n"
     ]
    },
    {
     "name": "stderr",
     "output_type": "stream",
     "text": [
      "Predicting: 100%|██████████| 9999/9999 [00:00<00:00, 1110992.23samples/s]\n"
     ]
    },
    {
     "name": "stdout",
     "output_type": "stream",
     "text": [
      "\n",
      "🎯 测试结果：\n",
      "Accuracy = 0.5323\n",
      "Precision = 0.5544\n",
      "Recall = 0.7017\n",
      "F1-Score = 0.6194\n",
      "Testing model dnn on NSL-KDD-Laplace.csv\n",
      "✅ 加载测试数据: NSL-KDD-Laplace.csv\n",
      "Label Encoding 完成...\n",
      "标准化数值特征完成...\n",
      "✅ 加载模型参数: model_checkpoints/DNN_IDS/DNN_IDS_epoch10.pt\n",
      "🚀 开始预测...\n"
     ]
    },
    {
     "name": "stderr",
     "output_type": "stream",
     "text": [
      "Predicting: 100%|██████████| 9999/9999 [00:00<?, ?samples/s]"
     ]
    },
    {
     "name": "stdout",
     "output_type": "stream",
     "text": [
      "\n",
      "🎯 测试结果：\n",
      "Accuracy = 0.5424\n",
      "Precision = 0.5616\n",
      "Recall = 0.7131\n",
      "F1-Score = 0.6283\n"
     ]
    },
    {
     "name": "stderr",
     "output_type": "stream",
     "text": [
      "\n"
     ]
    },
    {
     "name": "stdout",
     "output_type": "stream",
     "text": [
      "Testing model dnn on NSL-KDD-Gamma.csv\n",
      "✅ 加载测试数据: NSL-KDD-Gamma.csv\n",
      "Label Encoding 完成...\n",
      "标准化数值特征完成...\n",
      "✅ 加载模型参数: model_checkpoints/DNN_IDS/DNN_IDS_epoch10.pt\n",
      "🚀 开始预测...\n"
     ]
    },
    {
     "name": "stderr",
     "output_type": "stream",
     "text": [
      "Predicting: 100%|██████████| 9999/9999 [00:00<00:00, 1217665.81samples/s]\n"
     ]
    },
    {
     "name": "stdout",
     "output_type": "stream",
     "text": [
      "\n",
      "🎯 测试结果：\n",
      "Accuracy = 0.5972\n",
      "Precision = 0.5994\n",
      "Recall = 0.7758\n",
      "F1-Score = 0.6763\n",
      "Testing model dnn on NSL-KDD-Poisson.csv\n",
      "✅ 加载测试数据: NSL-KDD-Poisson.csv\n",
      "Label Encoding 完成...\n",
      "标准化数值特征完成...\n",
      "✅ 加载模型参数: model_checkpoints/DNN_IDS/DNN_IDS_epoch10.pt\n",
      "🚀 开始预测...\n"
     ]
    },
    {
     "name": "stderr",
     "output_type": "stream",
     "text": [
      "Predicting: 100%|██████████| 9999/9999 [00:00<00:00, 1581583.35samples/s]\n"
     ]
    },
    {
     "name": "stdout",
     "output_type": "stream",
     "text": [
      "\n",
      "🎯 测试结果：\n",
      "Accuracy = 0.6582\n",
      "Precision = 0.6463\n",
      "Recall = 0.8169\n",
      "F1-Score = 0.7217\n",
      "Testing model dnn on NSL-KDD-Binomial.csv\n",
      "✅ 加载测试数据: NSL-KDD-Binomial.csv\n",
      "Label Encoding 完成...\n",
      "标准化数值特征完成...\n",
      "✅ 加载模型参数: model_checkpoints/DNN_IDS/DNN_IDS_epoch10.pt\n",
      "🚀 开始预测...\n"
     ]
    },
    {
     "name": "stderr",
     "output_type": "stream",
     "text": [
      "Predicting: 100%|██████████| 9999/9999 [00:00<00:00, 1260787.81samples/s]\n"
     ]
    },
    {
     "name": "stdout",
     "output_type": "stream",
     "text": [
      "\n",
      "🎯 测试结果：\n",
      "Accuracy = 0.8736\n",
      "Precision = 0.8481\n",
      "Recall = 0.9344\n",
      "F1-Score = 0.8891\n",
      "Testing model dnn on NSL-KDD-Beta.csv\n",
      "✅ 加载测试数据: NSL-KDD-Beta.csv\n",
      "Label Encoding 完成...\n",
      "标准化数值特征完成...\n",
      "✅ 加载模型参数: model_checkpoints/DNN_IDS/DNN_IDS_epoch10.pt\n",
      "🚀 开始预测...\n"
     ]
    },
    {
     "name": "stderr",
     "output_type": "stream",
     "text": [
      "Predicting: 100%|██████████| 9999/9999 [00:00<00:00, 1630846.39samples/s]"
     ]
    },
    {
     "name": "stdout",
     "output_type": "stream",
     "text": [
      "\n",
      "🎯 测试结果：\n",
      "Accuracy = 0.8799\n",
      "Precision = 0.9159\n",
      "Recall = 0.8573\n",
      "F1-Score = 0.8856\n"
     ]
    },
    {
     "name": "stderr",
     "output_type": "stream",
     "text": [
      "\n"
     ]
    },
    {
     "name": "stdout",
     "output_type": "stream",
     "text": [
      "Testing model dnn on NSL-KDD-Cauchy.csv\n",
      "✅ 加载测试数据: NSL-KDD-Cauchy.csv\n",
      "Label Encoding 完成...\n",
      "标准化数值特征完成...\n",
      "✅ 加载模型参数: model_checkpoints/DNN_IDS/DNN_IDS_epoch10.pt\n",
      "🚀 开始预测...\n"
     ]
    },
    {
     "name": "stderr",
     "output_type": "stream",
     "text": [
      "Predicting: 100%|██████████| 9999/9999 [00:00<00:00, 1425957.83samples/s]\n"
     ]
    },
    {
     "name": "stdout",
     "output_type": "stream",
     "text": [
      "\n",
      "🎯 测试结果：\n",
      "Accuracy = 0.5958\n",
      "Precision = 0.5796\n",
      "Recall = 0.9274\n",
      "F1-Score = 0.7134\n",
      "Testing model: cnn\n",
      "Testing model cnn on NSL_KDD_test_split.csv\n",
      "✅ 加载测试数据: NSL_KDD_test_split.csv\n",
      "Label Encoding 完成...\n",
      "标准化数值特征完成...\n",
      "✅ 加载模型参数: model_checkpoints/CNN_IDS/CNN_IDS_epoch10.pt\n",
      "🚀 开始预测...\n"
     ]
    },
    {
     "name": "stderr",
     "output_type": "stream",
     "text": [
      "Predicting: 100%|██████████| 9999/9999 [00:00<00:00, 179266.44samples/s]"
     ]
    },
    {
     "name": "stdout",
     "output_type": "stream",
     "text": [
      "\n",
      "🎯 测试结果：\n",
      "Accuracy = 0.9936\n",
      "Precision = 0.9925\n",
      "Recall = 0.9958\n",
      "F1-Score = 0.9941\n",
      "Testing model cnn on NSL-KDD-Gaussian.csv\n",
      "✅ 加载测试数据: NSL-KDD-Gaussian.csv\n",
      "Label Encoding 完成...\n"
     ]
    },
    {
     "name": "stderr",
     "output_type": "stream",
     "text": [
      "\n"
     ]
    },
    {
     "name": "stdout",
     "output_type": "stream",
     "text": [
      "标准化数值特征完成...\n",
      "✅ 加载模型参数: model_checkpoints/CNN_IDS/CNN_IDS_epoch10.pt\n",
      "🚀 开始预测...\n"
     ]
    },
    {
     "name": "stderr",
     "output_type": "stream",
     "text": [
      "Predicting: 100%|██████████| 9999/9999 [00:00<00:00, 154043.08samples/s]\n"
     ]
    },
    {
     "name": "stdout",
     "output_type": "stream",
     "text": [
      "\n",
      "🎯 测试结果：\n",
      "Accuracy = 0.5092\n",
      "Precision = 0.5780\n",
      "Recall = 0.3525\n",
      "F1-Score = 0.4379\n",
      "Testing model cnn on NSL-KDD-Uniform.csv\n",
      "✅ 加载测试数据: NSL-KDD-Uniform.csv\n",
      "Label Encoding 完成...\n",
      "标准化数值特征完成...\n",
      "✅ 加载模型参数: model_checkpoints/CNN_IDS/CNN_IDS_epoch10.pt\n",
      "🚀 开始预测...\n"
     ]
    },
    {
     "name": "stderr",
     "output_type": "stream",
     "text": [
      "Predicting: 100%|██████████| 9999/9999 [00:00<00:00, 164194.34samples/s]\n"
     ]
    },
    {
     "name": "stdout",
     "output_type": "stream",
     "text": [
      "\n",
      "🎯 测试结果：\n",
      "Accuracy = 0.4993\n",
      "Precision = 0.5590\n",
      "Recall = 0.3652\n",
      "F1-Score = 0.4418\n",
      "Testing model cnn on NSL-KDD-Laplace.csv\n",
      "✅ 加载测试数据: NSL-KDD-Laplace.csv\n",
      "Label Encoding 完成...\n",
      "标准化数值特征完成...\n",
      "✅ 加载模型参数: model_checkpoints/CNN_IDS/CNN_IDS_epoch10.pt\n",
      "🚀 开始预测...\n"
     ]
    },
    {
     "name": "stderr",
     "output_type": "stream",
     "text": [
      "Predicting: 100%|██████████| 9999/9999 [00:00<00:00, 184046.44samples/s]\n"
     ]
    },
    {
     "name": "stdout",
     "output_type": "stream",
     "text": [
      "\n",
      "🎯 测试结果：\n",
      "Accuracy = 0.5150\n",
      "Precision = 0.5924\n",
      "Recall = 0.3392\n",
      "F1-Score = 0.4314\n",
      "Testing model cnn on NSL-KDD-Gamma.csv\n",
      "✅ 加载测试数据: NSL-KDD-Gamma.csv\n",
      "Label Encoding 完成...\n",
      "标准化数值特征完成...\n",
      "✅ 加载模型参数: model_checkpoints/CNN_IDS/CNN_IDS_epoch10.pt\n",
      "🚀 开始预测...\n"
     ]
    },
    {
     "name": "stderr",
     "output_type": "stream",
     "text": [
      "Predicting: 100%|██████████| 9999/9999 [00:00<00:00, 123730.20samples/s]\n"
     ]
    },
    {
     "name": "stdout",
     "output_type": "stream",
     "text": [
      "\n",
      "🎯 测试结果：\n",
      "Accuracy = 0.5890\n",
      "Precision = 0.6563\n",
      "Recall = 0.5087\n",
      "F1-Score = 0.5731\n",
      "Testing model cnn on NSL-KDD-Poisson.csv\n",
      "✅ 加载测试数据: NSL-KDD-Poisson.csv\n",
      "Label Encoding 完成...\n",
      "标准化数值特征完成...\n",
      "✅ 加载模型参数: model_checkpoints/CNN_IDS/CNN_IDS_epoch10.pt\n",
      "🚀 开始预测...\n"
     ]
    },
    {
     "name": "stderr",
     "output_type": "stream",
     "text": [
      "Predicting: 100%|██████████| 9999/9999 [00:00<00:00, 178666.93samples/s]\n"
     ]
    },
    {
     "name": "stdout",
     "output_type": "stream",
     "text": [
      "\n",
      "🎯 测试结果：\n",
      "Accuracy = 0.6266\n",
      "Precision = 0.7194\n",
      "Recall = 0.5109\n",
      "F1-Score = 0.5975\n",
      "Testing model cnn on NSL-KDD-Binomial.csv\n",
      "✅ 加载测试数据: NSL-KDD-Binomial.csv\n",
      "Label Encoding 完成...\n",
      "标准化数值特征完成...\n",
      "✅ 加载模型参数: model_checkpoints/CNN_IDS/CNN_IDS_epoch10.pt\n",
      "🚀 开始预测...\n"
     ]
    },
    {
     "name": "stderr",
     "output_type": "stream",
     "text": [
      "Predicting: 100%|██████████| 9999/9999 [00:00<00:00, 137104.34samples/s]\n"
     ]
    },
    {
     "name": "stdout",
     "output_type": "stream",
     "text": [
      "\n",
      "🎯 测试结果：\n",
      "Accuracy = 0.8068\n",
      "Precision = 0.9230\n",
      "Recall = 0.7024\n",
      "F1-Score = 0.7977\n",
      "Testing model cnn on NSL-KDD-Beta.csv\n",
      "✅ 加载测试数据: NSL-KDD-Beta.csv\n",
      "Label Encoding 完成...\n",
      "标准化数值特征完成...\n",
      "✅ 加载模型参数: model_checkpoints/CNN_IDS/CNN_IDS_epoch10.pt\n",
      "🚀 开始预测...\n"
     ]
    },
    {
     "name": "stderr",
     "output_type": "stream",
     "text": [
      "Predicting: 100%|██████████| 9999/9999 [00:00<00:00, 185815.95samples/s]\n"
     ]
    },
    {
     "name": "stdout",
     "output_type": "stream",
     "text": [
      "\n",
      "🎯 测试结果：\n",
      "Accuracy = 0.8862\n",
      "Precision = 0.9837\n",
      "Recall = 0.8035\n",
      "F1-Score = 0.8845\n",
      "Testing model cnn on NSL-KDD-Cauchy.csv\n",
      "✅ 加载测试数据: NSL-KDD-Cauchy.csv\n",
      "Label Encoding 完成...\n",
      "标准化数值特征完成...\n",
      "✅ 加载模型参数: model_checkpoints/CNN_IDS/CNN_IDS_epoch10.pt\n",
      "🚀 开始预测...\n"
     ]
    },
    {
     "name": "stderr",
     "output_type": "stream",
     "text": [
      "Predicting: 100%|██████████| 9999/9999 [00:00<00:00, 154482.84samples/s]\n"
     ]
    },
    {
     "name": "stdout",
     "output_type": "stream",
     "text": [
      "\n",
      "🎯 测试结果：\n",
      "Accuracy = 0.5211\n",
      "Precision = 0.5467\n",
      "Recall = 0.6853\n",
      "F1-Score = 0.6082\n",
      "Testing model: rnn\n",
      "Testing model rnn on NSL_KDD_test_split.csv\n",
      "✅ 加载测试数据: NSL_KDD_test_split.csv\n",
      "Label Encoding 完成...\n",
      "标准化数值特征完成...\n",
      "✅ 加载模型参数: model_checkpoints/RNN_IDS/RNN_IDS_epoch10.pt\n",
      "🚀 开始预测...\n"
     ]
    },
    {
     "name": "stderr",
     "output_type": "stream",
     "text": [
      "Predicting: 100%|██████████| 9999/9999 [00:00<00:00, 728952.87samples/s]"
     ]
    },
    {
     "name": "stdout",
     "output_type": "stream",
     "text": [
      "\n",
      "🎯 测试结果：\n",
      "Accuracy = 0.9916\n",
      "Precision = 0.9932\n",
      "Recall = 0.9913\n",
      "F1-Score = 0.9922\n",
      "Testing model rnn on NSL-KDD-Gaussian.csv\n",
      "✅ 加载测试数据: NSL-KDD-Gaussian.csv\n",
      "Label Encoding 完成...\n"
     ]
    },
    {
     "name": "stderr",
     "output_type": "stream",
     "text": [
      "\n"
     ]
    },
    {
     "name": "stdout",
     "output_type": "stream",
     "text": [
      "标准化数值特征完成...\n",
      "✅ 加载模型参数: model_checkpoints/RNN_IDS/RNN_IDS_epoch10.pt\n",
      "🚀 开始预测...\n"
     ]
    },
    {
     "name": "stderr",
     "output_type": "stream",
     "text": [
      "Predicting: 100%|██████████| 9999/9999 [00:00<00:00, 804381.56samples/s]\n"
     ]
    },
    {
     "name": "stdout",
     "output_type": "stream",
     "text": [
      "\n",
      "🎯 测试结果：\n",
      "Accuracy = 0.5317\n",
      "Precision = 0.5675\n",
      "Recall = 0.5741\n",
      "F1-Score = 0.5708\n",
      "Testing model rnn on NSL-KDD-Uniform.csv\n",
      "✅ 加载测试数据: NSL-KDD-Uniform.csv\n",
      "Label Encoding 完成...\n",
      "标准化数值特征完成...\n",
      "✅ 加载模型参数: model_checkpoints/RNN_IDS/RNN_IDS_epoch10.pt\n",
      "🚀 开始预测...\n"
     ]
    },
    {
     "name": "stderr",
     "output_type": "stream",
     "text": [
      "Predicting: 100%|██████████| 9999/9999 [00:00<00:00, 772724.43samples/s]\n"
     ]
    },
    {
     "name": "stdout",
     "output_type": "stream",
     "text": [
      "\n",
      "🎯 测试结果：\n",
      "Accuracy = 0.5304\n",
      "Precision = 0.5669\n",
      "Recall = 0.5684\n",
      "F1-Score = 0.5677\n",
      "Testing model rnn on NSL-KDD-Laplace.csv\n",
      "✅ 加载测试数据: NSL-KDD-Laplace.csv\n",
      "Label Encoding 完成...\n",
      "标准化数值特征完成...\n",
      "✅ 加载模型参数: model_checkpoints/RNN_IDS/RNN_IDS_epoch10.pt\n",
      "🚀 开始预测...\n"
     ]
    },
    {
     "name": "stderr",
     "output_type": "stream",
     "text": [
      "Predicting: 100%|██████████| 9999/9999 [00:00<00:00, 559684.59samples/s]\n"
     ]
    },
    {
     "name": "stdout",
     "output_type": "stream",
     "text": [
      "\n",
      "🎯 测试结果：\n",
      "Accuracy = 0.5391\n",
      "Precision = 0.5754\n",
      "Recall = 0.5736\n",
      "F1-Score = 0.5745\n",
      "Testing model rnn on NSL-KDD-Gamma.csv\n",
      "✅ 加载测试数据: NSL-KDD-Gamma.csv\n",
      "Label Encoding 完成...\n",
      "标准化数值特征完成...\n",
      "✅ 加载模型参数: model_checkpoints/RNN_IDS/RNN_IDS_epoch10.pt\n",
      "🚀 开始预测...\n"
     ]
    },
    {
     "name": "stderr",
     "output_type": "stream",
     "text": [
      "Predicting: 100%|██████████| 9999/9999 [00:00<00:00, 511980.05samples/s]\n"
     ]
    },
    {
     "name": "stdout",
     "output_type": "stream",
     "text": [
      "\n",
      "🎯 测试结果：\n",
      "Accuracy = 0.5897\n",
      "Precision = 0.6209\n",
      "Recall = 0.6256\n",
      "F1-Score = 0.6232\n",
      "Testing model rnn on NSL-KDD-Poisson.csv\n",
      "✅ 加载测试数据: NSL-KDD-Poisson.csv\n",
      "Label Encoding 完成...\n",
      "标准化数值特征完成...\n",
      "✅ 加载模型参数: model_checkpoints/RNN_IDS/RNN_IDS_epoch10.pt\n",
      "🚀 开始预测...\n"
     ]
    },
    {
     "name": "stderr",
     "output_type": "stream",
     "text": [
      "Predicting: 100%|██████████| 9999/9999 [00:00<00:00, 998995.87samples/s]\n"
     ]
    },
    {
     "name": "stdout",
     "output_type": "stream",
     "text": [
      "\n",
      "🎯 测试结果：\n",
      "Accuracy = 0.6617\n",
      "Precision = 0.6817\n",
      "Recall = 0.7058\n",
      "F1-Score = 0.6935\n",
      "Testing model rnn on NSL-KDD-Binomial.csv\n",
      "✅ 加载测试数据: NSL-KDD-Binomial.csv\n",
      "Label Encoding 完成...\n",
      "标准化数值特征完成...\n",
      "✅ 加载模型参数: model_checkpoints/RNN_IDS/RNN_IDS_epoch10.pt\n",
      "🚀 开始预测...\n"
     ]
    },
    {
     "name": "stderr",
     "output_type": "stream",
     "text": [
      "Predicting: 100%|██████████| 9999/9999 [00:00<00:00, 703943.56samples/s]\n"
     ]
    },
    {
     "name": "stdout",
     "output_type": "stream",
     "text": [
      "\n",
      "🎯 测试结果：\n",
      "Accuracy = 0.8942\n",
      "Precision = 0.9026\n",
      "Recall = 0.9023\n",
      "F1-Score = 0.9025\n",
      "Testing model rnn on NSL-KDD-Beta.csv\n",
      "✅ 加载测试数据: NSL-KDD-Beta.csv\n",
      "Label Encoding 完成...\n",
      "标准化数值特征完成...\n",
      "✅ 加载模型参数: model_checkpoints/RNN_IDS/RNN_IDS_epoch10.pt\n",
      "🚀 开始预测...\n"
     ]
    },
    {
     "name": "stderr",
     "output_type": "stream",
     "text": [
      "Predicting: 100%|██████████| 9999/9999 [00:00<00:00, 730616.45samples/s]\n"
     ]
    },
    {
     "name": "stdout",
     "output_type": "stream",
     "text": [
      "\n",
      "🎯 测试结果：\n",
      "Accuracy = 0.8106\n",
      "Precision = 0.8809\n",
      "Recall = 0.7526\n",
      "F1-Score = 0.8117\n",
      "Testing model rnn on NSL-KDD-Cauchy.csv\n",
      "✅ 加载测试数据: NSL-KDD-Cauchy.csv\n",
      "Label Encoding 完成...\n",
      "标准化数值特征完成...\n",
      "✅ 加载模型参数: model_checkpoints/RNN_IDS/RNN_IDS_epoch10.pt\n",
      "🚀 开始预测...\n"
     ]
    },
    {
     "name": "stderr",
     "output_type": "stream",
     "text": [
      "Predicting: 100%|██████████| 9999/9999 [00:00<00:00, 966778.37samples/s]"
     ]
    },
    {
     "name": "stdout",
     "output_type": "stream",
     "text": [
      "\n",
      "🎯 测试结果：\n",
      "Accuracy = 0.6574\n",
      "Precision = 0.6346\n",
      "Recall = 0.8682\n",
      "F1-Score = 0.7333\n"
     ]
    },
    {
     "name": "stderr",
     "output_type": "stream",
     "text": [
      "\n"
     ]
    },
    {
     "name": "stdout",
     "output_type": "stream",
     "text": [
      "Testing model: lstm\n",
      "Testing model lstm on NSL_KDD_test_split.csv\n",
      "✅ 加载测试数据: NSL_KDD_test_split.csv\n",
      "Label Encoding 完成...\n",
      "标准化数值特征完成...\n",
      "✅ 加载模型参数: model_checkpoints/LSTM_IDS/LSTM_IDS_epoch10.pt\n",
      "🚀 开始预测...\n"
     ]
    },
    {
     "name": "stderr",
     "output_type": "stream",
     "text": [
      "Predicting: 100%|██████████| 9999/9999 [00:00<00:00, 997261.75samples/s]\n"
     ]
    },
    {
     "name": "stdout",
     "output_type": "stream",
     "text": [
      "\n",
      "🎯 测试结果：\n",
      "Accuracy = 0.9918\n",
      "Precision = 0.9915\n",
      "Recall = 0.9934\n",
      "F1-Score = 0.9924\n",
      "Testing model lstm on NSL-KDD-Gaussian.csv\n",
      "✅ 加载测试数据: NSL-KDD-Gaussian.csv\n",
      "Label Encoding 完成...\n",
      "标准化数值特征完成...\n",
      "✅ 加载模型参数: model_checkpoints/LSTM_IDS/LSTM_IDS_epoch10.pt\n",
      "🚀 开始预测...\n"
     ]
    },
    {
     "name": "stderr",
     "output_type": "stream",
     "text": [
      "Predicting: 100%|██████████| 9999/9999 [00:00<00:00, 584366.93samples/s]\n"
     ]
    },
    {
     "name": "stdout",
     "output_type": "stream",
     "text": [
      "\n",
      "🎯 测试结果：\n",
      "Accuracy = 0.5404\n",
      "Precision = 0.5751\n",
      "Recall = 0.5848\n",
      "F1-Score = 0.5799\n",
      "Testing model lstm on NSL-KDD-Uniform.csv\n",
      "✅ 加载测试数据: NSL-KDD-Uniform.csv\n",
      "Label Encoding 完成...\n",
      "标准化数值特征完成...\n",
      "✅ 加载模型参数: model_checkpoints/LSTM_IDS/LSTM_IDS_epoch10.pt\n",
      "🚀 开始预测...\n"
     ]
    },
    {
     "name": "stderr",
     "output_type": "stream",
     "text": [
      "Predicting: 100%|██████████| 9999/9999 [00:00<00:00, 473110.11samples/s]"
     ]
    },
    {
     "name": "stdout",
     "output_type": "stream",
     "text": [
      "\n",
      "🎯 测试结果：\n",
      "Accuracy = 0.5304\n",
      "Precision = 0.5668\n",
      "Recall = 0.5697\n",
      "F1-Score = 0.5682\n",
      "Testing model lstm on NSL-KDD-Laplace.csv\n",
      "✅ 加载测试数据: NSL-KDD-Laplace.csv\n"
     ]
    },
    {
     "name": "stderr",
     "output_type": "stream",
     "text": [
      "\n"
     ]
    },
    {
     "name": "stdout",
     "output_type": "stream",
     "text": [
      "Label Encoding 完成...\n",
      "标准化数值特征完成...\n",
      "✅ 加载模型参数: model_checkpoints/LSTM_IDS/LSTM_IDS_epoch10.pt\n",
      "🚀 开始预测...\n"
     ]
    },
    {
     "name": "stderr",
     "output_type": "stream",
     "text": [
      "Predicting: 100%|██████████| 9999/9999 [00:00<00:00, 493857.18samples/s]\n"
     ]
    },
    {
     "name": "stdout",
     "output_type": "stream",
     "text": [
      "\n",
      "🎯 测试结果：\n",
      "Accuracy = 0.5444\n",
      "Precision = 0.5791\n",
      "Recall = 0.5861\n",
      "F1-Score = 0.5826\n",
      "Testing model lstm on NSL-KDD-Gamma.csv\n",
      "✅ 加载测试数据: NSL-KDD-Gamma.csv\n",
      "Label Encoding 完成...\n",
      "标准化数值特征完成...\n",
      "✅ 加载模型参数: model_checkpoints/LSTM_IDS/LSTM_IDS_epoch10.pt\n",
      "🚀 开始预测...\n"
     ]
    },
    {
     "name": "stderr",
     "output_type": "stream",
     "text": [
      "Predicting: 100%|██████████| 9999/9999 [00:00<00:00, 654966.98samples/s]"
     ]
    },
    {
     "name": "stdout",
     "output_type": "stream",
     "text": [
      "\n",
      "🎯 测试结果：\n",
      "Accuracy = 0.6007\n",
      "Precision = 0.6285\n",
      "Recall = 0.6451\n",
      "F1-Score = 0.6367\n"
     ]
    },
    {
     "name": "stderr",
     "output_type": "stream",
     "text": [
      "\n"
     ]
    },
    {
     "name": "stdout",
     "output_type": "stream",
     "text": [
      "Testing model lstm on NSL-KDD-Poisson.csv\n",
      "✅ 加载测试数据: NSL-KDD-Poisson.csv\n",
      "Label Encoding 完成...\n",
      "标准化数值特征完成...\n",
      "✅ 加载模型参数: model_checkpoints/LSTM_IDS/LSTM_IDS_epoch10.pt\n",
      "🚀 开始预测...\n"
     ]
    },
    {
     "name": "stderr",
     "output_type": "stream",
     "text": [
      "Predicting: 100%|██████████| 9999/9999 [00:00<00:00, 554665.93samples/s]\n"
     ]
    },
    {
     "name": "stdout",
     "output_type": "stream",
     "text": [
      "\n",
      "🎯 测试结果：\n",
      "Accuracy = 0.6805\n",
      "Precision = 0.6923\n",
      "Recall = 0.7399\n",
      "F1-Score = 0.7153\n",
      "Testing model lstm on NSL-KDD-Binomial.csv\n",
      "✅ 加载测试数据: NSL-KDD-Binomial.csv\n",
      "Label Encoding 完成...\n",
      "标准化数值特征完成...\n",
      "✅ 加载模型参数: model_checkpoints/LSTM_IDS/LSTM_IDS_epoch10.pt\n",
      "🚀 开始预测...\n"
     ]
    },
    {
     "name": "stderr",
     "output_type": "stream",
     "text": [
      "Predicting: 100%|██████████| 9999/9999 [00:00<00:00, 489522.32samples/s]\n"
     ]
    },
    {
     "name": "stdout",
     "output_type": "stream",
     "text": [
      "\n",
      "🎯 测试结果：\n",
      "Accuracy = 0.8996\n",
      "Precision = 0.9064\n",
      "Recall = 0.9087\n",
      "F1-Score = 0.9076\n",
      "Testing model lstm on NSL-KDD-Beta.csv\n",
      "✅ 加载测试数据: NSL-KDD-Beta.csv\n",
      "Label Encoding 完成...\n",
      "标准化数值特征完成...\n",
      "✅ 加载模型参数: model_checkpoints/LSTM_IDS/LSTM_IDS_epoch10.pt\n",
      "🚀 开始预测...\n"
     ]
    },
    {
     "name": "stderr",
     "output_type": "stream",
     "text": [
      "Predicting: 100%|██████████| 9999/9999 [00:00<00:00, 526770.65samples/s]"
     ]
    },
    {
     "name": "stdout",
     "output_type": "stream",
     "text": [
      "\n",
      "🎯 测试结果：\n",
      "Accuracy = 0.8444\n",
      "Precision = 0.9284\n",
      "Recall = 0.7727\n",
      "F1-Score = 0.8434\n"
     ]
    },
    {
     "name": "stderr",
     "output_type": "stream",
     "text": [
      "\n"
     ]
    },
    {
     "name": "stdout",
     "output_type": "stream",
     "text": [
      "Testing model lstm on NSL-KDD-Cauchy.csv\n",
      "✅ 加载测试数据: NSL-KDD-Cauchy.csv\n",
      "Label Encoding 完成...\n",
      "标准化数值特征完成...\n",
      "✅ 加载模型参数: model_checkpoints/LSTM_IDS/LSTM_IDS_epoch10.pt\n",
      "🚀 开始预测...\n"
     ]
    },
    {
     "name": "stderr",
     "output_type": "stream",
     "text": [
      "Predicting: 100%|██████████| 9999/9999 [00:00<00:00, 415602.32samples/s]"
     ]
    },
    {
     "name": "stdout",
     "output_type": "stream",
     "text": [
      "\n",
      "🎯 测试结果：\n",
      "Accuracy = 0.6759\n",
      "Precision = 0.6423\n",
      "Recall = 0.9084\n",
      "F1-Score = 0.7525\n",
      "\n",
      "Test Results:\n",
      "   Model               Test File  Accuracy  Precision    Recall  F1-score\n",
      "0    dnn  NSL_KDD_test_split.csv  0.991199   0.990441  0.993363  0.991900\n",
      "1    dnn    NSL-KDD-Gaussian.csv  0.538554   0.558391  0.714049  0.626699\n",
      "2    dnn     NSL-KDD-Uniform.csv  0.532253   0.554406  0.701696  0.619416\n",
      "3    dnn     NSL-KDD-Laplace.csv  0.542354   0.561556  0.713127  0.628330\n",
      "4    dnn       NSL-KDD-Gamma.csv  0.597160   0.599430  0.775811  0.676310\n",
      "5    dnn     NSL-KDD-Poisson.csv  0.658166   0.646295  0.816925  0.721661\n",
      "6    dnn    NSL-KDD-Binomial.csv  0.873587   0.848059  0.934366  0.889123\n",
      "7    dnn        NSL-KDD-Beta.csv  0.879888   0.915895  0.857301  0.885630\n",
      "8    dnn      NSL-KDD-Cauchy.csv  0.595760   0.579627  0.927360  0.713374\n",
      "9    cnn  NSL_KDD_test_split.csv  0.993599   0.992466  0.995760  0.994110\n",
      "10   cnn    NSL-KDD-Gaussian.csv  0.509151   0.577993  0.352507  0.437929\n",
      "11   cnn     NSL-KDD-Uniform.csv  0.499350   0.558973  0.365229  0.441793\n",
      "12   cnn     NSL-KDD-Laplace.csv  0.514951   0.592402  0.339233  0.431419\n",
      "13   cnn       NSL-KDD-Gamma.csv  0.588959   0.656280  0.508665  0.573120\n",
      "14   cnn     NSL-KDD-Poisson.csv  0.626563   0.719367  0.510878  0.597456\n",
      "15   cnn    NSL-KDD-Binomial.csv  0.806781   0.922965  0.702434  0.797739\n",
      "16   cnn        NSL-KDD-Beta.csv  0.886189   0.983747  0.803466  0.884514\n",
      "17   cnn      NSL-KDD-Cauchy.csv  0.521052   0.546698  0.685288  0.608198\n",
      "18   rnn  NSL_KDD_test_split.csv  0.991599   0.993166  0.991335  0.992249\n",
      "19   rnn    NSL-KDD-Gaussian.csv  0.531653   0.567523  0.574115  0.570800\n",
      "20   rnn     NSL-KDD-Uniform.csv  0.530353   0.566936  0.568400  0.567667\n",
      "21   rnn     NSL-KDD-Laplace.csv  0.539054   0.575365  0.573562  0.574462\n",
      "22   rnn       NSL-KDD-Gamma.csv  0.589659   0.620860  0.625553  0.623198\n",
      "23   rnn     NSL-KDD-Poisson.csv  0.661666   0.681745  0.705752  0.693541\n",
      "24   rnn    NSL-KDD-Binomial.csv  0.894189   0.902619  0.902286  0.902453\n",
      "25   rnn        NSL-KDD-Beta.csv  0.810581   0.880880  0.752581  0.811692\n",
      "26   rnn      NSL-KDD-Cauchy.csv  0.657366   0.634636  0.868178  0.733261\n",
      "27  lstm  NSL_KDD_test_split.csv  0.991799   0.991535  0.993363  0.992448\n",
      "28  lstm    NSL-KDD-Gaussian.csv  0.540354   0.575054  0.584808  0.579890\n",
      "29  lstm     NSL-KDD-Uniform.csv  0.530353   0.566764  0.569690  0.568224\n",
      "30  lstm     NSL-KDD-Laplace.csv  0.544354   0.579053  0.586099  0.582555\n",
      "31  lstm       NSL-KDD-Gamma.csv  0.600660   0.628525  0.645096  0.636703\n",
      "32  lstm     NSL-KDD-Poisson.csv  0.680468   0.692255  0.739860  0.715266\n",
      "33  lstm    NSL-KDD-Binomial.csv  0.899590   0.906399  0.908739  0.907568\n",
      "34  lstm        NSL-KDD-Beta.csv  0.844384   0.928445  0.772677  0.843429\n",
      "35  lstm      NSL-KDD-Cauchy.csv  0.675868   0.642289  0.908370  0.752501\n"
     ]
    },
    {
     "name": "stderr",
     "output_type": "stream",
     "text": [
      "\n"
     ]
    }
   ],
   "source": [
    "model_names = ['dnn', 'cnn', 'rnn', 'lstm']  # 可更改或扩展模型列表\n",
    "test_files = [\n",
    "        \"NSL_KDD_test_split.csv\",\n",
    "        'NSL-KDD-Gaussian.csv', \n",
    "        'NSL-KDD-Uniform.csv', \n",
    "        'NSL-KDD-Laplace.csv',\n",
    "        'NSL-KDD-Gamma.csv', \n",
    "        'NSL-KDD-Poisson.csv', \n",
    "        'NSL-KDD-Binomial.csv',\n",
    "        'NSL-KDD-Beta.csv', \n",
    "        'NSL-KDD-Cauchy.csv'\n",
    "    ]\n",
    "    \n",
    "results = []\n",
    "    \n",
    "for model_name in model_names:\n",
    "        print(f\"Testing model: {model_name}\")\n",
    "        \n",
    "        # 选择模型\n",
    "        model = choose_model(model_name, input_size=input_size)\n",
    "        \n",
    "        # 遍历所有测试文件\n",
    "        for test_csv_path in test_files:\n",
    "            print(f\"Testing model {model_name} on {test_csv_path}\")\n",
    "            \n",
    "            # 选择对应的 checkpoint 路径\n",
    "            checkpoint_path = f\"model_checkpoints/{model_name.upper()}_IDS/{model_name.upper()}_IDS_epoch10.pt\"\n",
    "            \n",
    "            # 进行测试\n",
    "            acc, precision, recall, f1 = test_model_check(model, checkpoint_path, test_csv_path)\n",
    "            results.append((model_name, test_csv_path, acc, precision, recall, f1))\n",
    "    \n",
    "    # 保存结果到 CSV 文件\n",
    "results_df = pd.DataFrame(results, columns=['Model', 'Test File', 'Accuracy', 'Precision', 'Recall', 'F1-score'])\n",
    "results_df.to_csv('model_test_results-dp.csv', index=False)\n",
    "    \n",
    "# 打印测试结果\n",
    "print(\"\\nTest Results:\")\n",
    "print(results_df)"
   ]
  }
 ],
 "metadata": {
  "kernelspec": {
   "display_name": "Python 3",
   "language": "python",
   "name": "python3"
  },
  "language_info": {
   "codemirror_mode": {
    "name": "ipython",
    "version": 3
   },
   "file_extension": ".py",
   "mimetype": "text/x-python",
   "name": "python",
   "nbconvert_exporter": "python",
   "pygments_lexer": "ipython3",
   "version": "3.9.18"
  }
 },
 "nbformat": 4,
 "nbformat_minor": 2
}
